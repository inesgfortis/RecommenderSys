{
 "cells": [
  {
   "cell_type": "code",
   "execution_count": 22,
   "id": "446c6057",
   "metadata": {},
   "outputs": [],
   "source": [
    "import pickle\n",
    "import random\n",
    "import string"
   ]
  },
  {
   "cell_type": "markdown",
   "id": "c35ad013",
   "metadata": {},
   "source": [
    "# Nuevos usuarios"
   ]
  },
  {
   "cell_type": "markdown",
   "id": "78cd1a61",
   "metadata": {},
   "source": [
    "Vamos a asociar un nombre de usuario y contraseña a cada uno de los userIds existentes en el dataset de ratings"
   ]
  },
  {
   "cell_type": "code",
   "execution_count": null,
   "id": "9a8f1365",
   "metadata": {
    "scrolled": true
   },
   "outputs": [],
   "source": [
    "def create_user_password_dict(num_users):\n",
    "    users = {}\n",
    "    for i in range(num_users):\n",
    "        user = f\"user{i + 1}\"\n",
    "        password = ''.join(random.choices(string.ascii_letters + string.digits, k=12))\n",
    "        users[i + 1] = {\"user\": user, \"password\": password}\n",
    "    return users\n",
    "\n",
    "num_users = 610\n",
    "user_password_dict = create_user_password_dict(num_users)\n",
    "\n",
    "# Show users' information\n",
    "for user_id, data in user_password_dict.items():\n",
    "    print(f\"ID: {user_id} | User: {data['user']} | Password: {data['password']}\")\n"
   ]
  },
  {
   "cell_type": "code",
   "execution_count": null,
   "id": "160c7dca",
   "metadata": {
    "scrolled": false
   },
   "outputs": [],
   "source": [
    "# Change the password of users 1 and 4\n",
    "user_password_dict[1][\"password\"] = \"123\"\n",
    "user_password_dict[4][\"password\"] = \"456\"\n",
    "\n",
    "# # Show users' information\n",
    "# for user_id, data in user_password.items():\n",
    "#     print(f\"ID: {user_id} | User: {data['user']} | Password: {data['password']}\")"
   ]
  },
  {
   "cell_type": "code",
   "execution_count": null,
   "id": "da59bf53",
   "metadata": {},
   "outputs": [],
   "source": [
    "# Save the dictionary\n",
    "with open(\"user_password_dict.pkl\", 'wb') as file:\n",
    "        pickle.dump(user_password_dict, file)"
   ]
  },
  {
   "cell_type": "markdown",
   "id": "c5279695",
   "metadata": {},
   "source": [
    "Añadir nuevos usuarios a la base de datos"
   ]
  },
  {
   "cell_type": "code",
   "execution_count": null,
   "id": "1496b50a",
   "metadata": {},
   "outputs": [],
   "source": [
    "def add_new_user(username, password, users):\n",
    "    for data in users.values():\n",
    "        if data[\"user\"] == username:\n",
    "            print(f\"El nombre de usuario '{username}' ya está en uso.\")\n",
    "            return\n",
    "\n",
    "    # Obtener el último ID existente y aumentarlo en 1\n",
    "    last_id = max(users.keys())\n",
    "    new_id = last_id + 1\n",
    "\n",
    "    # Agregar el nuevo usuario al diccionario\n",
    "    users[new_id] = {\"user\": username, \"password\": password}\n",
    "    print(f\"Nuevo usuario agregado: ID: {new_id} | User: {username} | Password: {password}\")\n",
    "\n",
    "# Ejemplo de uso\n",
    "username = input(\"Introduce el nombre de usuario: \")\n",
    "password = input(\"Introduce la contraseña: \")\n",
    "\n",
    "add_new_user(username, password, user_password_dict)"
   ]
  },
  {
   "cell_type": "code",
   "execution_count": null,
   "id": "b7cfd13f",
   "metadata": {},
   "outputs": [],
   "source": [
    "user_password_dict"
   ]
  },
  {
   "cell_type": "code",
   "execution_count": null,
   "id": "ef2b5a21",
   "metadata": {},
   "outputs": [],
   "source": [
    "existing_usernames = [user['user'] for user in user_password_dict.values()]\n",
    "existing_usernames"
   ]
  },
  {
   "cell_type": "code",
   "execution_count": null,
   "id": "e1687d70",
   "metadata": {},
   "outputs": [],
   "source": [
    "def existing_username(username,user_password_dict):\n",
    "    return username in [user['user'] for user in user_password_dict.values()]\n",
    "\n",
    "existing_username(\"user5555\",user_password_dict)"
   ]
  },
  {
   "cell_type": "code",
   "execution_count": null,
   "id": "695eb336",
   "metadata": {},
   "outputs": [],
   "source": []
  },
  {
   "cell_type": "code",
   "execution_count": null,
   "id": "1e0d7c06",
   "metadata": {},
   "outputs": [],
   "source": [
    "# Load user-password database\n",
    "with open('user_password_dict.pkl', 'rb') as file:\n",
    "    user_password_dict = pickle.load(file)"
   ]
  },
  {
   "cell_type": "code",
   "execution_count": null,
   "id": "8f9fa4e1",
   "metadata": {},
   "outputs": [],
   "source": [
    "user_password_dict"
   ]
  },
  {
   "cell_type": "code",
   "execution_count": null,
   "id": "c2e3266c",
   "metadata": {},
   "outputs": [],
   "source": []
  },
  {
   "cell_type": "markdown",
   "id": "ca6819bc",
   "metadata": {},
   "source": [
    "## Obtener las películas con mayor número de valoraciones"
   ]
  },
  {
   "cell_type": "code",
   "execution_count": 14,
   "id": "297910f0",
   "metadata": {},
   "outputs": [],
   "source": [
    "import os\n",
    "os.chdir('../movies')\n",
    "from movieLens import MovieLens\n",
    "\n",
    "ml = MovieLens()\n",
    "ratings = ml.ratings.copy()"
   ]
  },
  {
   "cell_type": "code",
   "execution_count": 26,
   "id": "d00e6f9c",
   "metadata": {
    "scrolled": true
   },
   "outputs": [
    {
     "data": {
      "text/plain": [
       "['Forrest Gump',\n",
       " 'Shawshank Redemption, The',\n",
       " 'Pulp Fiction',\n",
       " 'Silence of the Lambs, The',\n",
       " 'Matrix, The',\n",
       " 'Star Wars: Episode IV - A New Hope',\n",
       " 'Jurassic Park',\n",
       " 'Braveheart',\n",
       " 'Terminator 2: Judgment Day',\n",
       " \"Schindler's List\",\n",
       " 'Fight Club',\n",
       " 'Toy Story',\n",
       " 'Star Wars: Episode V - The Empire Strikes Back',\n",
       " 'Usual Suspects, The',\n",
       " 'American Beauty']"
      ]
     },
     "execution_count": 26,
     "metadata": {},
     "output_type": "execute_result"
    }
   ],
   "source": [
    "k = 15\n",
    "top_movies = ratings.groupby('movieId').size().nlargest(k).index.tolist()\n",
    "top_movies_titles = [ml.movieID_to_name.get(movie_id, 'Unknown') for movie_id in top_movies]\n",
    "top_movies_titles"
   ]
  },
  {
   "cell_type": "markdown",
   "id": "4cd8d65f",
   "metadata": {},
   "source": [
    "Vamos a adaptar el nombre de las películas para que sea más sencillo de leer"
   ]
  },
  {
   "cell_type": "code",
   "execution_count": 27,
   "id": "c88b986d",
   "metadata": {},
   "outputs": [],
   "source": [
    "top_movies_titles = ['Forrest Gump',\n",
    " 'The Shawshank Redemption',\n",
    " 'Pulp Fiction',\n",
    " 'The Silence of the Lambs',\n",
    " 'The Matrix',\n",
    " 'Star Wars: Episode IV - A New Hope',\n",
    " 'Jurassic Park',\n",
    " 'Braveheart',\n",
    " 'Terminator 2: Judgment Day',\n",
    " \"Schindler's List\",\n",
    " 'Fight Club',\n",
    " 'Toy Story',\n",
    " 'Star Wars: Episode V - The Empire Strikes Back',\n",
    " 'The Usual Suspects',\n",
    " 'American Beauty']"
   ]
  },
  {
   "cell_type": "code",
   "execution_count": 28,
   "id": "f38ed1c9",
   "metadata": {},
   "outputs": [
    {
     "data": {
      "text/plain": [
       "{356: 'Forrest Gump',\n",
       " 318: 'The Shawshank Redemption',\n",
       " 296: 'Pulp Fiction',\n",
       " 593: 'The Silence of the Lambs',\n",
       " 2571: 'The Matrix',\n",
       " 260: 'Star Wars: Episode IV - A New Hope',\n",
       " 480: 'Jurassic Park',\n",
       " 110: 'Braveheart',\n",
       " 589: 'Terminator 2: Judgment Day',\n",
       " 527: \"Schindler's List\",\n",
       " 2959: 'Fight Club',\n",
       " 1: 'Toy Story',\n",
       " 1196: 'Star Wars: Episode V - The Empire Strikes Back',\n",
       " 50: 'The Usual Suspects',\n",
       " 2858: 'American Beauty'}"
      ]
     },
     "execution_count": 28,
     "metadata": {},
     "output_type": "execute_result"
    }
   ],
   "source": [
    "top_movies_dict = {}\n",
    "for movie_id, movie_title in zip(top_movies, top_movies_titles):\n",
    "    top_movies_dict[movie_id] = movie_title\n",
    "    \n",
    "top_movies_dict"
   ]
  },
  {
   "cell_type": "code",
   "execution_count": 29,
   "id": "fc15f652",
   "metadata": {},
   "outputs": [],
   "source": [
    "# Save the dictionary\n",
    "with open(\"../dashboard/top_movies_dict.pkl\", 'wb') as file:\n",
    "        pickle.dump(top_movies_dict, file)"
   ]
  },
  {
   "cell_type": "code",
   "execution_count": 30,
   "id": "7e1cb7c4",
   "metadata": {
    "scrolled": true
   },
   "outputs": [
    {
     "name": "stdout",
     "output_type": "stream",
     "text": [
      "0\n",
      "Forrest Gump\n",
      "1\n",
      "The Shawshank Redemption\n",
      "2\n",
      "Pulp Fiction\n",
      "3\n",
      "The Silence of the Lambs\n",
      "4\n",
      "The Matrix\n",
      "5\n",
      "Star Wars: Episode IV - A New Hope\n",
      "6\n",
      "Jurassic Park\n",
      "7\n",
      "Braveheart\n",
      "8\n",
      "Terminator 2: Judgment Day\n",
      "9\n",
      "Schindler's List\n",
      "10\n",
      "Fight Club\n",
      "11\n",
      "Toy Story\n",
      "12\n",
      "Star Wars: Episode V - The Empire Strikes Back\n",
      "13\n",
      "The Usual Suspects\n",
      "14\n",
      "American Beauty\n"
     ]
    }
   ],
   "source": [
    "for i, pelicula in enumerate(top_movies_dict.values()):\n",
    "    print(i)\n",
    "    print(pelicula)"
   ]
  },
  {
   "cell_type": "code",
   "execution_count": 32,
   "id": "e0cf0139",
   "metadata": {},
   "outputs": [
    {
     "data": {
      "text/plain": [
       "611"
      ]
     },
     "execution_count": 32,
     "metadata": {},
     "output_type": "execute_result"
    }
   ],
   "source": [
    "ratings['userId'].max()+1"
   ]
  },
  {
   "cell_type": "code",
   "execution_count": 36,
   "id": "4eb26554",
   "metadata": {},
   "outputs": [
    {
     "data": {
      "text/plain": [
       "{1: 0,\n",
       " 2: 0,\n",
       " 3: 2.5,\n",
       " 4: 0,\n",
       " 5: 0,\n",
       " 6: 0,\n",
       " 7: 2,\n",
       " 8: 0,\n",
       " 9: 0,\n",
       " 10: 0,\n",
       " 11: 2.5,\n",
       " 12: 0,\n",
       " 13: 0,\n",
       " 14: 0,\n",
       " 15: 5}"
      ]
     },
     "execution_count": 36,
     "metadata": {},
     "output_type": "execute_result"
    }
   ],
   "source": [
    "# Load user-password database\n",
    "with open('../dashboard/valores_slider.pkl', 'rb') as file:\n",
    "    valores_slider = pickle.load(file)\n",
    "valores_slider"
   ]
  },
  {
   "cell_type": "code",
   "execution_count": null,
   "id": "4967a8a6",
   "metadata": {},
   "outputs": [],
   "source": []
  },
  {
   "cell_type": "markdown",
   "id": "12e9491e",
   "metadata": {},
   "source": [
    "## Recomendaciones"
   ]
  },
  {
   "cell_type": "code",
   "execution_count": null,
   "id": "f31cbe59",
   "metadata": {},
   "outputs": [],
   "source": [
    "import os\n",
    "os.chdir('../movies')\n",
    "from movieLens import MovieLens\n",
    "\n",
    "ml = MovieLens()\n",
    "name_to_movieID = ml.name_to_movieID.copy()\n",
    "\n",
    "with open(\"../dashboard/name_to_movieID.pkl\", 'wb') as file:\n",
    "        pickle.dump(name_to_movieID, file)"
   ]
  },
  {
   "cell_type": "code",
   "execution_count": null,
   "id": "e5dda2d1",
   "metadata": {},
   "outputs": [],
   "source": [
    "name_to_movieID"
   ]
  },
  {
   "cell_type": "code",
   "execution_count": null,
   "id": "f5d78bb2",
   "metadata": {
    "scrolled": true
   },
   "outputs": [],
   "source": [
    "name_to_movieID['Toy Story']"
   ]
  },
  {
   "cell_type": "code",
   "execution_count": null,
   "id": "13ffbd55",
   "metadata": {},
   "outputs": [],
   "source": []
  },
  {
   "cell_type": "code",
   "execution_count": null,
   "id": "72cf1a2b",
   "metadata": {},
   "outputs": [],
   "source": []
  },
  {
   "cell_type": "code",
   "execution_count": 12,
   "id": "1e437212",
   "metadata": {},
   "outputs": [
    {
     "name": "stdout",
     "output_type": "stream",
     "text": [
      "<built-in function getcwd>\n",
      "images/1.jpg\n",
      "dentro\n",
      "images/2.jpg\n",
      "dentro\n",
      "images/3.jpg\n",
      "dentro\n",
      "images/4.jpg\n",
      "dentro\n",
      "images/5.jpg\n",
      "dentro\n",
      "images/6.jpg\n",
      "dentro\n",
      "images/7.jpg\n",
      "dentro\n",
      "images/8.jpg\n",
      "dentro\n",
      "images/9.jpg\n",
      "dentro\n",
      "images/10.jpg\n",
      "dentro\n"
     ]
    },
    {
     "data": {
      "text/plain": [
       "['images/1.jpg',\n",
       " 'images/2.jpg',\n",
       " 'images/3.jpg',\n",
       " 'images/4.jpg',\n",
       " 'images/5.jpg',\n",
       " 'images/6.jpg',\n",
       " 'images/7.jpg',\n",
       " 'images/8.jpg',\n",
       " 'images/9.jpg',\n",
       " 'images/10.jpg']"
      ]
     },
     "execution_count": 12,
     "metadata": {},
     "output_type": "execute_result"
    }
   ],
   "source": [
    "# Números de películas a mostrar\n",
    "import os\n",
    "print(os.getcwd)\n",
    "\n",
    "movie_numbers = [1, 2, 3, 4, 5, 6, 7, 8, 9, 10]\n",
    "\n",
    "def get_movie_images(numbers):\n",
    "    image_folder = \"images/\"\n",
    "    movie_images = []\n",
    "\n",
    "    for number in numbers:\n",
    "        image_path = os.path.join(image_folder, f\"{number}.jpg\")\n",
    "        print(image_path)\n",
    "        if os.path.isfile(image_path):\n",
    "            print(\"dentro\")\n",
    "            movie_images.append(image_path)\n",
    "\n",
    "    return movie_images\n",
    "\n",
    "# Obtener las rutas de las imágenes de las películas\n",
    "movie_images = get_movie_images(movie_numbers)\n",
    "movie_images"
   ]
  },
  {
   "cell_type": "code",
   "execution_count": 13,
   "id": "31d5752c",
   "metadata": {},
   "outputs": [
    {
     "name": "stdout",
     "output_type": "stream",
     "text": [
      "2.11.1\n"
     ]
    }
   ],
   "source": []
  },
  {
   "cell_type": "code",
   "execution_count": null,
   "id": "1fe0ae45",
   "metadata": {},
   "outputs": [],
   "source": []
  }
 ],
 "metadata": {
  "kernelspec": {
   "display_name": "Python 3 (ipykernel)",
   "language": "python",
   "name": "python3"
  },
  "language_info": {
   "codemirror_mode": {
    "name": "ipython",
    "version": 3
   },
   "file_extension": ".py",
   "mimetype": "text/x-python",
   "name": "python",
   "nbconvert_exporter": "python",
   "pygments_lexer": "ipython3",
   "version": "3.9.16"
  }
 },
 "nbformat": 4,
 "nbformat_minor": 5
}

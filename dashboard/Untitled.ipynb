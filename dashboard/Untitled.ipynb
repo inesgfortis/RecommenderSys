{
 "cells": [
  {
   "cell_type": "code",
   "execution_count": null,
   "id": "6c957084",
   "metadata": {},
   "outputs": [],
   "source": [
    "import pickle\n",
    "import random\n",
    "import string"
   ]
  },
  {
   "cell_type": "markdown",
   "id": "a5bcd735",
   "metadata": {},
   "source": [
    "## Nuevos usuarios"
   ]
  },
  {
   "cell_type": "markdown",
   "id": "36c9a138",
   "metadata": {},
   "source": [
    "Vamos a asociar un nombre de usuario y contraseña a cada uno de los userIds existentes en el dataset de ratings"
   ]
  },
  {
   "cell_type": "code",
   "execution_count": null,
   "id": "22097fa5",
   "metadata": {
    "scrolled": true
   },
   "outputs": [],
   "source": [
    "def create_user_password_dict(num_users):\n",
    "    users = {}\n",
    "    for i in range(num_users):\n",
    "        user = f\"user{i + 1}\"\n",
    "        password = ''.join(random.choices(string.ascii_letters + string.digits, k=12))\n",
    "        users[i + 1] = {\"user\": user, \"password\": password}\n",
    "    return users\n",
    "\n",
    "num_users = 610\n",
    "user_password_dict = create_user_password_dict(num_users)\n",
    "\n",
    "# Show users' information\n",
    "for user_id, data in user_password_dict.items():\n",
    "    print(f\"ID: {user_id} | User: {data['user']} | Password: {data['password']}\")\n"
   ]
  },
  {
   "cell_type": "code",
   "execution_count": null,
   "id": "1acc6b02",
   "metadata": {
    "scrolled": false
   },
   "outputs": [],
   "source": [
    "# Change the password of users 1 and 4\n",
    "user_password_dict[1][\"password\"] = \"123\"\n",
    "user_password_dict[4][\"password\"] = \"456\"\n",
    "\n",
    "# # Show users' information\n",
    "# for user_id, data in user_password.items():\n",
    "#     print(f\"ID: {user_id} | User: {data['user']} | Password: {data['password']}\")"
   ]
  },
  {
   "cell_type": "code",
   "execution_count": null,
   "id": "43a35c2e",
   "metadata": {},
   "outputs": [],
   "source": [
    "# Save the dictionary\n",
    "with open(\"user_password_dict.pkl\", 'wb') as file:\n",
    "        pickle.dump(user_password_dict, file)"
   ]
  },
  {
   "cell_type": "markdown",
   "id": "69cbacb1",
   "metadata": {},
   "source": [
    "Añadir nuevos usuarios a la base de datos"
   ]
  },
  {
   "cell_type": "code",
   "execution_count": null,
   "id": "b049e7bd",
   "metadata": {},
   "outputs": [],
   "source": [
    "def add_new_user(username, password, users):\n",
    "    for data in users.values():\n",
    "        if data[\"user\"] == username:\n",
    "            print(f\"El nombre de usuario '{username}' ya está en uso.\")\n",
    "            return\n",
    "\n",
    "    # Obtener el último ID existente y aumentarlo en 1\n",
    "    last_id = max(users.keys())\n",
    "    new_id = last_id + 1\n",
    "\n",
    "    # Agregar el nuevo usuario al diccionario\n",
    "    users[new_id] = {\"user\": username, \"password\": password}\n",
    "    print(f\"Nuevo usuario agregado: ID: {new_id} | User: {username} | Password: {password}\")\n",
    "\n",
    "# Ejemplo de uso\n",
    "username = input(\"Introduce el nombre de usuario: \")\n",
    "password = input(\"Introduce la contraseña: \")\n",
    "\n",
    "add_new_user(username, password, user_password_dict)"
   ]
  },
  {
   "cell_type": "code",
   "execution_count": null,
   "id": "4e0498cd",
   "metadata": {},
   "outputs": [],
   "source": [
    "user_password_dict"
   ]
  },
  {
   "cell_type": "code",
   "execution_count": null,
   "id": "1854c324",
   "metadata": {},
   "outputs": [],
   "source": [
    "existing_usernames = [user['user'] for user in user_password_dict.values()]\n",
    "existing_usernames"
   ]
  },
  {
   "cell_type": "code",
   "execution_count": null,
   "id": "f360d39f",
   "metadata": {},
   "outputs": [],
   "source": [
    "def existing_username(username,user_password_dict):\n",
    "    return username in [user['user'] for user in user_password_dict.values()]\n",
    "\n",
    "existing_username(\"user5555\",user_password_dict)"
   ]
  },
  {
   "cell_type": "code",
   "execution_count": null,
   "id": "a4b1568c",
   "metadata": {},
   "outputs": [],
   "source": []
  },
  {
   "cell_type": "code",
   "execution_count": null,
   "id": "eb26617c",
   "metadata": {},
   "outputs": [],
   "source": [
    "# Load user-password database\n",
    "with open('user_password_dict.pkl', 'rb') as file:\n",
    "    user_password_dict = pickle.load(file)"
   ]
  },
  {
   "cell_type": "code",
   "execution_count": null,
   "id": "f36bd6ed",
   "metadata": {},
   "outputs": [],
   "source": [
    "user_password_dict"
   ]
  },
  {
   "cell_type": "code",
   "execution_count": null,
   "id": "e3605153",
   "metadata": {},
   "outputs": [],
   "source": []
  },
  {
   "cell_type": "code",
   "execution_count": null,
   "id": "f0b2bb84",
   "metadata": {},
   "outputs": [],
   "source": []
  },
  {
   "cell_type": "markdown",
   "id": "686cf59e",
   "metadata": {},
   "source": [
    "## Recomendaciones"
   ]
  },
  {
   "cell_type": "code",
   "execution_count": null,
   "id": "6b0436da",
   "metadata": {},
   "outputs": [],
   "source": [
    "import os\n",
    "os.chdir('../movies')\n",
    "from movieLens import MovieLens\n",
    "\n",
    "ml = MovieLens()\n",
    "name_to_movieID = ml.name_to_movieID.copy()\n",
    "\n",
    "with open(\"../dashboard/name_to_movieID.pkl\", 'wb') as file:\n",
    "        pickle.dump(name_to_movieID, file)"
   ]
  },
  {
   "cell_type": "code",
   "execution_count": null,
   "id": "823d8901",
   "metadata": {},
   "outputs": [],
   "source": [
    "name_to_movieID"
   ]
  },
  {
   "cell_type": "code",
   "execution_count": null,
   "id": "a238743d",
   "metadata": {
    "scrolled": true
   },
   "outputs": [],
   "source": [
    "name_to_movieID['Toy Story']"
   ]
  },
  {
   "cell_type": "code",
   "execution_count": null,
   "id": "1fb5577d",
   "metadata": {},
   "outputs": [],
   "source": []
  },
  {
   "cell_type": "code",
   "execution_count": null,
   "id": "56f7a4a0",
   "metadata": {},
   "outputs": [],
   "source": []
  },
  {
   "cell_type": "code",
   "execution_count": 12,
   "id": "7b3e9091",
   "metadata": {},
   "outputs": [
    {
     "name": "stdout",
     "output_type": "stream",
     "text": [
      "<built-in function getcwd>\n",
      "images/1.jpg\n",
      "dentro\n",
      "images/2.jpg\n",
      "dentro\n",
      "images/3.jpg\n",
      "dentro\n",
      "images/4.jpg\n",
      "dentro\n",
      "images/5.jpg\n",
      "dentro\n",
      "images/6.jpg\n",
      "dentro\n",
      "images/7.jpg\n",
      "dentro\n",
      "images/8.jpg\n",
      "dentro\n",
      "images/9.jpg\n",
      "dentro\n",
      "images/10.jpg\n",
      "dentro\n"
     ]
    },
    {
     "data": {
      "text/plain": [
       "['images/1.jpg',\n",
       " 'images/2.jpg',\n",
       " 'images/3.jpg',\n",
       " 'images/4.jpg',\n",
       " 'images/5.jpg',\n",
       " 'images/6.jpg',\n",
       " 'images/7.jpg',\n",
       " 'images/8.jpg',\n",
       " 'images/9.jpg',\n",
       " 'images/10.jpg']"
      ]
     },
     "execution_count": 12,
     "metadata": {},
     "output_type": "execute_result"
    }
   ],
   "source": [
    "# Números de películas a mostrar\n",
    "import os\n",
    "print(os.getcwd)\n",
    "\n",
    "movie_numbers = [1, 2, 3, 4, 5, 6, 7, 8, 9, 10]\n",
    "\n",
    "def get_movie_images(numbers):\n",
    "    image_folder = \"images/\"\n",
    "    movie_images = []\n",
    "\n",
    "    for number in numbers:\n",
    "        image_path = os.path.join(image_folder, f\"{number}.jpg\")\n",
    "        print(image_path)\n",
    "        if os.path.isfile(image_path):\n",
    "            print(\"dentro\")\n",
    "            movie_images.append(image_path)\n",
    "\n",
    "    return movie_images\n",
    "\n",
    "# Obtener las rutas de las imágenes de las películas\n",
    "movie_images = get_movie_images(movie_numbers)\n",
    "movie_images"
   ]
  },
  {
   "cell_type": "code",
   "execution_count": null,
   "id": "5f2a2286",
   "metadata": {},
   "outputs": [],
   "source": []
  },
  {
   "cell_type": "code",
   "execution_count": null,
   "id": "19136463",
   "metadata": {},
   "outputs": [],
   "source": []
  }
 ],
 "metadata": {
  "kernelspec": {
   "display_name": "Python 3 (ipykernel)",
   "language": "python",
   "name": "python3"
  },
  "language_info": {
   "codemirror_mode": {
    "name": "ipython",
    "version": 3
   },
   "file_extension": ".py",
   "mimetype": "text/x-python",
   "name": "python",
   "nbconvert_exporter": "python",
   "pygments_lexer": "ipython3",
   "version": "3.9.16"
  }
 },
 "nbformat": 4,
 "nbformat_minor": 5
}

{
 "cells": [
  {
   "cell_type": "code",
   "execution_count": 1,
   "id": "f962adf1",
   "metadata": {},
   "outputs": [],
   "source": [
    "import pickle\n",
    "import random\n",
    "import string\n",
    "import time\n",
    "import pandas as pd\n",
    "import numpy as np\n",
    "from scipy.spatial.distance import pdist, squareform"
   ]
  },
  {
   "cell_type": "code",
   "execution_count": null,
   "id": "8e5c969c",
   "metadata": {},
   "outputs": [],
   "source": [
    "import os\n",
    "os.chdir('../movies')\n",
    "from movieLens import MovieLens\n",
    "\n",
    "ml = MovieLens()"
   ]
  },
  {
   "cell_type": "markdown",
   "id": "fc7a6590",
   "metadata": {},
   "source": [
    "# Nuevos usuarios"
   ]
  },
  {
   "cell_type": "markdown",
   "id": "6ac6d7cc",
   "metadata": {},
   "source": [
    "Vamos a asociar un nombre de usuario y contraseña a cada uno de los userIds existentes en el dataset de ratings"
   ]
  },
  {
   "cell_type": "code",
   "execution_count": null,
   "id": "d9856256",
   "metadata": {
    "scrolled": true
   },
   "outputs": [],
   "source": [
    "def create_user_password_dict(num_users):\n",
    "    users = {}\n",
    "    for i in range(num_users):\n",
    "        user = f\"user{i + 1}\"\n",
    "        password = ''.join(random.choices(string.ascii_letters + string.digits, k=12))\n",
    "        users[i + 1] = {\"user\": user, \"password\": password}\n",
    "    return users\n",
    "\n",
    "num_users = 610\n",
    "user_password_dict = create_user_password_dict(num_users)\n",
    "\n",
    "# Show users' information\n",
    "for user_id, data in user_password_dict.items():\n",
    "    print(f\"ID: {user_id} | User: {data['user']} | Password: {data['password']}\")\n"
   ]
  },
  {
   "cell_type": "code",
   "execution_count": null,
   "id": "c5dc6f9f",
   "metadata": {
    "scrolled": false
   },
   "outputs": [],
   "source": [
    "# Change the password of users 1 and 4\n",
    "user_password_dict[1][\"password\"] = \"123\"\n",
    "user_password_dict[4][\"password\"] = \"456\"\n",
    "\n",
    "# # Show users' information\n",
    "# for user_id, data in user_password.items():\n",
    "#     print(f\"ID: {user_id} | User: {data['user']} | Password: {data['password']}\")"
   ]
  },
  {
   "cell_type": "code",
   "execution_count": null,
   "id": "e9b1541c",
   "metadata": {},
   "outputs": [],
   "source": [
    "# Save the dictionary\n",
    "with open(\"../dashboard/user_password_dict.pkl\", 'wb') as file:\n",
    "        pickle.dump(user_password_dict, file)"
   ]
  },
  {
   "cell_type": "markdown",
   "id": "d435daec",
   "metadata": {},
   "source": [
    "Añadir nuevos usuarios al diccionario"
   ]
  },
  {
   "cell_type": "code",
   "execution_count": null,
   "id": "be3c3d8f",
   "metadata": {},
   "outputs": [],
   "source": [
    "def add_new_user(username, password, users):\n",
    "    for data in users.values():\n",
    "        if data[\"user\"] == username:\n",
    "            print(f\"El nombre de usuario '{username}' ya está en uso.\")\n",
    "            return\n",
    "\n",
    "    # Obtener el último ID existente y aumentarlo en 1\n",
    "    last_id = max(users.keys())\n",
    "    new_id = last_id + 1\n",
    "\n",
    "    # Agregar el nuevo usuario al diccionario\n",
    "    users[new_id] = {\"user\": username, \"password\": password}\n",
    "    print(f\"Nuevo usuario agregado: ID: {new_id} | User: {username} | Password: {password}\")\n",
    "\n",
    "# Ejemplo de uso\n",
    "username = input(\"Introduce el nombre de usuario: \")\n",
    "password = input(\"Introduce la contraseña: \")\n",
    "\n",
    "add_new_user(username, password, user_password_dict)"
   ]
  },
  {
   "cell_type": "code",
   "execution_count": null,
   "id": "4b5930f4",
   "metadata": {},
   "outputs": [],
   "source": [
    "existing_usernames = [user['user'] for user in user_password_dict.values()]\n",
    "existing_usernames\n",
    "\n",
    "def existing_username(username,user_password_dict):\n",
    "    return username in [user['user'] for user in user_password_dict.values()]\n",
    "\n",
    "existing_username(\"user5555\",user_password_dict)"
   ]
  },
  {
   "cell_type": "code",
   "execution_count": null,
   "id": "94475807",
   "metadata": {},
   "outputs": [],
   "source": []
  },
  {
   "cell_type": "code",
   "execution_count": null,
   "id": "943cde78",
   "metadata": {},
   "outputs": [],
   "source": [
    "# Load user-password database\n",
    "with open('../dashboard/user_password_dict.pkl', 'rb') as file:\n",
    "    user_password_dict = pickle.load(file)"
   ]
  },
  {
   "cell_type": "code",
   "execution_count": null,
   "id": "28b66cd9",
   "metadata": {},
   "outputs": [],
   "source": [
    "user_password_dict"
   ]
  },
  {
   "cell_type": "code",
   "execution_count": null,
   "id": "8963d6a0",
   "metadata": {},
   "outputs": [],
   "source": [
    "def get_user_id(username, user_password_dict):\n",
    "    for user_id, user_data in user_password_dict.items():\n",
    "        if user_data['user'] == username:\n",
    "            return user_id\n",
    "    return None  # Return None if the username is not found\n",
    "\n",
    "user_id = get_user_id('user1', user_password_dict)\n",
    "user_id"
   ]
  },
  {
   "cell_type": "code",
   "execution_count": null,
   "id": "35cd4460",
   "metadata": {},
   "outputs": [],
   "source": []
  },
  {
   "cell_type": "markdown",
   "id": "87950f95",
   "metadata": {},
   "source": [
    "# QUIZ. Obtener las películas con mayor número de valoraciones"
   ]
  },
  {
   "cell_type": "markdown",
   "id": "8a23bfd8",
   "metadata": {},
   "source": [
    "De las 50 películas más valoradas en total, se mostrarán aleatoriamente 15 de ellas a un nuevo usuario tras registrarse con el fin de conocer de forma superficial sus gustos cinematográficos y poder realizar recomendaciones personalizadas"
   ]
  },
  {
   "cell_type": "code",
   "execution_count": null,
   "id": "94492b96",
   "metadata": {},
   "outputs": [],
   "source": [
    "ratings = ml.ratings.copy()\n",
    "ratings.head()"
   ]
  },
  {
   "cell_type": "code",
   "execution_count": null,
   "id": "befcdeba",
   "metadata": {
    "scrolled": true
   },
   "outputs": [],
   "source": [
    "k = 50\n",
    "top_movies = ratings.groupby('movieId').size().nlargest(k).index.tolist()\n",
    "top_movies_titles = [ml.movieID_to_name.get(movie_id, 'Unknown') for movie_id in top_movies]\n",
    "top_movies_titles"
   ]
  },
  {
   "cell_type": "markdown",
   "id": "a0d22557",
   "metadata": {},
   "source": [
    "Vamos a adaptar el nombre de las películas para que sea más sencillo de leer"
   ]
  },
  {
   "cell_type": "code",
   "execution_count": null,
   "id": "0b3f07af",
   "metadata": {},
   "outputs": [],
   "source": [
    "top_movies_titles = ['Forrest Gump',\n",
    " 'The Shawshank Redemption',\n",
    " 'Pulp Fiction',\n",
    " 'The Silence of the Lambs',\n",
    " 'The Matrix',\n",
    " 'Star Wars: Episode IV - A New Hope',\n",
    " 'Jurassic Park',\n",
    " 'Braveheart',\n",
    " 'Terminator 2: Judgment Day',\n",
    " \"Schindler's List\",\n",
    " 'Fight Club',\n",
    " 'Toy Story',\n",
    " 'Star Wars: Episode V',\n",
    " 'The Usual Suspects',\n",
    " 'American Beauty',\n",
    " 'Seven',\n",
    " 'Independence Day',\n",
    " 'Apollo 13',\n",
    " 'Raiders of the Lost Ark',\n",
    " 'The Fellowship of the Ring',\n",
    " 'Star Wars: Episode VI',\n",
    " 'The Godfather',\n",
    " 'The Fugitive',\n",
    " 'Batman',\n",
    " 'Saving Private Ryan',\n",
    " ' The Two Towers',\n",
    " 'The Return of the King',\n",
    " 'Aladdin',\n",
    " 'Fargo',\n",
    " 'The Sixth Sense',\n",
    " 'True Lies',\n",
    " 'Twelve Monkeys',\n",
    " 'The Lion King',\n",
    " 'Speed',\n",
    " 'Back to the Future',\n",
    " 'Gladiator',\n",
    " 'Shrek',\n",
    " 'Men in Black',\n",
    " 'Dances with Wolves',\n",
    " 'Mission: Impossible',\n",
    " 'Ace Ventura: Pet Detective',\n",
    " 'Memento',\n",
    " 'The Mask',\n",
    " 'The Curse of the Black Pearl',\n",
    " 'The Dark Knight',\n",
    " 'Beauty and the Beast',\n",
    " 'Alien',\n",
    " 'Die Hard',\n",
    " 'Die Hard: With a Vengeance',\n",
    " 'Mrs. Doubtfire']"
   ]
  },
  {
   "cell_type": "code",
   "execution_count": null,
   "id": "dc071055",
   "metadata": {
    "scrolled": false
   },
   "outputs": [],
   "source": [
    "top_movies_dict = {}\n",
    "for movie_id, movie_title in zip(top_movies, top_movies_titles):\n",
    "    top_movies_dict[movie_id] = movie_title\n",
    "    \n",
    "top_movies_dict"
   ]
  },
  {
   "cell_type": "code",
   "execution_count": null,
   "id": "6c7d0219",
   "metadata": {},
   "outputs": [],
   "source": [
    "# Save the dictionary\n",
    "with open(\"../dashboard/top_movies_dict.pkl\", 'wb') as file:\n",
    "        pickle.dump(top_movies_dict, file)"
   ]
  },
  {
   "cell_type": "markdown",
   "id": "882d1af7",
   "metadata": {},
   "source": [
    "Seleccionar de manera aleatoria 15 películas entre las 50 posibles"
   ]
  },
  {
   "cell_type": "code",
   "execution_count": null,
   "id": "5bc6fa4d",
   "metadata": {
    "scrolled": true
   },
   "outputs": [],
   "source": [
    "import random\n",
    "\n",
    "def randomly_select_movies(dictionary, quantity):\n",
    "    selected_keys = random.sample(list(dictionary.keys()), quantity)\n",
    "    selected_dictionary = {key: dictionary[key] for key in selected_keys}\n",
    "    return selected_dictionary\n",
    "\n",
    "selected_movies = randomly_select_movies(top_movies_dict, 15)\n",
    "selected_movies"
   ]
  },
  {
   "cell_type": "markdown",
   "id": "812aed91",
   "metadata": {},
   "source": [
    "# Recomendaciones"
   ]
  },
  {
   "cell_type": "code",
   "execution_count": null,
   "id": "20f6dd1d",
   "metadata": {},
   "outputs": [],
   "source": [
    "name_to_movieID = ml.name_to_movieID.copy()\n",
    "\n",
    "with open(\"../dashboard/name_to_movieID.pkl\", 'wb') as file:\n",
    "        pickle.dump(name_to_movieID, file)"
   ]
  },
  {
   "cell_type": "markdown",
   "id": "8ca0ae37",
   "metadata": {},
   "source": [
    "Vamos a ver cuales son las películas mejor valoradas. Para ello primero seleccionamos las 100 películas con mayor número de valoraciones, y entre ellas se seleccionan aquellas con mejor valoración media"
   ]
  },
  {
   "cell_type": "code",
   "execution_count": null,
   "id": "081f7a30",
   "metadata": {
    "scrolled": false
   },
   "outputs": [],
   "source": [
    "most_rated_movies = ratings.groupby('movieId').count().sort_values(by='rating', ascending=False).nlargest(100, 'rating')\n",
    "most_rated_movies = most_rated_movies.reset_index()\n",
    "ids_most_rated_movies = most_rated_movies['movieId']\n",
    "ids_most_rated_movies\n",
    "\n",
    "# Filter the ratings dataframe to obtain the information about the most rated mvoies\n",
    "filtered_df = ratings[ratings['movieId'].isin(ids_most_rated_movies)]\n",
    "\n",
    "# Compute the average rating of the movies\n",
    "sorted_ratings = filtered_df.groupby('movieId').mean('rating').sort_values(by='rating', ascending=False).nlargest(10, 'rating')\n",
    "sorted_ratings = sorted_ratings.reset_index()\n",
    "sorted_movies = sorted_ratings['movieId']\n",
    "\n",
    "\n",
    "sorted_movies_titles = [ml.movieID_to_name.get(movie_id, 'Unknown') for movie_id in sorted_movies]\n",
    "sorted_movies_titles\n",
    "\n",
    "sorted_movies_dict = {}\n",
    "for movie_id, movie_title in zip(sorted_movies, sorted_movies_titles):\n",
    "    sorted_movies_dict[movie_id] = movie_title\n",
    "    \n",
    "sorted_movies_dict"
   ]
  },
  {
   "cell_type": "code",
   "execution_count": null,
   "id": "d9f5ff0f",
   "metadata": {
    "scrolled": true
   },
   "outputs": [],
   "source": [
    "# Common elements in top_movies and sorted_movies\n",
    "list(set(top_movies_titles) & set(sorted_movies_titles))"
   ]
  },
  {
   "cell_type": "markdown",
   "id": "02262390",
   "metadata": {},
   "source": [
    "Las recomendaciones para un nuevo usuario se  obtienen calculando la distancia entre usuarios y seleccionando aquellas recomendaciones que se hagan al usuario con gustos más semejantes al nuevo usuario."
   ]
  },
  {
   "cell_type": "markdown",
   "id": "208efa15",
   "metadata": {},
   "source": [
    "## Cálculo de la distancia entre usuarios"
   ]
  },
  {
   "cell_type": "markdown",
   "id": "9b3fb9bf",
   "metadata": {},
   "source": [
    "En primer lugar vamos a añadir la información del nuevo usuario al conjunto de datos existente"
   ]
  },
  {
   "cell_type": "code",
   "execution_count": null,
   "id": "51ac45f3",
   "metadata": {},
   "outputs": [],
   "source": [
    "ratings = pd.read_csv('../dashboard/ratings.csv')\n",
    "ratings.tail()"
   ]
  },
  {
   "cell_type": "markdown",
   "id": "1b9016ec",
   "metadata": {},
   "source": [
    "Añadir el nuevo usuario a la base de datos"
   ]
  },
  {
   "cell_type": "code",
   "execution_count": null,
   "id": "1aaf3a18",
   "metadata": {
    "scrolled": true
   },
   "outputs": [],
   "source": [
    "# Load new users' info\n",
    "with open('../dashboard/valores_slider.pkl', 'rb') as file:\n",
    "    valores_slider = pickle.load(file)\n",
    "    \n",
    "valores_slider"
   ]
  },
  {
   "cell_type": "code",
   "execution_count": null,
   "id": "2379651f",
   "metadata": {
    "scrolled": true
   },
   "outputs": [],
   "source": [
    "userId = ratings['userId'].max()+1\n",
    "timestamp = int(time.time())\n",
    "\n",
    "# Add the slider information to the ratings dataframe\n",
    "new_ratings = pd.DataFrame.from_dict(valores_slider, orient='index', columns=['rating'])\n",
    "new_ratings.index.name = 'movieId'\n",
    "new_ratings = new_ratings.reset_index()\n",
    "new_ratings['userId'] = userId\n",
    "new_ratings['timestamp'] = timestamp\n",
    "\n",
    "# Reorder the columns in `df_new_ratings` to match the order of the existing DataFrame\n",
    "new_ratings = new_ratings.reindex(columns=ratings.columns)\n",
    "new_ratings"
   ]
  },
  {
   "cell_type": "code",
   "execution_count": null,
   "id": "d7761479",
   "metadata": {},
   "outputs": [],
   "source": [
    "# Concatenate the `ratings` DataFrame and `df_new_ratings` to add the new lines at the end\n",
    "ratings = pd.concat([ratings, new_ratings], ignore_index=True)\n",
    "ratings.to_csv('ratings.csv', index=False)\n",
    "ratings"
   ]
  },
  {
   "cell_type": "code",
   "execution_count": null,
   "id": "6a7d96c0",
   "metadata": {},
   "outputs": [],
   "source": [
    "def add_new_user():\n",
    "    # Load new users' info\n",
    "    with open('../dashboard/valores_slider.pkl', 'rb') as file:\n",
    "        valores_slider = pickle.load(file)\n",
    "        \n",
    "    #ratings = pd.read_csv('ratings.csv')\n",
    "    \n",
    "    userId = ratings['userId'].max()+1\n",
    "    timestamp = int(time.time())\n",
    "    \n",
    "    \n",
    "\n",
    "    # Add the slider information to the ratings dataframe\n",
    "    new_ratings = pd.DataFrame.from_dict(valores_slider, orient='index', columns=['rating'])\n",
    "    new_ratings.index.name = 'movieId'\n",
    "    new_ratings = new_ratings.reset_index()\n",
    "    new_ratings['userId'] = userId\n",
    "    new_ratings['timestamp'] = timestamp\n",
    "\n",
    "    # Reorder the columns in new_ratings to match the order of the ratings DataFrame\n",
    "    new_ratings = new_ratings.reindex(columns=ratings.columns)\n",
    "    \n",
    "    # Concatenate the ratings DataFrame and new_ratings to add the new lines at the end\n",
    "    ratings = pd.concat([ratings, new_ratings], ignore_index=True)\n",
    "    \n",
    "    return ratings\n",
    "    \n",
    "    # Save the updated file\n",
    "    # ratings.to_csv('ratings.csv', index=False)"
   ]
  },
  {
   "cell_type": "code",
   "execution_count": null,
   "id": "44c6cc55",
   "metadata": {
    "scrolled": true
   },
   "outputs": [],
   "source": [
    "def find_most_similar_user(userId, distance_matrix):\n",
    "\n",
    "    user_index = userId-1 # Restamos 1 porque los índices en Python comienzan desde 0\n",
    "\n",
    "    # Calcular la distancia entre el usuario 611 y los demás usuarios\n",
    "    user_distances = distance_matrix[user_index]\n",
    "\n",
    "    # Encontrar el usuario más cercano (excluyendo al usuario mismo)\n",
    "    most_similar_user_index = np.argmin(user_distances[np.nonzero(user_distances)])\n",
    "    most_similar_user = most_similar_user_index + 1  # Sumamos 1 para obtener el índice real\n",
    "\n",
    "    # Imprimir el índice del usuario más parecido\n",
    "    print(\"El usuario más parecido al usuario \"+str(userId)+\" es:\", most_similar_user) \n",
    "    \n",
    "    with open('userId-to-recommend.pkl', 'wb') as archivo:\n",
    "        pickle.dump(most_similar_user, archivo)"
   ]
  },
  {
   "cell_type": "code",
   "execution_count": null,
   "id": "2605b892",
   "metadata": {},
   "outputs": [],
   "source": [
    "def compute_distance_matrix(ratings):\n",
    "    # Create a pivot table\n",
    "    pivot_table = pd.pivot_table(ratings, values='rating', index='userId', columns='movieId')\n",
    "\n",
    "    # Replace NaN values with 0\n",
    "    pivot_table = pivot_table.fillna(0)\n",
    "    \n",
    "    # Compute the distance between users\n",
    "    distances = pdist(pivot_table.values, metric='euclidean')\n",
    "\n",
    "    # Create the distance matrix\n",
    "    distance_matrix = squareform(distances)\n",
    "    most_similar_user_index = find_most_similar_user(ratings['userId'].max(),distance_matrix)"
   ]
  },
  {
   "cell_type": "code",
   "execution_count": null,
   "id": "eb543fe7",
   "metadata": {},
   "outputs": [],
   "source": [
    "compute_distance_matrix(ratings)"
   ]
  },
  {
   "cell_type": "code",
   "execution_count": null,
   "id": "ba803045",
   "metadata": {},
   "outputs": [],
   "source": []
  },
  {
   "cell_type": "code",
   "execution_count": 2,
   "id": "35472b6c",
   "metadata": {},
   "outputs": [
    {
     "data": {
      "text/plain": [
       "[(778, 5.0),\n",
       " (356, 5.0),\n",
       " (4011, 5.0),\n",
       " (260, 5.0),\n",
       " (4973, 5.0),\n",
       " (1237, 5.0),\n",
       " (1204, 5.0),\n",
       " (177593, 5.0),\n",
       " (741, 4.981982623831946),\n",
       " (475, 4.979932392050417)]"
      ]
     },
     "execution_count": 2,
     "metadata": {},
     "output_type": "execute_result"
    }
   ],
   "source": [
    "with open('recommendations.pkl', 'rb') as file:\n",
    "    recommendations = pickle.load(file)\n",
    "recommendations[1]"
   ]
  },
  {
   "cell_type": "code",
   "execution_count": null,
   "id": "31262c2c",
   "metadata": {},
   "outputs": [],
   "source": []
  },
  {
   "cell_type": "code",
   "execution_count": null,
   "id": "c322ac1c",
   "metadata": {},
   "outputs": [],
   "source": []
  },
  {
   "cell_type": "markdown",
   "id": "338accb3",
   "metadata": {},
   "source": [
    "# Recomendaciones usuarios existentes"
   ]
  },
  {
   "cell_type": "code",
   "execution_count": null,
   "id": "c1b69507",
   "metadata": {},
   "outputs": [],
   "source": [
    "with open('../dashboard/recommendations.pkl', 'rb') as file:\n",
    "        recommendations = pickle.load(file)\n",
    "recommendations"
   ]
  },
  {
   "cell_type": "code",
   "execution_count": null,
   "id": "d7dbb2e7",
   "metadata": {},
   "outputs": [],
   "source": [
    "def get_movie_images(userId):\n",
    "\n",
    "    numbers = [item[0] for item in recommendations[userId]]\n",
    "    images = []\n",
    "    for number in numbers:\n",
    "        image_path = f\"{number}.jpg\"\n",
    "        image = html.Img(src=dash.get_asset_url(image_path), style={\"width\": \"110px\", \"height\": \"140px\", \"margin\": \"10px\"})\n",
    "        images.append(image)\n",
    "    return images\n"
   ]
  },
  {
   "cell_type": "code",
   "execution_count": null,
   "id": "2221c9af",
   "metadata": {},
   "outputs": [],
   "source": [
    "def get_user_preferences(userId, k, like=True):\n",
    "\n",
    "    # Filter ratings for the specified userId and sort movies by rating in descending order\n",
    "    user_ratings = ratings[ratings['userId'] == userId].copy()\n",
    "    sorted_movies = user_ratings.sort_values(by='rating', ascending=False)\n",
    "\n",
    "    if like:\n",
    "        # Get the top k movies with highest ratings\n",
    "        movieIds = list(sorted_movies.head(k).copy()['movieId'])\n",
    "    \n",
    "    # Get the top k movies with lowest ratings\n",
    "    else:\n",
    "        movieIds = list(sorted_movies.tail(k).copy()['movieId'])\n",
    "\n",
    "    return movieIds"
   ]
  },
  {
   "cell_type": "code",
   "execution_count": null,
   "id": "45fcc945",
   "metadata": {
    "scrolled": true
   },
   "outputs": [],
   "source": [
    "numbers = get_user_preferences(1, 10, False)\n",
    "numbers"
   ]
  },
  {
   "cell_type": "code",
   "execution_count": null,
   "id": "7eace3ff",
   "metadata": {},
   "outputs": [],
   "source": [
    "with open('../dashboard/recommendations.pkl', 'rb') as file:\n",
    "    recommendations = pickle.load(file)\n",
    "\n",
    "#recommendations"
   ]
  },
  {
   "cell_type": "code",
   "execution_count": null,
   "id": "c2b5c077",
   "metadata": {},
   "outputs": [],
   "source": []
  },
  {
   "cell_type": "code",
   "execution_count": null,
   "id": "33ae7d4e",
   "metadata": {},
   "outputs": [],
   "source": []
  }
 ],
 "metadata": {
  "kernelspec": {
   "display_name": "Python 3 (ipykernel)",
   "language": "python",
   "name": "python3"
  },
  "language_info": {
   "codemirror_mode": {
    "name": "ipython",
    "version": 3
   },
   "file_extension": ".py",
   "mimetype": "text/x-python",
   "name": "python",
   "nbconvert_exporter": "python",
   "pygments_lexer": "ipython3",
   "version": "3.9.16"
  }
 },
 "nbformat": 4,
 "nbformat_minor": 5
}

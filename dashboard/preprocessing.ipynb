{
 "cells": [
  {
   "cell_type": "code",
   "execution_count": 1,
   "id": "5ea848d7",
   "metadata": {},
   "outputs": [],
   "source": [
    "import pickle\n",
    "import random\n",
    "import string"
   ]
  },
  {
   "cell_type": "markdown",
   "id": "0d14806f",
   "metadata": {},
   "source": [
    "# Nuevos usuarios"
   ]
  },
  {
   "cell_type": "markdown",
   "id": "c05c894b",
   "metadata": {},
   "source": [
    "Vamos a asociar un nombre de usuario y contraseña a cada uno de los userIds existentes en el dataset de ratings"
   ]
  },
  {
   "cell_type": "code",
   "execution_count": null,
   "id": "f8801a03",
   "metadata": {
    "scrolled": true
   },
   "outputs": [],
   "source": [
    "def create_user_password_dict(num_users):\n",
    "    users = {}\n",
    "    for i in range(num_users):\n",
    "        user = f\"user{i + 1}\"\n",
    "        password = ''.join(random.choices(string.ascii_letters + string.digits, k=12))\n",
    "        users[i + 1] = {\"user\": user, \"password\": password}\n",
    "    return users\n",
    "\n",
    "num_users = 610\n",
    "user_password_dict = create_user_password_dict(num_users)\n",
    "\n",
    "# Show users' information\n",
    "for user_id, data in user_password_dict.items():\n",
    "    print(f\"ID: {user_id} | User: {data['user']} | Password: {data['password']}\")\n"
   ]
  },
  {
   "cell_type": "code",
   "execution_count": null,
   "id": "44ae6131",
   "metadata": {
    "scrolled": false
   },
   "outputs": [],
   "source": [
    "# Change the password of users 1 and 4\n",
    "user_password_dict[1][\"password\"] = \"123\"\n",
    "user_password_dict[4][\"password\"] = \"456\"\n",
    "\n",
    "# # Show users' information\n",
    "# for user_id, data in user_password.items():\n",
    "#     print(f\"ID: {user_id} | User: {data['user']} | Password: {data['password']}\")"
   ]
  },
  {
   "cell_type": "code",
   "execution_count": null,
   "id": "54b7f987",
   "metadata": {},
   "outputs": [],
   "source": [
    "# Save the dictionary\n",
    "with open(\"user_password_dict.pkl\", 'wb') as file:\n",
    "        pickle.dump(user_password_dict, file)"
   ]
  },
  {
   "cell_type": "markdown",
   "id": "d3916b53",
   "metadata": {},
   "source": [
    "Añadir nuevos usuarios a la base de datos"
   ]
  },
  {
   "cell_type": "code",
   "execution_count": null,
   "id": "1f86c0ea",
   "metadata": {},
   "outputs": [],
   "source": [
    "def add_new_user(username, password, users):\n",
    "    for data in users.values():\n",
    "        if data[\"user\"] == username:\n",
    "            print(f\"El nombre de usuario '{username}' ya está en uso.\")\n",
    "            return\n",
    "\n",
    "    # Obtener el último ID existente y aumentarlo en 1\n",
    "    last_id = max(users.keys())\n",
    "    new_id = last_id + 1\n",
    "\n",
    "    # Agregar el nuevo usuario al diccionario\n",
    "    users[new_id] = {\"user\": username, \"password\": password}\n",
    "    print(f\"Nuevo usuario agregado: ID: {new_id} | User: {username} | Password: {password}\")\n",
    "\n",
    "# Ejemplo de uso\n",
    "username = input(\"Introduce el nombre de usuario: \")\n",
    "password = input(\"Introduce la contraseña: \")\n",
    "\n",
    "add_new_user(username, password, user_password_dict)"
   ]
  },
  {
   "cell_type": "code",
   "execution_count": null,
   "id": "02ee082e",
   "metadata": {},
   "outputs": [],
   "source": [
    "user_password_dict"
   ]
  },
  {
   "cell_type": "code",
   "execution_count": null,
   "id": "46835b14",
   "metadata": {},
   "outputs": [],
   "source": [
    "existing_usernames = [user['user'] for user in user_password_dict.values()]\n",
    "existing_usernames"
   ]
  },
  {
   "cell_type": "code",
   "execution_count": null,
   "id": "2db57db2",
   "metadata": {},
   "outputs": [],
   "source": [
    "def existing_username(username,user_password_dict):\n",
    "    return username in [user['user'] for user in user_password_dict.values()]\n",
    "\n",
    "existing_username(\"user5555\",user_password_dict)"
   ]
  },
  {
   "cell_type": "code",
   "execution_count": null,
   "id": "7c8f304d",
   "metadata": {},
   "outputs": [],
   "source": []
  },
  {
   "cell_type": "code",
   "execution_count": null,
   "id": "08669383",
   "metadata": {},
   "outputs": [],
   "source": [
    "# Load user-password database\n",
    "with open('user_password_dict.pkl', 'rb') as file:\n",
    "    user_password_dict = pickle.load(file)"
   ]
  },
  {
   "cell_type": "code",
   "execution_count": null,
   "id": "ffae8cb0",
   "metadata": {},
   "outputs": [],
   "source": [
    "user_password_dict"
   ]
  },
  {
   "cell_type": "code",
   "execution_count": null,
   "id": "990a022e",
   "metadata": {},
   "outputs": [],
   "source": []
  },
  {
   "cell_type": "markdown",
   "id": "6f29dbae",
   "metadata": {},
   "source": [
    "## Obtener las películas con mayor número de valoraciones"
   ]
  },
  {
   "cell_type": "code",
   "execution_count": 2,
   "id": "57d410ef",
   "metadata": {},
   "outputs": [],
   "source": [
    "import os\n",
    "os.chdir('../movies')\n",
    "from movieLens import MovieLens\n",
    "\n",
    "ml = MovieLens()\n",
    "ratings = ml.ratings.copy()"
   ]
  },
  {
   "cell_type": "code",
   "execution_count": 3,
   "id": "47cb5ad5",
   "metadata": {
    "scrolled": true
   },
   "outputs": [
    {
     "data": {
      "text/plain": [
       "['Forrest Gump',\n",
       " 'Shawshank Redemption, The',\n",
       " 'Pulp Fiction',\n",
       " 'Silence of the Lambs, The',\n",
       " 'Matrix, The',\n",
       " 'Star Wars: Episode IV - A New Hope',\n",
       " 'Jurassic Park',\n",
       " 'Braveheart',\n",
       " 'Terminator 2: Judgment Day',\n",
       " \"Schindler's List\",\n",
       " 'Fight Club',\n",
       " 'Toy Story',\n",
       " 'Star Wars: Episode V - The Empire Strikes Back',\n",
       " 'Usual Suspects, The',\n",
       " 'American Beauty']"
      ]
     },
     "execution_count": 3,
     "metadata": {},
     "output_type": "execute_result"
    }
   ],
   "source": [
    "k = 15\n",
    "top_movies = ratings.groupby('movieId').size().nlargest(k).index.tolist()\n",
    "top_movies_titles = [ml.movieID_to_name.get(movie_id, 'Unknown') for movie_id in top_movies]\n",
    "top_movies_titles"
   ]
  },
  {
   "cell_type": "markdown",
   "id": "1eb0db9e",
   "metadata": {},
   "source": [
    "Vamos a adaptar el nombre de las películas para que sea más sencillo de leer"
   ]
  },
  {
   "cell_type": "code",
   "execution_count": 5,
   "id": "84eddad7",
   "metadata": {},
   "outputs": [],
   "source": [
    "top_movies_titles = ['Forrest Gump',\n",
    " 'The Shawshank Redemption',\n",
    " 'Pulp Fiction',\n",
    " 'The Silence of the Lambs',\n",
    " 'The Matrix',\n",
    " 'Star Wars: Episode IV - A New Hope',\n",
    " 'Jurassic Park',\n",
    " 'Braveheart',\n",
    " 'Terminator 2: Judgment Day',\n",
    " \"Schindler's List\",\n",
    " 'Fight Club',\n",
    " 'Toy Story',\n",
    " 'Star Wars: Episode V',\n",
    " 'The Usual Suspects',\n",
    " 'American Beauty']"
   ]
  },
  {
   "cell_type": "code",
   "execution_count": 6,
   "id": "4bb32c35",
   "metadata": {
    "scrolled": false
   },
   "outputs": [
    {
     "data": {
      "text/plain": [
       "{356: 'Forrest Gump',\n",
       " 318: 'The Shawshank Redemption',\n",
       " 296: 'Pulp Fiction',\n",
       " 593: 'The Silence of the Lambs',\n",
       " 2571: 'The Matrix',\n",
       " 260: 'Star Wars: Episode IV - A New Hope',\n",
       " 480: 'Jurassic Park',\n",
       " 110: 'Braveheart',\n",
       " 589: 'Terminator 2: Judgment Day',\n",
       " 527: \"Schindler's List\",\n",
       " 2959: 'Fight Club',\n",
       " 1: 'Toy Story',\n",
       " 1196: 'Star Wars: Episode V',\n",
       " 50: 'The Usual Suspects',\n",
       " 2858: 'American Beauty'}"
      ]
     },
     "execution_count": 6,
     "metadata": {},
     "output_type": "execute_result"
    }
   ],
   "source": [
    "top_movies_dict = {}\n",
    "for movie_id, movie_title in zip(top_movies, top_movies_titles):\n",
    "    top_movies_dict[movie_id] = movie_title\n",
    "    \n",
    "top_movies_dict"
   ]
  },
  {
   "cell_type": "code",
   "execution_count": 7,
   "id": "437499ab",
   "metadata": {},
   "outputs": [],
   "source": [
    "# Save the dictionary\n",
    "with open(\"../dashboard/top_movies_dict.pkl\", 'wb') as file:\n",
    "        pickle.dump(top_movies_dict, file)"
   ]
  },
  {
   "cell_type": "code",
   "execution_count": null,
   "id": "e95cc1c2",
   "metadata": {
    "scrolled": true
   },
   "outputs": [],
   "source": [
    "for i, pelicula in enumerate(top_movies_dict.values()):\n",
    "    print(i)\n",
    "    print(pelicula)"
   ]
  },
  {
   "cell_type": "code",
   "execution_count": null,
   "id": "6c778360",
   "metadata": {},
   "outputs": [],
   "source": [
    "ratings['userId'].max()+1"
   ]
  },
  {
   "cell_type": "code",
   "execution_count": null,
   "id": "8ca68425",
   "metadata": {},
   "outputs": [],
   "source": [
    "# Load user-password database\n",
    "with open('../dashboard/valores_slider.pkl', 'rb') as file:\n",
    "    valores_slider = pickle.load(file)\n",
    "valores_slider"
   ]
  },
  {
   "cell_type": "code",
   "execution_count": null,
   "id": "809e8bd8",
   "metadata": {},
   "outputs": [],
   "source": []
  },
  {
   "cell_type": "markdown",
   "id": "6e41790b",
   "metadata": {},
   "source": [
    "## Recomendaciones"
   ]
  },
  {
   "cell_type": "code",
   "execution_count": null,
   "id": "2b8dc2b8",
   "metadata": {},
   "outputs": [],
   "source": [
    "import os\n",
    "os.chdir('../movies')\n",
    "from movieLens import MovieLens\n",
    "\n",
    "ml = MovieLens()\n",
    "name_to_movieID = ml.name_to_movieID.copy()\n",
    "\n",
    "with open(\"../dashboard/name_to_movieID.pkl\", 'wb') as file:\n",
    "        pickle.dump(name_to_movieID, file)"
   ]
  },
  {
   "cell_type": "code",
   "execution_count": null,
   "id": "fa08f657",
   "metadata": {},
   "outputs": [],
   "source": [
    "name_to_movieID"
   ]
  },
  {
   "cell_type": "code",
   "execution_count": null,
   "id": "563c8109",
   "metadata": {
    "scrolled": true
   },
   "outputs": [],
   "source": [
    "name_to_movieID['Toy Story']"
   ]
  },
  {
   "cell_type": "code",
   "execution_count": null,
   "id": "e0d2eb8d",
   "metadata": {},
   "outputs": [],
   "source": []
  },
  {
   "cell_type": "code",
   "execution_count": null,
   "id": "791ad12f",
   "metadata": {},
   "outputs": [],
   "source": []
  },
  {
   "cell_type": "code",
   "execution_count": null,
   "id": "762d0f7b",
   "metadata": {},
   "outputs": [],
   "source": [
    "# Números de películas a mostrar\n",
    "import os\n",
    "print(os.getcwd)\n",
    "\n",
    "movie_numbers = [1, 2, 3, 4, 5, 6, 7, 8, 9, 10]\n",
    "\n",
    "def get_movie_images(numbers):\n",
    "    image_folder = \"images/\"\n",
    "    movie_images = []\n",
    "\n",
    "    for number in numbers:\n",
    "        image_path = os.path.join(image_folder, f\"{number}.jpg\")\n",
    "        print(image_path)\n",
    "        if os.path.isfile(image_path):\n",
    "            print(\"dentro\")\n",
    "            movie_images.append(image_path)\n",
    "\n",
    "    return movie_images\n",
    "\n",
    "# Obtener las rutas de las imágenes de las películas\n",
    "movie_images = get_movie_images(movie_numbers)\n",
    "movie_images"
   ]
  },
  {
   "cell_type": "code",
   "execution_count": null,
   "id": "0a415c51",
   "metadata": {},
   "outputs": [],
   "source": []
  },
  {
   "cell_type": "code",
   "execution_count": null,
   "id": "b871e291",
   "metadata": {},
   "outputs": [],
   "source": []
  }
 ],
 "metadata": {
  "kernelspec": {
   "display_name": "Python 3 (ipykernel)",
   "language": "python",
   "name": "python3"
  },
  "language_info": {
   "codemirror_mode": {
    "name": "ipython",
    "version": 3
   },
   "file_extension": ".py",
   "mimetype": "text/x-python",
   "name": "python",
   "nbconvert_exporter": "python",
   "pygments_lexer": "ipython3",
   "version": "3.9.16"
  }
 },
 "nbformat": 4,
 "nbformat_minor": 5
}

{
 "cells": [
  {
   "cell_type": "code",
   "execution_count": 1,
   "id": "15fe8c6a",
   "metadata": {},
   "outputs": [],
   "source": [
    "import pickle\n",
    "import random\n",
    "import string\n",
    "import time\n",
    "import pandas as pd"
   ]
  },
  {
   "cell_type": "markdown",
   "id": "13e696bb",
   "metadata": {},
   "source": [
    "# Nuevos usuarios"
   ]
  },
  {
   "cell_type": "markdown",
   "id": "75478d2b",
   "metadata": {},
   "source": [
    "Vamos a asociar un nombre de usuario y contraseña a cada uno de los userIds existentes en el dataset de ratings"
   ]
  },
  {
   "cell_type": "code",
   "execution_count": null,
   "id": "c17fcd0c",
   "metadata": {
    "scrolled": true
   },
   "outputs": [],
   "source": [
    "def create_user_password_dict(num_users):\n",
    "    users = {}\n",
    "    for i in range(num_users):\n",
    "        user = f\"user{i + 1}\"\n",
    "        password = ''.join(random.choices(string.ascii_letters + string.digits, k=12))\n",
    "        users[i + 1] = {\"user\": user, \"password\": password}\n",
    "    return users\n",
    "\n",
    "num_users = 610\n",
    "user_password_dict = create_user_password_dict(num_users)\n",
    "\n",
    "# Show users' information\n",
    "for user_id, data in user_password_dict.items():\n",
    "    print(f\"ID: {user_id} | User: {data['user']} | Password: {data['password']}\")\n"
   ]
  },
  {
   "cell_type": "code",
   "execution_count": null,
   "id": "7a8c413e",
   "metadata": {
    "scrolled": false
   },
   "outputs": [],
   "source": [
    "# Change the password of users 1 and 4\n",
    "user_password_dict[1][\"password\"] = \"123\"\n",
    "user_password_dict[4][\"password\"] = \"456\"\n",
    "\n",
    "# # Show users' information\n",
    "# for user_id, data in user_password.items():\n",
    "#     print(f\"ID: {user_id} | User: {data['user']} | Password: {data['password']}\")"
   ]
  },
  {
   "cell_type": "code",
   "execution_count": null,
   "id": "c89edac7",
   "metadata": {},
   "outputs": [],
   "source": [
    "# Save the dictionary\n",
    "with open(\"user_password_dict.pkl\", 'wb') as file:\n",
    "        pickle.dump(user_password_dict, file)"
   ]
  },
  {
   "cell_type": "markdown",
   "id": "65981190",
   "metadata": {},
   "source": [
    "Añadir nuevos usuarios a la base de datos"
   ]
  },
  {
   "cell_type": "code",
   "execution_count": null,
   "id": "40f0a05f",
   "metadata": {},
   "outputs": [],
   "source": [
    "def add_new_user(username, password, users):\n",
    "    for data in users.values():\n",
    "        if data[\"user\"] == username:\n",
    "            print(f\"El nombre de usuario '{username}' ya está en uso.\")\n",
    "            return\n",
    "\n",
    "    # Obtener el último ID existente y aumentarlo en 1\n",
    "    last_id = max(users.keys())\n",
    "    new_id = last_id + 1\n",
    "\n",
    "    # Agregar el nuevo usuario al diccionario\n",
    "    users[new_id] = {\"user\": username, \"password\": password}\n",
    "    print(f\"Nuevo usuario agregado: ID: {new_id} | User: {username} | Password: {password}\")\n",
    "\n",
    "# Ejemplo de uso\n",
    "username = input(\"Introduce el nombre de usuario: \")\n",
    "password = input(\"Introduce la contraseña: \")\n",
    "\n",
    "add_new_user(username, password, user_password_dict)"
   ]
  },
  {
   "cell_type": "code",
   "execution_count": null,
   "id": "52eefb2e",
   "metadata": {},
   "outputs": [],
   "source": [
    "user_password_dict"
   ]
  },
  {
   "cell_type": "code",
   "execution_count": null,
   "id": "556afd12",
   "metadata": {},
   "outputs": [],
   "source": [
    "existing_usernames = [user['user'] for user in user_password_dict.values()]\n",
    "existing_usernames"
   ]
  },
  {
   "cell_type": "code",
   "execution_count": null,
   "id": "7d85446f",
   "metadata": {},
   "outputs": [],
   "source": [
    "def existing_username(username,user_password_dict):\n",
    "    return username in [user['user'] for user in user_password_dict.values()]\n",
    "\n",
    "existing_username(\"user5555\",user_password_dict)"
   ]
  },
  {
   "cell_type": "code",
   "execution_count": null,
   "id": "fd70caa1",
   "metadata": {},
   "outputs": [],
   "source": []
  },
  {
   "cell_type": "code",
   "execution_count": null,
   "id": "8d41ac71",
   "metadata": {},
   "outputs": [],
   "source": [
    "# Load user-password database\n",
    "with open('user_password_dict.pkl', 'rb') as file:\n",
    "    user_password_dict = pickle.load(file)"
   ]
  },
  {
   "cell_type": "code",
   "execution_count": null,
   "id": "18628547",
   "metadata": {},
   "outputs": [],
   "source": [
    "user_password_dict"
   ]
  },
  {
   "cell_type": "code",
   "execution_count": null,
   "id": "96444c84",
   "metadata": {},
   "outputs": [],
   "source": []
  },
  {
   "cell_type": "markdown",
   "id": "ef28e6d8",
   "metadata": {},
   "source": [
    "# QUIZ. Obtener las películas con mayor número de valoraciones"
   ]
  },
  {
   "cell_type": "markdown",
   "id": "10c42cfd",
   "metadata": {},
   "source": [
    "Las 15 películas más valoradas se mostrarán a un nuevo usuario tras registrarse con el fin de conocer de forma superficial sus gustos cinematográficos y poder realizar recomendaciones personalizadas"
   ]
  },
  {
   "cell_type": "code",
   "execution_count": 2,
   "id": "95288006",
   "metadata": {},
   "outputs": [],
   "source": [
    "import os\n",
    "os.chdir('../movies')\n",
    "from movieLens import MovieLens\n",
    "\n",
    "ml = MovieLens()\n",
    "ratings = ml.ratings.copy()"
   ]
  },
  {
   "cell_type": "code",
   "execution_count": 9,
   "id": "2d8c6220",
   "metadata": {},
   "outputs": [
    {
     "data": {
      "text/html": [
       "<div>\n",
       "<style scoped>\n",
       "    .dataframe tbody tr th:only-of-type {\n",
       "        vertical-align: middle;\n",
       "    }\n",
       "\n",
       "    .dataframe tbody tr th {\n",
       "        vertical-align: top;\n",
       "    }\n",
       "\n",
       "    .dataframe thead th {\n",
       "        text-align: right;\n",
       "    }\n",
       "</style>\n",
       "<table border=\"1\" class=\"dataframe\">\n",
       "  <thead>\n",
       "    <tr style=\"text-align: right;\">\n",
       "      <th></th>\n",
       "      <th>userId</th>\n",
       "      <th>movieId</th>\n",
       "      <th>rating</th>\n",
       "      <th>timestamp</th>\n",
       "    </tr>\n",
       "  </thead>\n",
       "  <tbody>\n",
       "    <tr>\n",
       "      <th>0</th>\n",
       "      <td>1</td>\n",
       "      <td>1</td>\n",
       "      <td>4.0</td>\n",
       "      <td>964982703</td>\n",
       "    </tr>\n",
       "    <tr>\n",
       "      <th>1</th>\n",
       "      <td>1</td>\n",
       "      <td>3</td>\n",
       "      <td>4.0</td>\n",
       "      <td>964981247</td>\n",
       "    </tr>\n",
       "    <tr>\n",
       "      <th>2</th>\n",
       "      <td>1</td>\n",
       "      <td>6</td>\n",
       "      <td>4.0</td>\n",
       "      <td>964982224</td>\n",
       "    </tr>\n",
       "    <tr>\n",
       "      <th>3</th>\n",
       "      <td>1</td>\n",
       "      <td>47</td>\n",
       "      <td>5.0</td>\n",
       "      <td>964983815</td>\n",
       "    </tr>\n",
       "    <tr>\n",
       "      <th>4</th>\n",
       "      <td>1</td>\n",
       "      <td>50</td>\n",
       "      <td>5.0</td>\n",
       "      <td>964982931</td>\n",
       "    </tr>\n",
       "  </tbody>\n",
       "</table>\n",
       "</div>"
      ],
      "text/plain": [
       "   userId  movieId  rating  timestamp\n",
       "0       1        1     4.0  964982703\n",
       "1       1        3     4.0  964981247\n",
       "2       1        6     4.0  964982224\n",
       "3       1       47     5.0  964983815\n",
       "4       1       50     5.0  964982931"
      ]
     },
     "execution_count": 9,
     "metadata": {},
     "output_type": "execute_result"
    }
   ],
   "source": [
    "ratings.head()"
   ]
  },
  {
   "cell_type": "code",
   "execution_count": 3,
   "id": "faf8db6b",
   "metadata": {
    "scrolled": true
   },
   "outputs": [
    {
     "data": {
      "text/plain": [
       "['Forrest Gump',\n",
       " 'Shawshank Redemption, The',\n",
       " 'Pulp Fiction',\n",
       " 'Silence of the Lambs, The',\n",
       " 'Matrix, The',\n",
       " 'Star Wars: Episode IV - A New Hope',\n",
       " 'Jurassic Park',\n",
       " 'Braveheart',\n",
       " 'Terminator 2: Judgment Day',\n",
       " \"Schindler's List\",\n",
       " 'Fight Club',\n",
       " 'Toy Story',\n",
       " 'Star Wars: Episode V - The Empire Strikes Back',\n",
       " 'Usual Suspects, The',\n",
       " 'American Beauty']"
      ]
     },
     "execution_count": 3,
     "metadata": {},
     "output_type": "execute_result"
    }
   ],
   "source": [
    "k = 15\n",
    "top_movies = ratings.groupby('movieId').size().nlargest(k).index.tolist()\n",
    "top_movies_titles = [ml.movieID_to_name.get(movie_id, 'Unknown') for movie_id in top_movies]\n",
    "top_movies_titles"
   ]
  },
  {
   "cell_type": "markdown",
   "id": "e8c02cb7",
   "metadata": {},
   "source": [
    "Vamos a adaptar el nombre de las películas para que sea más sencillo de leer"
   ]
  },
  {
   "cell_type": "code",
   "execution_count": 5,
   "id": "9f8e44a3",
   "metadata": {},
   "outputs": [],
   "source": [
    "top_movies_titles = ['Forrest Gump',\n",
    " 'The Shawshank Redemption',\n",
    " 'Pulp Fiction',\n",
    " 'The Silence of the Lambs',\n",
    " 'The Matrix',\n",
    " 'Star Wars: Episode IV - A New Hope',\n",
    " 'Jurassic Park',\n",
    " 'Braveheart',\n",
    " 'Terminator 2: Judgment Day',\n",
    " \"Schindler's List\",\n",
    " 'Fight Club',\n",
    " 'Toy Story',\n",
    " 'Star Wars: Episode V',\n",
    " 'The Usual Suspects',\n",
    " 'American Beauty']"
   ]
  },
  {
   "cell_type": "code",
   "execution_count": 6,
   "id": "6b7a6c8d",
   "metadata": {
    "scrolled": false
   },
   "outputs": [
    {
     "data": {
      "text/plain": [
       "{356: 'Forrest Gump',\n",
       " 318: 'The Shawshank Redemption',\n",
       " 296: 'Pulp Fiction',\n",
       " 593: 'The Silence of the Lambs',\n",
       " 2571: 'The Matrix',\n",
       " 260: 'Star Wars: Episode IV - A New Hope',\n",
       " 480: 'Jurassic Park',\n",
       " 110: 'Braveheart',\n",
       " 589: 'Terminator 2: Judgment Day',\n",
       " 527: \"Schindler's List\",\n",
       " 2959: 'Fight Club',\n",
       " 1: 'Toy Story',\n",
       " 1196: 'Star Wars: Episode V',\n",
       " 50: 'The Usual Suspects',\n",
       " 2858: 'American Beauty'}"
      ]
     },
     "execution_count": 6,
     "metadata": {},
     "output_type": "execute_result"
    }
   ],
   "source": [
    "top_movies_dict = {}\n",
    "for movie_id, movie_title in zip(top_movies, top_movies_titles):\n",
    "    top_movies_dict[movie_id] = movie_title\n",
    "    \n",
    "top_movies_dict"
   ]
  },
  {
   "cell_type": "code",
   "execution_count": 7,
   "id": "0370f89c",
   "metadata": {},
   "outputs": [],
   "source": [
    "# Save the dictionary\n",
    "with open(\"../dashboard/top_movies_dict.pkl\", 'wb') as file:\n",
    "        pickle.dump(top_movies_dict, file)"
   ]
  },
  {
   "cell_type": "code",
   "execution_count": null,
   "id": "6b50b0fd",
   "metadata": {},
   "outputs": [],
   "source": []
  },
  {
   "cell_type": "markdown",
   "id": "f92595c1",
   "metadata": {},
   "source": [
    "# Recomendaciones"
   ]
  },
  {
   "cell_type": "code",
   "execution_count": null,
   "id": "3caf693b",
   "metadata": {},
   "outputs": [],
   "source": [
    "import os\n",
    "os.chdir('../movies')\n",
    "from movieLens import MovieLens\n",
    "\n",
    "ml = MovieLens()\n",
    "name_to_movieID = ml.name_to_movieID.copy()\n",
    "\n",
    "with open(\"../dashboard/name_to_movieID.pkl\", 'wb') as file:\n",
    "        pickle.dump(name_to_movieID, file)"
   ]
  },
  {
   "cell_type": "markdown",
   "id": "4d1255ad",
   "metadata": {},
   "source": [
    "Vamos a ver cuales son las películas mejor valoradas. Para ello primero seleccionamos las 100 películas con mayor número de valoraciones, y entre ellas se seleccionan aquellas con mejor valoración media"
   ]
  },
  {
   "cell_type": "code",
   "execution_count": 32,
   "id": "7a253388",
   "metadata": {
    "scrolled": false
   },
   "outputs": [
    {
     "data": {
      "text/plain": [
       "{318: 'Shawshank Redemption, The',\n",
       " 858: 'Godfather, The',\n",
       " 2959: 'Fight Club',\n",
       " 1221: 'Godfather: Part II, The',\n",
       " 1213: 'Goodfellas',\n",
       " 58559: 'Dark Knight, The',\n",
       " 50: 'Usual Suspects, The',\n",
       " 1197: 'Princess Bride, The',\n",
       " 260: 'Star Wars: Episode IV - A New Hope',\n",
       " 527: \"Schindler's List\"}"
      ]
     },
     "execution_count": 32,
     "metadata": {},
     "output_type": "execute_result"
    }
   ],
   "source": [
    "most_rated_movies = ratings.groupby('movieId').count().sort_values(by='rating', ascending=False).nlargest(100, 'rating')\n",
    "most_rated_movies = most_rated_movies.reset_index()\n",
    "ids_most_rated_movies = most_rated_movies['movieId']\n",
    "ids_most_rated_movies\n",
    "\n",
    "# Filter the ratings dataframe to obtain the information about the most rated mvoies\n",
    "filtered_df = ratings[ratings['movieId'].isin(ids_most_rated_movies)]\n",
    "\n",
    "# Compute the average rating of the movies\n",
    "sorted_ratings = filtered_df.groupby('movieId').mean('rating').sort_values(by='rating', ascending=False).nlargest(10, 'rating')\n",
    "sorted_ratings = sorted_ratings.reset_index()\n",
    "sorted_movies = sorted_ratings['movieId']\n",
    "\n",
    "\n",
    "sorted_movies_titles = [ml.movieID_to_name.get(movie_id, 'Unknown') for movie_id in sorted_movies]\n",
    "sorted_movies_titles\n",
    "\n",
    "sorted_movies_dict = {}\n",
    "for movie_id, movie_title in zip(sorted_movies, sorted_movies_titles):\n",
    "    sorted_movies_dict[movie_id] = movie_title\n",
    "    \n",
    "sorted_movies_dict"
   ]
  },
  {
   "cell_type": "code",
   "execution_count": 33,
   "id": "e7ee88f6",
   "metadata": {
    "scrolled": true
   },
   "outputs": [
    {
     "data": {
      "text/plain": [
       "['Fight Club', \"Schindler's List\", 'Star Wars: Episode IV - A New Hope']"
      ]
     },
     "execution_count": 33,
     "metadata": {},
     "output_type": "execute_result"
    }
   ],
   "source": [
    "# Common elements in top_movies and sorted_movies\n",
    "list(set(top_movies_titles) & set(sorted_movies_titles))"
   ]
  },
  {
   "cell_type": "markdown",
   "id": "c34be3e5",
   "metadata": {},
   "source": [
    "Las dos películas más populares ('The Shawshank Redemption' and 'The Godfather) se recomendarán a todos los usuarios nuevos, dado que son populares entre los usuarios actuales del sistema y no se dispone información acerca de si han visto o no la película. Por otro lado, para el caso de las películas 'Fight Club', 'Schindler's List' y'Star Wars: Episode IV - A New Hope' se procede de diferente manera. Como estas películas se incluyen en el cuestionario inicial que debe rellenar el usuario solo se recomendarán en el caso de que el usuario las marque como no vistas. El resto de recomendaciones hasta llegar a 10 se obtienen calculando la distancia entre usuarios y seleccionando aquellas recomendaciones que se hagan al usuario con gustos más semejantes al nuevo usuario.\n",
    "\n",
    "**¿Esta opción o mejor recomiendo las películas que más le hayan gustado al usuario parecido?**"
   ]
  },
  {
   "cell_type": "markdown",
   "id": "a538e669",
   "metadata": {},
   "source": [
    "## Cálculo de la distancia entre usuarios"
   ]
  },
  {
   "cell_type": "markdown",
   "id": "e33bbc53",
   "metadata": {},
   "source": [
    "En primer lugar vamos a añadir la información del nuevo usuario al conjunto de datos existente"
   ]
  },
  {
   "cell_type": "code",
   "execution_count": 52,
   "id": "a55c38ff",
   "metadata": {
    "scrolled": true
   },
   "outputs": [
    {
     "data": {
      "text/plain": [
       "{356: 0,\n",
       " 318: 0,\n",
       " 296: 0,\n",
       " 593: 0,\n",
       " 2571: 0,\n",
       " 260: 0,\n",
       " 480: 0,\n",
       " 110: 0,\n",
       " 589: 0,\n",
       " 527: 0,\n",
       " 2959: 5,\n",
       " 1: 1,\n",
       " 1196: 0,\n",
       " 50: 0,\n",
       " 2858: 0}"
      ]
     },
     "execution_count": 52,
     "metadata": {},
     "output_type": "execute_result"
    }
   ],
   "source": [
    "# Load new users' info\n",
    "with open('../dashboard/valores_slider.pkl', 'rb') as file:\n",
    "    valores_slider = pickle.load(file)\n",
    "    \n",
    "valores_slider"
   ]
  },
  {
   "cell_type": "code",
   "execution_count": 39,
   "id": "dc27fe9c",
   "metadata": {},
   "outputs": [
    {
     "data": {
      "text/html": [
       "<div>\n",
       "<style scoped>\n",
       "    .dataframe tbody tr th:only-of-type {\n",
       "        vertical-align: middle;\n",
       "    }\n",
       "\n",
       "    .dataframe tbody tr th {\n",
       "        vertical-align: top;\n",
       "    }\n",
       "\n",
       "    .dataframe thead th {\n",
       "        text-align: right;\n",
       "    }\n",
       "</style>\n",
       "<table border=\"1\" class=\"dataframe\">\n",
       "  <thead>\n",
       "    <tr style=\"text-align: right;\">\n",
       "      <th></th>\n",
       "      <th>userId</th>\n",
       "      <th>movieId</th>\n",
       "      <th>rating</th>\n",
       "      <th>timestamp</th>\n",
       "    </tr>\n",
       "  </thead>\n",
       "  <tbody>\n",
       "    <tr>\n",
       "      <th>0</th>\n",
       "      <td>1</td>\n",
       "      <td>1</td>\n",
       "      <td>4.0</td>\n",
       "      <td>964982703</td>\n",
       "    </tr>\n",
       "    <tr>\n",
       "      <th>1</th>\n",
       "      <td>1</td>\n",
       "      <td>3</td>\n",
       "      <td>4.0</td>\n",
       "      <td>964981247</td>\n",
       "    </tr>\n",
       "    <tr>\n",
       "      <th>2</th>\n",
       "      <td>1</td>\n",
       "      <td>6</td>\n",
       "      <td>4.0</td>\n",
       "      <td>964982224</td>\n",
       "    </tr>\n",
       "    <tr>\n",
       "      <th>3</th>\n",
       "      <td>1</td>\n",
       "      <td>47</td>\n",
       "      <td>5.0</td>\n",
       "      <td>964983815</td>\n",
       "    </tr>\n",
       "    <tr>\n",
       "      <th>4</th>\n",
       "      <td>1</td>\n",
       "      <td>50</td>\n",
       "      <td>5.0</td>\n",
       "      <td>964982931</td>\n",
       "    </tr>\n",
       "    <tr>\n",
       "      <th>...</th>\n",
       "      <td>...</td>\n",
       "      <td>...</td>\n",
       "      <td>...</td>\n",
       "      <td>...</td>\n",
       "    </tr>\n",
       "    <tr>\n",
       "      <th>100831</th>\n",
       "      <td>610</td>\n",
       "      <td>166534</td>\n",
       "      <td>4.0</td>\n",
       "      <td>1493848402</td>\n",
       "    </tr>\n",
       "    <tr>\n",
       "      <th>100832</th>\n",
       "      <td>610</td>\n",
       "      <td>168248</td>\n",
       "      <td>5.0</td>\n",
       "      <td>1493850091</td>\n",
       "    </tr>\n",
       "    <tr>\n",
       "      <th>100833</th>\n",
       "      <td>610</td>\n",
       "      <td>168250</td>\n",
       "      <td>5.0</td>\n",
       "      <td>1494273047</td>\n",
       "    </tr>\n",
       "    <tr>\n",
       "      <th>100834</th>\n",
       "      <td>610</td>\n",
       "      <td>168252</td>\n",
       "      <td>5.0</td>\n",
       "      <td>1493846352</td>\n",
       "    </tr>\n",
       "    <tr>\n",
       "      <th>100835</th>\n",
       "      <td>610</td>\n",
       "      <td>170875</td>\n",
       "      <td>3.0</td>\n",
       "      <td>1493846415</td>\n",
       "    </tr>\n",
       "  </tbody>\n",
       "</table>\n",
       "<p>100836 rows × 4 columns</p>\n",
       "</div>"
      ],
      "text/plain": [
       "        userId  movieId  rating   timestamp\n",
       "0            1        1     4.0   964982703\n",
       "1            1        3     4.0   964981247\n",
       "2            1        6     4.0   964982224\n",
       "3            1       47     5.0   964983815\n",
       "4            1       50     5.0   964982931\n",
       "...        ...      ...     ...         ...\n",
       "100831     610   166534     4.0  1493848402\n",
       "100832     610   168248     5.0  1493850091\n",
       "100833     610   168250     5.0  1494273047\n",
       "100834     610   168252     5.0  1493846352\n",
       "100835     610   170875     3.0  1493846415\n",
       "\n",
       "[100836 rows x 4 columns]"
      ]
     },
     "execution_count": 39,
     "metadata": {},
     "output_type": "execute_result"
    }
   ],
   "source": [
    "ratings"
   ]
  },
  {
   "cell_type": "code",
   "execution_count": 68,
   "id": "a86b3238",
   "metadata": {
    "scrolled": true
   },
   "outputs": [
    {
     "data": {
      "text/html": [
       "<div>\n",
       "<style scoped>\n",
       "    .dataframe tbody tr th:only-of-type {\n",
       "        vertical-align: middle;\n",
       "    }\n",
       "\n",
       "    .dataframe tbody tr th {\n",
       "        vertical-align: top;\n",
       "    }\n",
       "\n",
       "    .dataframe thead th {\n",
       "        text-align: right;\n",
       "    }\n",
       "</style>\n",
       "<table border=\"1\" class=\"dataframe\">\n",
       "  <thead>\n",
       "    <tr style=\"text-align: right;\">\n",
       "      <th></th>\n",
       "      <th>userId</th>\n",
       "      <th>movieId</th>\n",
       "      <th>rating</th>\n",
       "      <th>timestamp</th>\n",
       "    </tr>\n",
       "  </thead>\n",
       "  <tbody>\n",
       "    <tr>\n",
       "      <th>0</th>\n",
       "      <td>612</td>\n",
       "      <td>356</td>\n",
       "      <td>0</td>\n",
       "      <td>1688576243</td>\n",
       "    </tr>\n",
       "    <tr>\n",
       "      <th>1</th>\n",
       "      <td>612</td>\n",
       "      <td>318</td>\n",
       "      <td>0</td>\n",
       "      <td>1688576243</td>\n",
       "    </tr>\n",
       "    <tr>\n",
       "      <th>2</th>\n",
       "      <td>612</td>\n",
       "      <td>296</td>\n",
       "      <td>0</td>\n",
       "      <td>1688576243</td>\n",
       "    </tr>\n",
       "    <tr>\n",
       "      <th>3</th>\n",
       "      <td>612</td>\n",
       "      <td>593</td>\n",
       "      <td>0</td>\n",
       "      <td>1688576243</td>\n",
       "    </tr>\n",
       "    <tr>\n",
       "      <th>4</th>\n",
       "      <td>612</td>\n",
       "      <td>2571</td>\n",
       "      <td>0</td>\n",
       "      <td>1688576243</td>\n",
       "    </tr>\n",
       "    <tr>\n",
       "      <th>5</th>\n",
       "      <td>612</td>\n",
       "      <td>260</td>\n",
       "      <td>0</td>\n",
       "      <td>1688576243</td>\n",
       "    </tr>\n",
       "    <tr>\n",
       "      <th>6</th>\n",
       "      <td>612</td>\n",
       "      <td>480</td>\n",
       "      <td>0</td>\n",
       "      <td>1688576243</td>\n",
       "    </tr>\n",
       "    <tr>\n",
       "      <th>7</th>\n",
       "      <td>612</td>\n",
       "      <td>110</td>\n",
       "      <td>0</td>\n",
       "      <td>1688576243</td>\n",
       "    </tr>\n",
       "    <tr>\n",
       "      <th>8</th>\n",
       "      <td>612</td>\n",
       "      <td>589</td>\n",
       "      <td>0</td>\n",
       "      <td>1688576243</td>\n",
       "    </tr>\n",
       "    <tr>\n",
       "      <th>9</th>\n",
       "      <td>612</td>\n",
       "      <td>527</td>\n",
       "      <td>0</td>\n",
       "      <td>1688576243</td>\n",
       "    </tr>\n",
       "    <tr>\n",
       "      <th>10</th>\n",
       "      <td>612</td>\n",
       "      <td>2959</td>\n",
       "      <td>5</td>\n",
       "      <td>1688576243</td>\n",
       "    </tr>\n",
       "    <tr>\n",
       "      <th>11</th>\n",
       "      <td>612</td>\n",
       "      <td>1</td>\n",
       "      <td>1</td>\n",
       "      <td>1688576243</td>\n",
       "    </tr>\n",
       "    <tr>\n",
       "      <th>12</th>\n",
       "      <td>612</td>\n",
       "      <td>1196</td>\n",
       "      <td>0</td>\n",
       "      <td>1688576243</td>\n",
       "    </tr>\n",
       "    <tr>\n",
       "      <th>13</th>\n",
       "      <td>612</td>\n",
       "      <td>50</td>\n",
       "      <td>0</td>\n",
       "      <td>1688576243</td>\n",
       "    </tr>\n",
       "    <tr>\n",
       "      <th>14</th>\n",
       "      <td>612</td>\n",
       "      <td>2858</td>\n",
       "      <td>0</td>\n",
       "      <td>1688576243</td>\n",
       "    </tr>\n",
       "  </tbody>\n",
       "</table>\n",
       "</div>"
      ],
      "text/plain": [
       "    userId  movieId  rating   timestamp\n",
       "0      612      356       0  1688576243\n",
       "1      612      318       0  1688576243\n",
       "2      612      296       0  1688576243\n",
       "3      612      593       0  1688576243\n",
       "4      612     2571       0  1688576243\n",
       "5      612      260       0  1688576243\n",
       "6      612      480       0  1688576243\n",
       "7      612      110       0  1688576243\n",
       "8      612      589       0  1688576243\n",
       "9      612      527       0  1688576243\n",
       "10     612     2959       5  1688576243\n",
       "11     612        1       1  1688576243\n",
       "12     612     1196       0  1688576243\n",
       "13     612       50       0  1688576243\n",
       "14     612     2858       0  1688576243"
      ]
     },
     "execution_count": 68,
     "metadata": {},
     "output_type": "execute_result"
    }
   ],
   "source": [
    "userId = ratings['userId'].max()+1\n",
    "timestamp = int(time.time())\n",
    "\n",
    "# Add the slider information to the ratings dataframe\n",
    "new_ratings = pd.DataFrame.from_dict(valores_slider, orient='index', columns=['rating'])\n",
    "new_ratings.index.name = 'movieId'\n",
    "new_ratings = new_ratings.reset_index()\n",
    "new_ratings['userId'] = userId\n",
    "new_ratings['timestamp'] = timestamp\n",
    "\n",
    "# Reorder the columns in `df_new_ratings` to match the order of the existing DataFrame\n",
    "new_ratings = new_ratings.reindex(columns=ratings.columns)\n",
    "new_ratings"
   ]
  },
  {
   "cell_type": "code",
   "execution_count": null,
   "id": "d85cad4c",
   "metadata": {},
   "outputs": [],
   "source": [
    "# Concatenate the `ratings` DataFrame and `df_new_ratings` to add the new lines at the end\n",
    "ratings = pd.concat([ratings, new_ratings], ignore_index=True)\n",
    "ratings"
   ]
  },
  {
   "cell_type": "code",
   "execution_count": 74,
   "id": "77fc786f",
   "metadata": {},
   "outputs": [],
   "source": [
    "def add_new_user():\n",
    "    # Load new users' info\n",
    "    with open('../dashboard/valores_slider.pkl', 'rb') as file:\n",
    "        valores_slider = pickle.load(file)\n",
    "        \n",
    "    #ratings = pd.read_csv('ratings.csv')\n",
    "    \n",
    "    userId = ratings['userId'].max()+1\n",
    "    timestamp = int(time.time())\n",
    "    \n",
    "    \n",
    "\n",
    "    # Add the slider information to the ratings dataframe\n",
    "    new_ratings = pd.DataFrame.from_dict(valores_slider, orient='index', columns=['rating'])\n",
    "    new_ratings.index.name = 'movieId'\n",
    "    new_ratings = new_ratings.reset_index()\n",
    "    new_ratings['userId'] = userId\n",
    "    new_ratings['timestamp'] = timestamp\n",
    "\n",
    "    # Reorder the columns in `df_new_ratings` to match the order of the existing DataFrame\n",
    "    new_ratings = new_ratings.reindex(columns=ratings.columns)\n",
    "    \n",
    "    # Concatenate the `ratings` DataFrame and `df_new_ratings` to add the new lines at the end\n",
    "    ratings = pd.concat([ratings, new_ratings], ignore_index=True)\n",
    "    \n",
    "    return ratings\n",
    "    \n",
    "    # Save the updated file\n",
    "    # ratings.to_csv('ratings.csv', index=False)"
   ]
  },
  {
   "cell_type": "markdown",
   "id": "5cac4312",
   "metadata": {},
   "source": [
    "Para ello vamos a aprovechar el código generado para el algoritmo de filtrado colaborativo basado en usuarios https://github.com/inesgfortis/RecommenderSys/blob/main/collaborativeFiltering/userBased.ipynb"
   ]
  },
  {
   "cell_type": "code",
   "execution_count": null,
   "id": "5d43360f",
   "metadata": {},
   "outputs": [],
   "source": []
  },
  {
   "cell_type": "code",
   "execution_count": null,
   "id": "dadc5b0b",
   "metadata": {},
   "outputs": [],
   "source": []
  }
 ],
 "metadata": {
  "kernelspec": {
   "display_name": "Python 3 (ipykernel)",
   "language": "python",
   "name": "python3"
  },
  "language_info": {
   "codemirror_mode": {
    "name": "ipython",
    "version": 3
   },
   "file_extension": ".py",
   "mimetype": "text/x-python",
   "name": "python",
   "nbconvert_exporter": "python",
   "pygments_lexer": "ipython3",
   "version": "3.9.16"
  }
 },
 "nbformat": 4,
 "nbformat_minor": 5
}

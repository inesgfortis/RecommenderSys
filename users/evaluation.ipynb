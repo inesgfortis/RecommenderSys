{
 "cells": [
  {
   "cell_type": "code",
   "execution_count": 1,
   "id": "c89f9053",
   "metadata": {},
   "outputs": [],
   "source": [
    "import os\n",
    "os.chdir('../movies')\n",
    "from movieLens import MovieLens"
   ]
  },
  {
   "cell_type": "code",
   "execution_count": 2,
   "id": "7a729692",
   "metadata": {},
   "outputs": [],
   "source": [
    "ml = MovieLens()\n",
    "ratings = ml.ratings.copy()\n",
    "movies = ml.movies.copy()"
   ]
  },
  {
   "cell_type": "code",
   "execution_count": 3,
   "id": "543a3ec5",
   "metadata": {},
   "outputs": [],
   "source": [
    "import pandas  as pd"
   ]
  },
  {
   "cell_type": "markdown",
   "id": "fe73faee",
   "metadata": {},
   "source": [
    "## Búsqueda de los usuarios"
   ]
  },
  {
   "cell_type": "markdown",
   "id": "ddf72fb7",
   "metadata": {},
   "source": [
    "Para evaluar la efectividad de los diferentes algoritmos de recomendación, es importante considerar la variabilidad en los gustos y experiencias de los usuarios. En este sentido, se llevará a cabo un experimento utilizando dos usuarios distintos como casos de estudio. El objetivo es analizar cómo los algoritmos de recomendación se comportan al proporcionar recomendaciones personalizadas a cada uno de estos usuarios."
   ]
  },
  {
   "cell_type": "code",
   "execution_count": 4,
   "id": "684ab958",
   "metadata": {},
   "outputs": [
    {
     "name": "stdout",
     "output_type": "stream",
     "text": [
      "232\n"
     ]
    },
    {
     "data": {
      "text/plain": [
       "userId\n",
       "1    [1, 3, 6, 47, 50, 70, 101, 110, 151, 157, 163,...\n",
       "Name: movieId, dtype: object"
      ]
     },
     "execution_count": 4,
     "metadata": {},
     "output_type": "execute_result"
    }
   ],
   "source": [
    "# Filter the ratings DataFrame for the target user ID\n",
    "user_data_1 = ratings[ratings['userId'] == 1]\n",
    "print(len(user_data_1))\n",
    "\n",
    "# Print all information associated with the target user\n",
    "# print(user_data_1)\n",
    "\n",
    "movies_for_user_1 = user_data_1.groupby('userId')['movieId'].unique()\n",
    "movies_for_user_1"
   ]
  },
  {
   "cell_type": "code",
   "execution_count": 5,
   "id": "3be10bea",
   "metadata": {
    "scrolled": true
   },
   "outputs": [
    {
     "name": "stdout",
     "output_type": "stream",
     "text": [
      "216\n"
     ]
    },
    {
     "data": {
      "text/plain": [
       "userId\n",
       "4    [21, 32, 45, 47, 52, 58, 106, 125, 126, 162, 1...\n",
       "Name: movieId, dtype: object"
      ]
     },
     "execution_count": 5,
     "metadata": {},
     "output_type": "execute_result"
    }
   ],
   "source": [
    "# Filter the ratings DataFrame for the target user ID\n",
    "user_data_4 = ratings[ratings['userId'] == 4]\n",
    "print(len(user_data_4))\n",
    "\n",
    "# Print all information associated with the target user\n",
    "# print(user_data_85)\n",
    "\n",
    "movies_for_user_4 = user_data_4.groupby('userId')['movieId'].unique()\n",
    "movies_for_user_4"
   ]
  },
  {
   "cell_type": "code",
   "execution_count": 6,
   "id": "b68179b0",
   "metadata": {},
   "outputs": [
    {
     "name": "stdout",
     "output_type": "stream",
     "text": [
      "Series([], dtype: object)\n"
     ]
    }
   ],
   "source": [
    "# Convert the elements in the Series to strings\n",
    "movies_for_user_1 = movies_for_user_1.astype(str)\n",
    "movies_for_user_4 = movies_for_user_4.astype(str)\n",
    "\n",
    "# Find the common elements in both series\n",
    "common_elements = pd.Series(list(set(movies_for_user_1) & set(movies_for_user_4)), dtype=object)\n",
    "\n",
    "# Print the common elements\n",
    "print(common_elements)"
   ]
  },
  {
   "cell_type": "markdown",
   "id": "21fa5536",
   "metadata": {},
   "source": [
    "Para evaluar de manera efectiva los algoritmos de recomendación en un contexto específico, se ha realizado una selección cuidadosa de dos usuarios que han valorado más o menos el mismo números de películas pero que no han visto ninguna película en común (userId = 1 y userId = 4). Esta elección se ha llevado a cabo con el propósito de analizar cómo los algoritmos pueden generar recomendaciones personalizadas tomando como referencia dos usuarios que no comparten ninguna experiencia cinematográfica previa."
   ]
  },
  {
   "cell_type": "markdown",
   "id": "8bd119c1",
   "metadata": {},
   "source": [
    "# Caracterización de los usuarios"
   ]
  },
  {
   "cell_type": "code",
   "execution_count": 7,
   "id": "2c066662",
   "metadata": {},
   "outputs": [],
   "source": [
    "# def getPreferences(userId, ratings, k, movieID_to_name):\n",
    "#     \"\"\"\n",
    "#     Get the top k movies with the highest ratings and the bottom k movies with the lowest ratings for a given userId.\n",
    "\n",
    "#     Args:\n",
    "#         userId (int): The ID of the user.\n",
    "#         ratings (pandas.DataFrame): The ratings dataset containing columns 'userId', 'movieId', and 'rating'.\n",
    "#         k (int): The number of top and bottom movies to retrieve.\n",
    "#         movieID_to_name (dict): A dictionary mapping movieId to movie title.\n",
    "\n",
    "#     Returns:\n",
    "#         top_movies (pandas.DataFrame): The DataFrame with the top k movies with highest ratings, including movie names.\n",
    "#         bottom_movies (pandas.DataFrame): The DataFrame with the bottom k movies with lowest ratings, including movie names.\n",
    "#     \"\"\"\n",
    "\n",
    "#     # Filter ratings for the specified userId\n",
    "#     user_ratings = ratings[ratings['userId'] == userId].copy()\n",
    "#     user_ratings['title'] = user_ratings['movieId'].map(movieID_to_name)\n",
    "#     user_ratings = user_ratings[['userId','movieId','title','rating', ]]\n",
    "\n",
    "#     # Sort movies by rating in descending order\n",
    "#     sorted_movies = user_ratings.sort_values(by='rating', ascending=False)\n",
    "\n",
    "#     # Get the top k movies with highest and lowest ratings\n",
    "#     top_movies = sorted_movies.head(k).copy()\n",
    "#     bottom_movies = sorted_movies.tail(k).copy()  \n",
    "\n",
    "#     return top_movies, bottom_movies\n"
   ]
  },
  {
   "cell_type": "code",
   "execution_count": 8,
   "id": "3f3821b1",
   "metadata": {},
   "outputs": [],
   "source": [
    "# top_movies_user1, bottom_movies_user1 = getPreferences(1, ratings, 10, ml.movieID_to_name)\n",
    "# top_movies_user1"
   ]
  },
  {
   "cell_type": "markdown",
   "id": "e1231dab",
   "metadata": {},
   "source": [
    "Se utiliza la función getPreferences de la clase movieLens para obtener las principales preferencias de un usuario en cuanto a películas. Toma como entrada el ID de usuario y el número de películas a seleccionar. La función devuelve dos DataFrames: uno con las k películas con las calificaciones más altas y otro con las k películas con las calificaciones más bajas, incluyendo el título de cada película."
   ]
  },
  {
   "cell_type": "code",
   "execution_count": 9,
   "id": "f8f8fb7f",
   "metadata": {
    "scrolled": true
   },
   "outputs": [
    {
     "data": {
      "text/html": [
       "<div>\n",
       "<style scoped>\n",
       "    .dataframe tbody tr th:only-of-type {\n",
       "        vertical-align: middle;\n",
       "    }\n",
       "\n",
       "    .dataframe tbody tr th {\n",
       "        vertical-align: top;\n",
       "    }\n",
       "\n",
       "    .dataframe thead th {\n",
       "        text-align: right;\n",
       "    }\n",
       "</style>\n",
       "<table border=\"1\" class=\"dataframe\">\n",
       "  <thead>\n",
       "    <tr style=\"text-align: right;\">\n",
       "      <th></th>\n",
       "      <th>userId</th>\n",
       "      <th>movieId</th>\n",
       "      <th>title</th>\n",
       "      <th>rating</th>\n",
       "      <th>genres</th>\n",
       "    </tr>\n",
       "  </thead>\n",
       "  <tbody>\n",
       "    <tr>\n",
       "      <th>231</th>\n",
       "      <td>1</td>\n",
       "      <td>5060</td>\n",
       "      <td>M*A*S*H (a.k.a. MASH)</td>\n",
       "      <td>5.0</td>\n",
       "      <td>[Comedy, Drama, War]</td>\n",
       "    </tr>\n",
       "    <tr>\n",
       "      <th>185</th>\n",
       "      <td>1</td>\n",
       "      <td>2872</td>\n",
       "      <td>Excalibur</td>\n",
       "      <td>5.0</td>\n",
       "      <td>[Adventure, Fantasy]</td>\n",
       "    </tr>\n",
       "    <tr>\n",
       "      <th>89</th>\n",
       "      <td>1</td>\n",
       "      <td>1291</td>\n",
       "      <td>Indiana Jones and the Last Crusade</td>\n",
       "      <td>5.0</td>\n",
       "      <td>[Action, Adventure]</td>\n",
       "    </tr>\n",
       "    <tr>\n",
       "      <th>90</th>\n",
       "      <td>1</td>\n",
       "      <td>1298</td>\n",
       "      <td>Pink Floyd: The Wall</td>\n",
       "      <td>5.0</td>\n",
       "      <td>[Drama, Musical]</td>\n",
       "    </tr>\n",
       "    <tr>\n",
       "      <th>190</th>\n",
       "      <td>1</td>\n",
       "      <td>2948</td>\n",
       "      <td>From Russia with Love</td>\n",
       "      <td>5.0</td>\n",
       "      <td>[Action, Adventure, Thriller]</td>\n",
       "    </tr>\n",
       "    <tr>\n",
       "      <th>189</th>\n",
       "      <td>1</td>\n",
       "      <td>2947</td>\n",
       "      <td>Goldfinger</td>\n",
       "      <td>5.0</td>\n",
       "      <td>[Action, Adventure, Thriller]</td>\n",
       "    </tr>\n",
       "    <tr>\n",
       "      <th>188</th>\n",
       "      <td>1</td>\n",
       "      <td>2944</td>\n",
       "      <td>Dirty Dozen, The</td>\n",
       "      <td>5.0</td>\n",
       "      <td>[Action, Drama, War]</td>\n",
       "    </tr>\n",
       "    <tr>\n",
       "      <th>186</th>\n",
       "      <td>1</td>\n",
       "      <td>2899</td>\n",
       "      <td>Gulliver's Travels</td>\n",
       "      <td>5.0</td>\n",
       "      <td>[Adventure, Animation, Children]</td>\n",
       "    </tr>\n",
       "    <tr>\n",
       "      <th>184</th>\n",
       "      <td>1</td>\n",
       "      <td>2858</td>\n",
       "      <td>American Beauty</td>\n",
       "      <td>5.0</td>\n",
       "      <td>[Drama, Romance]</td>\n",
       "    </tr>\n",
       "    <tr>\n",
       "      <th>179</th>\n",
       "      <td>1</td>\n",
       "      <td>2700</td>\n",
       "      <td>South Park: Bigger, Longer and Uncut</td>\n",
       "      <td>5.0</td>\n",
       "      <td>[Animation, Comedy, Musical]</td>\n",
       "    </tr>\n",
       "  </tbody>\n",
       "</table>\n",
       "</div>"
      ],
      "text/plain": [
       "     userId  movieId                                 title  rating  \\\n",
       "231       1     5060                 M*A*S*H (a.k.a. MASH)     5.0   \n",
       "185       1     2872                             Excalibur     5.0   \n",
       "89        1     1291    Indiana Jones and the Last Crusade     5.0   \n",
       "90        1     1298                  Pink Floyd: The Wall     5.0   \n",
       "190       1     2948                 From Russia with Love     5.0   \n",
       "189       1     2947                            Goldfinger     5.0   \n",
       "188       1     2944                      Dirty Dozen, The     5.0   \n",
       "186       1     2899                    Gulliver's Travels     5.0   \n",
       "184       1     2858                       American Beauty     5.0   \n",
       "179       1     2700  South Park: Bigger, Longer and Uncut     5.0   \n",
       "\n",
       "                               genres  \n",
       "231              [Comedy, Drama, War]  \n",
       "185              [Adventure, Fantasy]  \n",
       "89                [Action, Adventure]  \n",
       "90                   [Drama, Musical]  \n",
       "190     [Action, Adventure, Thriller]  \n",
       "189     [Action, Adventure, Thriller]  \n",
       "188              [Action, Drama, War]  \n",
       "186  [Adventure, Animation, Children]  \n",
       "184                  [Drama, Romance]  \n",
       "179      [Animation, Comedy, Musical]  "
      ]
     },
     "execution_count": 9,
     "metadata": {},
     "output_type": "execute_result"
    }
   ],
   "source": [
    "top_movies_user1, bottom_movies_user1 = ml.getPreferences(1,10)\n",
    "top_movies_user1"
   ]
  },
  {
   "cell_type": "code",
   "execution_count": 10,
   "id": "2a6f3cf1",
   "metadata": {},
   "outputs": [
    {
     "data": {
      "text/html": [
       "<div>\n",
       "<style scoped>\n",
       "    .dataframe tbody tr th:only-of-type {\n",
       "        vertical-align: middle;\n",
       "    }\n",
       "\n",
       "    .dataframe tbody tr th {\n",
       "        vertical-align: top;\n",
       "    }\n",
       "\n",
       "    .dataframe thead th {\n",
       "        text-align: right;\n",
       "    }\n",
       "</style>\n",
       "<table border=\"1\" class=\"dataframe\">\n",
       "  <thead>\n",
       "    <tr style=\"text-align: right;\">\n",
       "      <th></th>\n",
       "      <th>userId</th>\n",
       "      <th>movieId</th>\n",
       "      <th>title</th>\n",
       "      <th>rating</th>\n",
       "      <th>genres</th>\n",
       "    </tr>\n",
       "  </thead>\n",
       "  <tbody>\n",
       "    <tr>\n",
       "      <th>167</th>\n",
       "      <td>4</td>\n",
       "      <td>3175</td>\n",
       "      <td>Galaxy Quest</td>\n",
       "      <td>1.0</td>\n",
       "      <td>[Adventure, Comedy, Sci-Fi]</td>\n",
       "    </tr>\n",
       "    <tr>\n",
       "      <th>95</th>\n",
       "      <td>4</td>\n",
       "      <td>1391</td>\n",
       "      <td>Mars Attacks!</td>\n",
       "      <td>1.0</td>\n",
       "      <td>[Action, Comedy, Sci-Fi]</td>\n",
       "    </tr>\n",
       "    <tr>\n",
       "      <th>34</th>\n",
       "      <td>4</td>\n",
       "      <td>509</td>\n",
       "      <td>Piano, The</td>\n",
       "      <td>1.0</td>\n",
       "      <td>[Drama, Romance]</td>\n",
       "    </tr>\n",
       "    <tr>\n",
       "      <th>81</th>\n",
       "      <td>4</td>\n",
       "      <td>1211</td>\n",
       "      <td>Wings of Desire (Himmel über Berlin, Der)</td>\n",
       "      <td>1.0</td>\n",
       "      <td>[Drama, Fantasy, Romance]</td>\n",
       "    </tr>\n",
       "    <tr>\n",
       "      <th>177</th>\n",
       "      <td>4</td>\n",
       "      <td>3489</td>\n",
       "      <td>Hook</td>\n",
       "      <td>1.0</td>\n",
       "      <td>[Adventure, Comedy, Fantasy]</td>\n",
       "    </tr>\n",
       "    <tr>\n",
       "      <th>142</th>\n",
       "      <td>4</td>\n",
       "      <td>2571</td>\n",
       "      <td>Matrix, The</td>\n",
       "      <td>1.0</td>\n",
       "      <td>[Action, Sci-Fi, Thriller]</td>\n",
       "    </tr>\n",
       "    <tr>\n",
       "      <th>74</th>\n",
       "      <td>4</td>\n",
       "      <td>1183</td>\n",
       "      <td>English Patient, The</td>\n",
       "      <td>1.0</td>\n",
       "      <td>[Drama, Romance, War]</td>\n",
       "    </tr>\n",
       "    <tr>\n",
       "      <th>189</th>\n",
       "      <td>4</td>\n",
       "      <td>4014</td>\n",
       "      <td>Chocolat</td>\n",
       "      <td>1.0</td>\n",
       "      <td>[Drama, Romance]</td>\n",
       "    </tr>\n",
       "    <tr>\n",
       "      <th>36</th>\n",
       "      <td>4</td>\n",
       "      <td>539</td>\n",
       "      <td>Sleepless in Seattle</td>\n",
       "      <td>1.0</td>\n",
       "      <td>[Comedy, Drama, Romance]</td>\n",
       "    </tr>\n",
       "    <tr>\n",
       "      <th>180</th>\n",
       "      <td>4</td>\n",
       "      <td>3591</td>\n",
       "      <td>Mr. Mom</td>\n",
       "      <td>1.0</td>\n",
       "      <td>[Comedy, Drama]</td>\n",
       "    </tr>\n",
       "  </tbody>\n",
       "</table>\n",
       "</div>"
      ],
      "text/plain": [
       "     userId  movieId                                      title  rating  \\\n",
       "167       4     3175                               Galaxy Quest     1.0   \n",
       "95        4     1391                              Mars Attacks!     1.0   \n",
       "34        4      509                                 Piano, The     1.0   \n",
       "81        4     1211  Wings of Desire (Himmel über Berlin, Der)     1.0   \n",
       "177       4     3489                                       Hook     1.0   \n",
       "142       4     2571                                Matrix, The     1.0   \n",
       "74        4     1183                       English Patient, The     1.0   \n",
       "189       4     4014                                   Chocolat     1.0   \n",
       "36        4      539                       Sleepless in Seattle     1.0   \n",
       "180       4     3591                                    Mr. Mom     1.0   \n",
       "\n",
       "                           genres  \n",
       "167   [Adventure, Comedy, Sci-Fi]  \n",
       "95       [Action, Comedy, Sci-Fi]  \n",
       "34               [Drama, Romance]  \n",
       "81      [Drama, Fantasy, Romance]  \n",
       "177  [Adventure, Comedy, Fantasy]  \n",
       "142    [Action, Sci-Fi, Thriller]  \n",
       "74          [Drama, Romance, War]  \n",
       "189              [Drama, Romance]  \n",
       "36       [Comedy, Drama, Romance]  \n",
       "180               [Comedy, Drama]  "
      ]
     },
     "execution_count": 10,
     "metadata": {},
     "output_type": "execute_result"
    }
   ],
   "source": [
    "top_movies_user4, bottom_movies_user4 = ml.getPreferences(4,10)\n",
    "bottom_movies_user4"
   ]
  },
  {
   "cell_type": "markdown",
   "id": "efb235f1",
   "metadata": {},
   "source": [
    "Una vez obtenidas las películas que más y menos les han gustado a los usuarios podemos obtener cuales son los géneros más y menos populares asociados a cada uno de los perfiles en base a las películas seleccionadas. **¿Tiene sentido?**"
   ]
  }
 ],
 "metadata": {
  "kernelspec": {
   "display_name": "Python 3 (ipykernel)",
   "language": "python",
   "name": "python3"
  },
  "language_info": {
   "codemirror_mode": {
    "name": "ipython",
    "version": 3
   },
   "file_extension": ".py",
   "mimetype": "text/x-python",
   "name": "python",
   "nbconvert_exporter": "python",
   "pygments_lexer": "ipython3",
   "version": "3.9.16"
  }
 },
 "nbformat": 4,
 "nbformat_minor": 5
}

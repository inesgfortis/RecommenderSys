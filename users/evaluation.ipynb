{
 "cells": [
  {
   "cell_type": "code",
   "execution_count": null,
   "id": "7a456008",
   "metadata": {},
   "outputs": [],
   "source": [
    "import os\n",
    "os.chdir('../movies')\n",
    "from movieLens import MovieLens"
   ]
  },
  {
   "cell_type": "code",
   "execution_count": null,
   "id": "0654e43b",
   "metadata": {},
   "outputs": [],
   "source": [
    "ml = MovieLens()\n",
    "ratings = ml.ratings.copy()\n",
    "movies = ml.movies.copy()"
   ]
  },
  {
   "cell_type": "code",
   "execution_count": null,
   "id": "c6b99c1d",
   "metadata": {},
   "outputs": [],
   "source": [
    "import pandas  as pd"
   ]
  },
  {
   "cell_type": "markdown",
   "id": "d04f88ba",
   "metadata": {},
   "source": [
    "## Búsqueda de los usuarios"
   ]
  },
  {
   "cell_type": "markdown",
   "id": "6da2f464",
   "metadata": {},
   "source": [
    "Para evaluar la efectividad de los diferentes algoritmos de recomendación, es importante considerar la variabilidad en los gustos y experiencias de los usuarios. En este sentido, se llevará a cabo un experimento utilizando dos usuarios distintos como casos de estudio. El objetivo es analizar cómo los algoritmos de recomendación se comportan al proporcionar recomendaciones personalizadas a cada uno de estos usuarios."
   ]
  },
  {
   "cell_type": "code",
   "execution_count": null,
   "id": "8ce7d1f7",
   "metadata": {},
   "outputs": [],
   "source": [
    "# Filter the ratings DataFrame for the target user ID\n",
    "user_data_1 = ratings[ratings['userId'] == 1]\n",
    "print(len(user_data_1))\n",
    "\n",
    "# Print all information associated with the target user\n",
    "# print(user_data_1)\n",
    "\n",
    "movies_for_user_1 = user_data_1.groupby('userId')['movieId'].unique()\n",
    "movies_for_user_1"
   ]
  },
  {
   "cell_type": "code",
   "execution_count": null,
   "id": "37eefc64",
   "metadata": {
    "scrolled": true
   },
   "outputs": [],
   "source": [
    "# Filter the ratings DataFrame for the target user ID\n",
    "user_data_4 = ratings[ratings['userId'] == 4]\n",
    "print(len(user_data_4))\n",
    "\n",
    "# Print all information associated with the target user\n",
    "# print(user_data_85)\n",
    "\n",
    "movies_for_user_4 = user_data_4.groupby('userId')['movieId'].unique()\n",
    "movies_for_user_4"
   ]
  },
  {
   "cell_type": "code",
   "execution_count": null,
   "id": "c91cb56f",
   "metadata": {},
   "outputs": [],
   "source": [
    "# Convert the elements in the Series to strings\n",
    "movies_for_user_1 = movies_for_user_1.astype(str)\n",
    "movies_for_user_4 = movies_for_user_4.astype(str)\n",
    "\n",
    "# Find the common elements in both series\n",
    "common_elements = pd.Series(list(set(movies_for_user_1) & set(movies_for_user_4)), dtype=object)\n",
    "\n",
    "# Print the common elements\n",
    "print(common_elements)"
   ]
  },
  {
   "cell_type": "markdown",
   "id": "f376b003",
   "metadata": {},
   "source": [
    "Para evaluar de manera efectiva los algoritmos de recomendación en un contexto específico, se ha realizado una selección cuidadosa de dos usuarios que han valorado más o menos el mismo números de películas pero que no han visto ninguna película en común (userId = 1 y userId = 4). Esta elección se ha llevado a cabo con el propósito de analizar cómo los algoritmos pueden generar recomendaciones personalizadas tomando como referencia dos usuarios que no comparten ninguna experiencia cinematográfica previa."
   ]
  },
  {
   "cell_type": "markdown",
   "id": "adbf9c52",
   "metadata": {},
   "source": [
    "# Caracterización de los usuarios"
   ]
  },
  {
   "cell_type": "markdown",
   "id": "d8ea9d78",
   "metadata": {},
   "source": [
    "Se utiliza la función getPreferences de la clase movieLens para obtener las principales preferencias de un usuario en cuanto a películas. Toma como entrada el ID de usuario y el número de películas a seleccionar. La función devuelve dos DataFrames: uno con las k películas con las calificaciones más altas y otro con las k películas con las calificaciones más bajas, incluyendo el título de cada película."
   ]
  },
  {
   "cell_type": "code",
   "execution_count": null,
   "id": "be85b630",
   "metadata": {
    "scrolled": true
   },
   "outputs": [],
   "source": [
    "top_movies_user1, bottom_movies_user1 = ml.getPreferences(1,10)\n",
    "top_movies_user1"
   ]
  },
  {
   "cell_type": "code",
   "execution_count": null,
   "id": "e2677c22",
   "metadata": {},
   "outputs": [],
   "source": [
    "top_movies_user4, bottom_movies_user4 = ml.getPreferences(4,10)\n",
    "bottom_movies_user4"
   ]
  },
  {
   "cell_type": "markdown",
   "id": "a183f250",
   "metadata": {},
   "source": [
    "Una vez obtenidas las películas que más y menos les han gustado a los usuarios podemos obtener cuales son los géneros más y menos populares asociados a cada uno de los perfiles en base a las películas seleccionadas. **¿Tiene sentido?**"
   ]
  },
  {
   "cell_type": "code",
   "execution_count": null,
   "id": "9db32e96",
   "metadata": {},
   "outputs": [],
   "source": []
  },
  {
   "cell_type": "markdown",
   "id": "934e8a58",
   "metadata": {},
   "source": [
    "# Recomendaciones"
   ]
  },
  {
   "cell_type": "markdown",
   "id": "43f97f07",
   "metadata": {},
   "source": [
    "Por último creamos dos archivos excel, uno para cada uno de los usuarios, en el que se irán guardando las recomendaciones resultantes de los distintos modelos para cada uno de estos dos usuarios"
   ]
  },
  {
   "cell_type": "code",
   "execution_count": null,
   "id": "5203f44d",
   "metadata": {},
   "outputs": [],
   "source": [
    "def createExcel(path):\n",
    "    # File path\n",
    "    FILE_PATH = path\n",
    "    \n",
    "    # Create a dictionary with the data\n",
    "    data = {\"model\": [],\"recommendations\": []}\n",
    "\n",
    "    # Create a DataFrame from the dictionary\n",
    "    df = pd.DataFrame(data)\n",
    "\n",
    "    # Save the DataFrame to an Excel file\n",
    "    df.to_excel(FILE_PATH, index=False)\n"
   ]
  },
  {
   "cell_type": "code",
   "execution_count": null,
   "id": "59d90a32",
   "metadata": {},
   "outputs": [],
   "source": [
    "createExcel(\"../users/rec_user1.xlsx\")\n",
    "createExcel(\"../users/rec_user4.xlsx\")"
   ]
  },
  {
   "cell_type": "code",
   "execution_count": null,
   "id": "8789fb8c",
   "metadata": {},
   "outputs": [],
   "source": []
  },
  {
   "cell_type": "code",
   "execution_count": null,
   "id": "ea9bbd27",
   "metadata": {},
   "outputs": [],
   "source": []
  },
  {
   "cell_type": "code",
   "execution_count": 1,
   "id": "7d23ec6e",
   "metadata": {},
   "outputs": [],
   "source": [
    "import os\n",
    "os.chdir('../metrics')\n",
    "from metrics import evaluationMetrics\n",
    "em = evaluationMetrics()"
   ]
  },
  {
   "cell_type": "code",
   "execution_count": 2,
   "id": "6fe0abfd",
   "metadata": {},
   "outputs": [],
   "source": [
    "em.addUserRecommendations(\"rec_user1.xlsx\", \"prueba\", ['Usual Suspects, The','Star Wars: Episode VI - Return of the Jedi'])\n",
    "em.addUserRecommendations(\"rec_user4.xlsx\", \"prueba\", ['Usual Suspects, The','Star Wars: Episode VI - Return of the Jedi'])"
   ]
  },
  {
   "cell_type": "code",
   "execution_count": null,
   "id": "bd4b96c7",
   "metadata": {},
   "outputs": [],
   "source": []
  }
 ],
 "metadata": {
  "kernelspec": {
   "display_name": "Python 3 (ipykernel)",
   "language": "python",
   "name": "python3"
  },
  "language_info": {
   "codemirror_mode": {
    "name": "ipython",
    "version": 3
   },
   "file_extension": ".py",
   "mimetype": "text/x-python",
   "name": "python",
   "nbconvert_exporter": "python",
   "pygments_lexer": "ipython3",
   "version": "3.9.16"
  }
 },
 "nbformat": 4,
 "nbformat_minor": 5
}

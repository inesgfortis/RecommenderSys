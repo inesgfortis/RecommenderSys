{
 "cells": [
  {
   "cell_type": "code",
   "execution_count": 1,
   "id": "d80e401f",
   "metadata": {},
   "outputs": [],
   "source": [
    "import os\n",
    "os.chdir('../movies')\n",
    "from movieLens import MovieLens\n",
    "\n",
    "#ml = MovieLens()"
   ]
  },
  {
   "cell_type": "code",
   "execution_count": 2,
   "id": "cd92e8c5",
   "metadata": {},
   "outputs": [],
   "source": [
    "# from surprise import AlgoBase\n",
    "# from surprise import PredictionImpossible\n",
    "\n",
    "import math\n",
    "import numpy as np\n",
    "import heapq\n",
    "\n",
    "# Cosine similarity metric (genres)\n",
    "def getGenreSimilarityScore(movieId_1, movieId_2, genres):\n",
    "    genres1 = genres[movieId_1]\n",
    "    genres2 = genres[movieId_2]\n",
    "\n",
    "    sumxx,sumxy,sumyy = 0,0,0\n",
    "\n",
    "    for i in range(len(genres1)):\n",
    "        x = genres1[i]\n",
    "        y = genres2[i]\n",
    "\n",
    "        sumxx += x*x\n",
    "        sumyy += y*y\n",
    "        sumxy += x*y\n",
    "\n",
    "    res =sumxy/math.sqrt(sumxx*sumyy)\n",
    "    return res\n",
    "\n",
    "\n",
    "# Exponential decay function\n",
    "def getYearSimilarityScore(year_movie1, year_movie2):\n",
    "    if year_movie1 == None or year_movie2 == None:\n",
    "        res = 0\n",
    "    else:\n",
    "        dif = abs(int(year_movie1)-int(year_movie2))\n",
    "        res = math.exp(-dif / 10.0)\n",
    "    return res"
   ]
  },
  {
   "cell_type": "markdown",
   "id": "8668ad36",
   "metadata": {},
   "source": [
    "Content based recommender of movies based on the genre and the year of the movies"
   ]
  },
  {
   "cell_type": "code",
   "execution_count": 3,
   "id": "0ffff165",
   "metadata": {},
   "outputs": [],
   "source": [
    "# KNN\n",
    "def getNeighbors(movie_title):\n",
    "\n",
    "    # Load up genre vectors for every movie\n",
    "    ml = MovieLens()\n",
    "    genres = ml.getGenres()\n",
    "\n",
    "    neighbors = []\n",
    "    #movie_title = \"Toy Story\"\n",
    "    movie_df = ml.movies[ml.movies['title'] == movie_title]\n",
    "    filtered_df = ml.movies[ml.movies['title'] != movie_title]\n",
    "\n",
    "    for index, row in filtered_df.iterrows():\n",
    "        #print(row['movieId'])\n",
    "        #print(index)\n",
    "        genre_score = getGenreSimilarityScore(movie_df['movieId'].values[0],row['movieId'],genres)\n",
    "        #year_score = getYearSimilarityScore(movie_df['year'].values[0],row['year'])\n",
    "\n",
    "        #Compute the global score\n",
    "        score = genre_score #* year_score\n",
    "        #print(score)\n",
    "\n",
    "        # Add the result\n",
    "        neighbors.append((score,row['movieId']))\n",
    "\n",
    "    # Extract the top-K most-similar ratings based on the similarity score)\n",
    "    # Returns a list of tuples(score,movieId)\n",
    "    top = heapq.nlargest(15, neighbors, key=lambda t: t[0])\n",
    "    \n",
    "    top_movies = []\n",
    "    \n",
    "    for item in top:\n",
    "        title = ml.movieID_to_name.get(item[1])\n",
    "        #print(title)\n",
    "        top_movies.append(title)\n",
    "    \n",
    "    # Returns the list with the title of the top k recommendations\n",
    "    return top_movies\n",
    "\n",
    "\n",
    "#     # Compute average sim score of K neighbors weighted by user ratings\n",
    "#     simTotal = weightedSum = 0\n",
    "#     for (simScore, rating) in k_neighbors:\n",
    "#         if (simScore > 0):\n",
    "#             simTotal += simScore\n",
    "#             weightedSum += simScore * rating\n",
    "\n",
    "#     if (simTotal == 0):\n",
    "#         raise PredictionImpossible('No neighbors')\n",
    "\n",
    "#     predictedRating = weightedSum / simTotal\n",
    "\n",
    "#     return predictedRating"
   ]
  },
  {
   "cell_type": "code",
   "execution_count": 4,
   "id": "c59a016e",
   "metadata": {},
   "outputs": [
    {
     "data": {
      "text/plain": [
       "['Antz',\n",
       " 'Toy Story 2',\n",
       " 'Adventures of Rocky and Bullwinkle, The',\n",
       " \"Emperor's New Groove, The\",\n",
       " 'Monsters, Inc.',\n",
       " 'Wild, The',\n",
       " 'Shrek the Third',\n",
       " 'Tale of Despereaux, The',\n",
       " 'Asterix and the Vikings (Astérix et les Vikings)',\n",
       " 'Turbo',\n",
       " 'The Good Dinosaur',\n",
       " 'Moana',\n",
       " 'Space Jam',\n",
       " 'Shrek',\n",
       " \"Twelve Tasks of Asterix, The (Les douze travaux d'Astérix)\"]"
      ]
     },
     "execution_count": 4,
     "metadata": {},
     "output_type": "execute_result"
    }
   ],
   "source": [
    "top = getNeighbors(\"Toy Story\")\n",
    "top"
   ]
  }
 ],
 "metadata": {
  "kernelspec": {
   "display_name": "Python 3 (ipykernel)",
   "language": "python",
   "name": "python3"
  },
  "language_info": {
   "codemirror_mode": {
    "name": "ipython",
    "version": 3
   },
   "file_extension": ".py",
   "mimetype": "text/x-python",
   "name": "python",
   "nbconvert_exporter": "python",
   "pygments_lexer": "ipython3",
   "version": "3.9.16"
  }
 },
 "nbformat": 4,
 "nbformat_minor": 5
}

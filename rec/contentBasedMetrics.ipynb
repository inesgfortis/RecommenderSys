{
 "cells": [
  {
   "cell_type": "code",
   "execution_count": 1,
   "id": "aa3619d8",
   "metadata": {},
   "outputs": [],
   "source": [
    "#import pandas as pd"
   ]
  },
  {
   "cell_type": "code",
   "execution_count": 2,
   "id": "afe514c7",
   "metadata": {},
   "outputs": [],
   "source": [
    "import os\n",
    "os.chdir('../movies')\n",
    "from movieLens import MovieLens\n",
    "\n",
    "ml = MovieLens()"
   ]
  },
  {
   "cell_type": "code",
   "execution_count": 4,
   "id": "39582eb1",
   "metadata": {},
   "outputs": [
    {
     "data": {
      "text/html": [
       "<div>\n",
       "<style scoped>\n",
       "    .dataframe tbody tr th:only-of-type {\n",
       "        vertical-align: middle;\n",
       "    }\n",
       "\n",
       "    .dataframe tbody tr th {\n",
       "        vertical-align: top;\n",
       "    }\n",
       "\n",
       "    .dataframe thead th {\n",
       "        text-align: right;\n",
       "    }\n",
       "</style>\n",
       "<table border=\"1\" class=\"dataframe\">\n",
       "  <thead>\n",
       "    <tr style=\"text-align: right;\">\n",
       "      <th></th>\n",
       "      <th>userId</th>\n",
       "      <th>movieId</th>\n",
       "      <th>rating</th>\n",
       "      <th>timestamp</th>\n",
       "    </tr>\n",
       "  </thead>\n",
       "  <tbody>\n",
       "    <tr>\n",
       "      <th>0</th>\n",
       "      <td>1</td>\n",
       "      <td>1</td>\n",
       "      <td>4.0</td>\n",
       "      <td>964982703</td>\n",
       "    </tr>\n",
       "    <tr>\n",
       "      <th>1</th>\n",
       "      <td>1</td>\n",
       "      <td>3</td>\n",
       "      <td>4.0</td>\n",
       "      <td>964981247</td>\n",
       "    </tr>\n",
       "    <tr>\n",
       "      <th>2</th>\n",
       "      <td>1</td>\n",
       "      <td>6</td>\n",
       "      <td>4.0</td>\n",
       "      <td>964982224</td>\n",
       "    </tr>\n",
       "    <tr>\n",
       "      <th>3</th>\n",
       "      <td>1</td>\n",
       "      <td>47</td>\n",
       "      <td>5.0</td>\n",
       "      <td>964983815</td>\n",
       "    </tr>\n",
       "    <tr>\n",
       "      <th>4</th>\n",
       "      <td>1</td>\n",
       "      <td>50</td>\n",
       "      <td>5.0</td>\n",
       "      <td>964982931</td>\n",
       "    </tr>\n",
       "  </tbody>\n",
       "</table>\n",
       "</div>"
      ],
      "text/plain": [
       "   userId  movieId  rating  timestamp\n",
       "0       1        1     4.0  964982703\n",
       "1       1        3     4.0  964981247\n",
       "2       1        6     4.0  964982224\n",
       "3       1       47     5.0  964983815\n",
       "4       1       50     5.0  964982931"
      ]
     },
     "execution_count": 4,
     "metadata": {},
     "output_type": "execute_result"
    }
   ],
   "source": [
    "# Get users who liked the original movie\n",
    "ratings = ml.ratings\n",
    "ratings.head()"
   ]
  },
  {
   "cell_type": "code",
   "execution_count": null,
   "id": "15b49171",
   "metadata": {},
   "outputs": [],
   "source": []
  },
  {
   "cell_type": "code",
   "execution_count": 25,
   "id": "3c5fdde4",
   "metadata": {},
   "outputs": [
    {
     "data": {
      "text/plain": [
       "['Shawshank Redemption, The',\n",
       " 'Forrest Gump',\n",
       " 'Star Wars: Episode IV - A New Hope',\n",
       " 'Pulp Fiction',\n",
       " 'Silence of the Lambs, The',\n",
       " 'Star Wars: Episode V - The Empire Strikes Back',\n",
       " 'Matrix, The',\n",
       " 'Jurassic Park',\n",
       " 'Raiders of the Lost Ark (Indiana Jones and the Raiders of the Lost Ark)',\n",
       " 'Star Wars: Episode VI - Return of the Jedi',\n",
       " 'Sixth Sense, The',\n",
       " \"Schindler's List\",\n",
       " 'Saving Private Ryan',\n",
       " 'Usual Suspects, The',\n",
       " 'Lion King, The']"
      ]
     },
     "execution_count": 25,
     "metadata": {},
     "output_type": "execute_result"
    }
   ],
   "source": [
    "movie_id = ml.name_to_movieID[\"Toy Story\"]\n",
    "\n",
    "# Seleccionamos solo los ratings buenos correspondientes a la película deseada\n",
    "movie_ratings = ratings[(ratings['movieId'] == movie_id)& (ratings['rating'] >= 4.0)]\n",
    "len(movie_ratings)\n",
    "\n",
    "# Seleccionamos el id de los usuarios a los que les haya gustado la película\n",
    "# Y detectamos que otras películas han gustado\n",
    "user_ids = movie_ratings['userId'].unique()\n",
    "filtered_df = ratings[ratings['userId'].isin(user_ids)]\n",
    "\n",
    "# Seleccionamos únicamente las películas que no sean la elegida como base de recomendación y con rating >4\n",
    "filtered_df = filtered_df[(filtered_df['movieId'] != movie_id)& (filtered_df['rating'] >= 4.0)]\n",
    "\n",
    "# Contamos el número de veces que aparece cada película y seleccionamos el top N (15)\n",
    "n=15\n",
    "movie_counts = filtered_df.groupby('movieId').size().reset_index(name='count')\n",
    "movie_counts = movie_counts.sort_values('count', ascending=False)\n",
    "top_n =movie_counts.head(n)\n",
    "\n",
    "\n",
    "#Traducimos el Id a name\n",
    "movies = [ml.movieID_to_name[key] for key in top_n['movieId']]\n",
    "movies"
   ]
  },
  {
   "cell_type": "code",
   "execution_count": 32,
   "id": "5afcf48e",
   "metadata": {},
   "outputs": [],
   "source": [
    "# Las recomendaciones se obtienen del recomedador (pndte de automatización)\n",
    "recommedations = ['Antz',\n",
    " 'Toy Story 2',\n",
    " 'Adventures of Rocky and Bullwinkle, The',\n",
    " \"Emperor's New Groove, The\",\n",
    " 'Monsters, Inc.',\n",
    " 'Wild, The',\n",
    " 'Shrek the Third',\n",
    " 'Tale of Despereaux, The',\n",
    " 'Asterix and the Vikings (Astérix et les Vikings)',\n",
    " 'Turbo',\n",
    " 'The Good Dinosaur',\n",
    " 'Moana',\n",
    " 'Space Jam',\n",
    " 'Shrek',\n",
    " \"Twelve Tasks of Asterix, The (Les douze travaux d'Astérix)\"]\n",
    "\n"
   ]
  },
  {
   "cell_type": "code",
   "execution_count": 33,
   "id": "1b620cc8",
   "metadata": {},
   "outputs": [
    {
     "data": {
      "text/plain": [
       "{'Lion King, The'}"
      ]
     },
     "execution_count": 33,
     "metadata": {},
     "output_type": "execute_result"
    }
   ],
   "source": [
    "# Comprobamos cuantas de dichas películas aparecen en las recomendaciones\n",
    "\n",
    "intersection = set(recommedations).intersection(set(movies))\n",
    "intersection"
   ]
  }
 ],
 "metadata": {
  "kernelspec": {
   "display_name": "Python 3 (ipykernel)",
   "language": "python",
   "name": "python3"
  },
  "language_info": {
   "codemirror_mode": {
    "name": "ipython",
    "version": 3
   },
   "file_extension": ".py",
   "mimetype": "text/x-python",
   "name": "python",
   "nbconvert_exporter": "python",
   "pygments_lexer": "ipython3",
   "version": "3.9.16"
  }
 },
 "nbformat": 4,
 "nbformat_minor": 5
}

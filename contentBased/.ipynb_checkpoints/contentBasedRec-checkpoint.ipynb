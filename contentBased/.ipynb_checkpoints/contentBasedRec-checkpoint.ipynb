{
 "cells": [
  {
   "cell_type": "code",
   "execution_count": 1,
   "id": "d80e401f",
   "metadata": {},
   "outputs": [],
   "source": [
    "import os\n",
    "os.chdir('../movies')\n",
    "from movieLens import MovieLens"
   ]
  },
  {
   "cell_type": "code",
   "execution_count": 2,
   "id": "a28c30e3",
   "metadata": {},
   "outputs": [],
   "source": [
    "ml = MovieLens()"
   ]
  },
  {
   "cell_type": "markdown",
   "id": "a18502ae",
   "metadata": {},
   "source": [
    "## Algorithm"
   ]
  },
  {
   "cell_type": "code",
   "execution_count": 3,
   "id": "cd92e8c5",
   "metadata": {},
   "outputs": [],
   "source": [
    "import math\n",
    "import numpy as np\n",
    "import heapq\n",
    "\n",
    "# Cosine similarity metric (genres)\n",
    "def getGenreSimilarityScore(movieId_1, movieId_2, genres):\n",
    "    genres1 = genres[movieId_1]\n",
    "    genres2 = genres[movieId_2]\n",
    "\n",
    "    sumxx,sumxy,sumyy = 0,0,0\n",
    "\n",
    "    for i in range(len(genres1)):\n",
    "        x = genres1[i]\n",
    "        y = genres2[i]\n",
    "\n",
    "        sumxx += x*x\n",
    "        sumyy += y*y\n",
    "        sumxy += x*y\n",
    "\n",
    "    res =sumxy/math.sqrt(sumxx*sumyy)\n",
    "    return res\n",
    "\n",
    "\n",
    "# Exponential decay function\n",
    "def getYearSimilarityScore(year_movie1, year_movie2):\n",
    "    if year_movie1 == None or year_movie2 == None:\n",
    "        res = 0\n",
    "    else:\n",
    "        dif = abs(int(year_movie1)-int(year_movie2))\n",
    "        res = math.exp(-dif / 10.0)\n",
    "    return res"
   ]
  },
  {
   "cell_type": "markdown",
   "id": "8668ad36",
   "metadata": {},
   "source": [
    "Content based recommender of movies based on the genre and the year of the movies"
   ]
  },
  {
   "cell_type": "code",
   "execution_count": 4,
   "id": "0ffff165",
   "metadata": {},
   "outputs": [],
   "source": [
    "# KNN\n",
    "def getNeighbors(movie_title,ml):\n",
    "\n",
    "    # Load up genre vectors for every movie\n",
    "    # ml = MovieLens()\n",
    "    #genres = ml.getGenres()\n",
    "    genres = ml.movies_genres\n",
    "\n",
    "    neighbors = []\n",
    "    #movie_title = \"Toy Story\"\n",
    "    movie_df = ml.movies[ml.movies['title'] == movie_title]\n",
    "    filtered_df = ml.movies[ml.movies['title'] != movie_title]\n",
    "\n",
    "    for index, row in filtered_df.iterrows():\n",
    "        #print(row['movieId'])\n",
    "        #print(index)\n",
    "        genre_score = getGenreSimilarityScore(movie_df['movieId'].values[0],row['movieId'],genres)\n",
    "        #year_score = getYearSimilarityScore(movie_df['year'].values[0],row['year'])\n",
    "\n",
    "        #Compute the global score\n",
    "        score = genre_score #* year_score\n",
    "        #print(score)\n",
    "\n",
    "        # Add the result\n",
    "        neighbors.append((score,row['movieId']))\n",
    "\n",
    "    # Extract the top-K most-similar ratings based on the similarity score)\n",
    "    # Returns a list of tuples(score,movieId)\n",
    "    top = heapq.nlargest(15, neighbors, key=lambda t: t[0])\n",
    "    \n",
    "    top_movies = []\n",
    "    \n",
    "    for item in top:\n",
    "        title = ml.movieID_to_name.get(item[1])\n",
    "        #print(title)\n",
    "        top_movies.append(title)\n",
    "    \n",
    "    # Returns the list with the title of the top k recommendations\n",
    "    return top_movies\n",
    "\n",
    "\n",
    "#     # Compute average sim score of K neighbors weighted by user ratings\n",
    "#     simTotal = weightedSum = 0\n",
    "#     for (simScore, rating) in k_neighbors:\n",
    "#         if (simScore > 0):\n",
    "#             simTotal += simScore\n",
    "#             weightedSum += simScore * rating\n",
    "\n",
    "#     if (simTotal == 0):\n",
    "#         raise PredictionImpossible('No neighbors')\n",
    "\n",
    "#     predictedRating = weightedSum / simTotal\n",
    "\n",
    "#     return predictedRating"
   ]
  },
  {
   "cell_type": "markdown",
   "id": "73ee5a47",
   "metadata": {},
   "source": [
    "## Evaluation"
   ]
  },
  {
   "cell_type": "code",
   "execution_count": 5,
   "id": "249ce56f",
   "metadata": {},
   "outputs": [],
   "source": [
    "movie_name = \"Toy Story\""
   ]
  },
  {
   "cell_type": "code",
   "execution_count": 6,
   "id": "c59a016e",
   "metadata": {},
   "outputs": [
    {
     "data": {
      "text/plain": [
       "['Antz',\n",
       " 'Toy Story 2',\n",
       " 'Adventures of Rocky and Bullwinkle, The',\n",
       " \"Emperor's New Groove, The\",\n",
       " 'Monsters, Inc.',\n",
       " 'Wild, The',\n",
       " 'Shrek the Third',\n",
       " 'Tale of Despereaux, The',\n",
       " 'Asterix and the Vikings (Astérix et les Vikings)',\n",
       " 'Turbo',\n",
       " 'The Good Dinosaur',\n",
       " 'Moana',\n",
       " 'Space Jam',\n",
       " 'Shrek',\n",
       " \"Twelve Tasks of Asterix, The (Les douze travaux d'Astérix)\"]"
      ]
     },
     "execution_count": 6,
     "metadata": {},
     "output_type": "execute_result"
    }
   ],
   "source": [
    "recommendations = getNeighbors(movie_name,ml)\n",
    "recommendations"
   ]
  },
  {
   "cell_type": "markdown",
   "id": "54a2b75a",
   "metadata": {},
   "source": [
    "Another way to obtain recommendations"
   ]
  },
  {
   "cell_type": "code",
   "execution_count": 7,
   "id": "d5bc27f1",
   "metadata": {
    "scrolled": true
   },
   "outputs": [
    {
     "data": {
      "text/html": [
       "<div>\n",
       "<style scoped>\n",
       "    .dataframe tbody tr th:only-of-type {\n",
       "        vertical-align: middle;\n",
       "    }\n",
       "\n",
       "    .dataframe tbody tr th {\n",
       "        vertical-align: top;\n",
       "    }\n",
       "\n",
       "    .dataframe thead th {\n",
       "        text-align: right;\n",
       "    }\n",
       "</style>\n",
       "<table border=\"1\" class=\"dataframe\">\n",
       "  <thead>\n",
       "    <tr style=\"text-align: right;\">\n",
       "      <th></th>\n",
       "      <th>movieId</th>\n",
       "      <th>title</th>\n",
       "      <th>year</th>\n",
       "      <th>genres</th>\n",
       "    </tr>\n",
       "  </thead>\n",
       "  <tbody>\n",
       "    <tr>\n",
       "      <th>0</th>\n",
       "      <td>1</td>\n",
       "      <td>Toy Story</td>\n",
       "      <td>1995.0</td>\n",
       "      <td>[Adventure, Animation, Children, Comedy, Fantasy]</td>\n",
       "    </tr>\n",
       "    <tr>\n",
       "      <th>1</th>\n",
       "      <td>2</td>\n",
       "      <td>Jumanji</td>\n",
       "      <td>1995.0</td>\n",
       "      <td>[Adventure, Children, Fantasy]</td>\n",
       "    </tr>\n",
       "    <tr>\n",
       "      <th>2</th>\n",
       "      <td>3</td>\n",
       "      <td>Grumpier Old Men</td>\n",
       "      <td>1995.0</td>\n",
       "      <td>[Comedy, Romance]</td>\n",
       "    </tr>\n",
       "    <tr>\n",
       "      <th>3</th>\n",
       "      <td>4</td>\n",
       "      <td>Waiting to Exhale</td>\n",
       "      <td>1995.0</td>\n",
       "      <td>[Comedy, Drama, Romance]</td>\n",
       "    </tr>\n",
       "    <tr>\n",
       "      <th>4</th>\n",
       "      <td>5</td>\n",
       "      <td>Father of the Bride Part II</td>\n",
       "      <td>1995.0</td>\n",
       "      <td>[Comedy]</td>\n",
       "    </tr>\n",
       "  </tbody>\n",
       "</table>\n",
       "</div>"
      ],
      "text/plain": [
       "   movieId                        title    year  \\\n",
       "0        1                    Toy Story  1995.0   \n",
       "1        2                      Jumanji  1995.0   \n",
       "2        3             Grumpier Old Men  1995.0   \n",
       "3        4            Waiting to Exhale  1995.0   \n",
       "4        5  Father of the Bride Part II  1995.0   \n",
       "\n",
       "                                              genres  \n",
       "0  [Adventure, Animation, Children, Comedy, Fantasy]  \n",
       "1                     [Adventure, Children, Fantasy]  \n",
       "2                                  [Comedy, Romance]  \n",
       "3                           [Comedy, Drama, Romance]  \n",
       "4                                           [Comedy]  "
      ]
     },
     "execution_count": 7,
     "metadata": {},
     "output_type": "execute_result"
    }
   ],
   "source": [
    "movies = ml.movies\n",
    "movies.head()"
   ]
  },
  {
   "cell_type": "code",
   "execution_count": 8,
   "id": "b32297c5",
   "metadata": {
    "scrolled": false
   },
   "outputs": [
    {
     "data": {
      "text/plain": [
       "1706                                                Antz\n",
       "2355                                         Toy Story 2\n",
       "2809             Adventures of Rocky and Bullwinkle, The\n",
       "3000                           Emperor's New Groove, The\n",
       "3568                                      Monsters, Inc.\n",
       "6194                                           Wild, The\n",
       "6486                                     Shrek the Third\n",
       "6948                             Tale of Despereaux, The\n",
       "7760    Asterix and the Vikings (Astérix et les Vikings)\n",
       "8219                                               Turbo\n",
       "Name: title, dtype: object"
      ]
     },
     "execution_count": 8,
     "metadata": {},
     "output_type": "execute_result"
    }
   ],
   "source": [
    "import pandas as pd \n",
    "import numpy as np \n",
    "from sklearn.feature_extraction.text import TfidfVectorizer \n",
    "from sklearn.metrics.pairwise import cosine_similarity\n",
    "\n",
    "movies['genres'] = movies['genres'].apply(lambda x: ' '.join(x))\n",
    "tfidf = TfidfVectorizer(stop_words='english') \n",
    "tfidf_matrix = tfidf.fit_transform(movies['genres'])\n",
    "cosine_sim = cosine_similarity(tfidf_matrix, tfidf_matrix)\n",
    "\n",
    "def getRecommendations(title, cosine_sim=cosine_sim, movies=movies): \n",
    "    # Obtiene el índice de la película que coincide con el título \n",
    "    idx = movies[movies['title'] == title].index[0]         \n",
    "    # Obtiene la similitud coseno de la película con todas las demás películas \n",
    "    sim_scores = list(enumerate(cosine_sim[idx]))         \n",
    "    # Ordena las películas por similitud coseno \n",
    "    sim_scores = sorted(sim_scores, key=lambda x: x[1], reverse=True)         \n",
    "    # Obtiene los índices de las 10 películas más similares \n",
    "    sim_scores = sim_scores[1:11]    \n",
    "    movie_indices = [i[0] for i in sim_scores]         \n",
    "    # Devuelve las 10 películas más similares \n",
    "    return movies['title'].iloc[movie_indices]\n",
    "\n",
    "getRecommendations(\"Toy Story\")"
   ]
  },
  {
   "cell_type": "markdown",
   "id": "503d95e4",
   "metadata": {},
   "source": [
    "## Metrics"
   ]
  },
  {
   "cell_type": "markdown",
   "id": "b557329e",
   "metadata": {},
   "source": [
    "### Popularity"
   ]
  },
  {
   "cell_type": "markdown",
   "id": "2096347a",
   "metadata": {},
   "source": [
    "Compare the recommendations with the best rated movies by those users who liked the reference movie."
   ]
  },
  {
   "cell_type": "code",
   "execution_count": 9,
   "id": "365bbf6d",
   "metadata": {},
   "outputs": [
    {
     "data": {
      "text/html": [
       "<div>\n",
       "<style scoped>\n",
       "    .dataframe tbody tr th:only-of-type {\n",
       "        vertical-align: middle;\n",
       "    }\n",
       "\n",
       "    .dataframe tbody tr th {\n",
       "        vertical-align: top;\n",
       "    }\n",
       "\n",
       "    .dataframe thead th {\n",
       "        text-align: right;\n",
       "    }\n",
       "</style>\n",
       "<table border=\"1\" class=\"dataframe\">\n",
       "  <thead>\n",
       "    <tr style=\"text-align: right;\">\n",
       "      <th></th>\n",
       "      <th>userId</th>\n",
       "      <th>movieId</th>\n",
       "      <th>rating</th>\n",
       "      <th>timestamp</th>\n",
       "    </tr>\n",
       "  </thead>\n",
       "  <tbody>\n",
       "    <tr>\n",
       "      <th>0</th>\n",
       "      <td>1</td>\n",
       "      <td>1</td>\n",
       "      <td>4.0</td>\n",
       "      <td>964982703</td>\n",
       "    </tr>\n",
       "    <tr>\n",
       "      <th>1</th>\n",
       "      <td>1</td>\n",
       "      <td>3</td>\n",
       "      <td>4.0</td>\n",
       "      <td>964981247</td>\n",
       "    </tr>\n",
       "    <tr>\n",
       "      <th>2</th>\n",
       "      <td>1</td>\n",
       "      <td>6</td>\n",
       "      <td>4.0</td>\n",
       "      <td>964982224</td>\n",
       "    </tr>\n",
       "    <tr>\n",
       "      <th>3</th>\n",
       "      <td>1</td>\n",
       "      <td>47</td>\n",
       "      <td>5.0</td>\n",
       "      <td>964983815</td>\n",
       "    </tr>\n",
       "    <tr>\n",
       "      <th>4</th>\n",
       "      <td>1</td>\n",
       "      <td>50</td>\n",
       "      <td>5.0</td>\n",
       "      <td>964982931</td>\n",
       "    </tr>\n",
       "  </tbody>\n",
       "</table>\n",
       "</div>"
      ],
      "text/plain": [
       "   userId  movieId  rating  timestamp\n",
       "0       1        1     4.0  964982703\n",
       "1       1        3     4.0  964981247\n",
       "2       1        6     4.0  964982224\n",
       "3       1       47     5.0  964983815\n",
       "4       1       50     5.0  964982931"
      ]
     },
     "execution_count": 9,
     "metadata": {},
     "output_type": "execute_result"
    }
   ],
   "source": [
    "# Get users who liked the original movie\n",
    "ratings = ml.ratings\n",
    "ratings.head()"
   ]
  },
  {
   "cell_type": "code",
   "execution_count": 10,
   "id": "3e66979e",
   "metadata": {},
   "outputs": [
    {
     "data": {
      "text/plain": [
       "['Shawshank Redemption, The',\n",
       " 'Forrest Gump',\n",
       " 'Star Wars: Episode IV - A New Hope',\n",
       " 'Pulp Fiction',\n",
       " 'Silence of the Lambs, The',\n",
       " 'Star Wars: Episode V - The Empire Strikes Back',\n",
       " 'Matrix, The',\n",
       " 'Jurassic Park',\n",
       " 'Raiders of the Lost Ark (Indiana Jones and the Raiders of the Lost Ark)',\n",
       " 'Star Wars: Episode VI - Return of the Jedi',\n",
       " 'Sixth Sense, The',\n",
       " \"Schindler's List\",\n",
       " 'Saving Private Ryan',\n",
       " 'Usual Suspects, The',\n",
       " 'Lion King, The']"
      ]
     },
     "execution_count": 10,
     "metadata": {},
     "output_type": "execute_result"
    }
   ],
   "source": [
    "movie_id = ml.name_to_movieID[movie_name]\n",
    "\n",
    "# Select only the rows corresponding to a rating equal or higher than 4 for the desired movie\n",
    "movie_ratings = ratings[(ratings['movieId'] == movie_id)& (ratings['rating'] >= 4.0)]\n",
    "len(movie_ratings)\n",
    "\n",
    "# Select the id of the users who have liked the reference movie and select the other movies they liked\n",
    "user_ids = movie_ratings['userId'].unique()\n",
    "filtered_df = ratings[ratings['userId'].isin(user_ids)]\n",
    "\n",
    "# Select only films other than the one chosen as the basis for recommendation and with a rating >=4\n",
    "filtered_df = filtered_df[(filtered_df['movieId'] != movie_id)& (filtered_df['rating'] >= 4.0)]\n",
    "\n",
    "# Count the number of times each film appears and select the top N (15)\n",
    "n=15\n",
    "movie_counts = filtered_df.groupby('movieId').size().reset_index(name='count')\n",
    "movie_counts = movie_counts.sort_values('count', ascending=False)\n",
    "top_n = movie_counts.head(n)\n",
    "\n",
    "# Translate the movieId to title\n",
    "popular_movies = [ml.movieID_to_name[key] for key in top_n['movieId']]\n",
    "popular_movies"
   ]
  },
  {
   "cell_type": "code",
   "execution_count": 11,
   "id": "ba92270f",
   "metadata": {
    "scrolled": true
   },
   "outputs": [
    {
     "data": {
      "text/plain": [
       "set()"
      ]
     },
     "execution_count": 11,
     "metadata": {},
     "output_type": "execute_result"
    }
   ],
   "source": [
    "# Check how many of these films appear in the recommendations\n",
    "intersection = set(recommendations).intersection(set(popular_movies))\n",
    "intersection"
   ]
  },
  {
   "cell_type": "code",
   "execution_count": 12,
   "id": "be6d9edf",
   "metadata": {},
   "outputs": [
    {
     "name": "stdout",
     "output_type": "stream",
     "text": [
      "Similarity between recommendations and popular movies:0.0%\n"
     ]
    }
   ],
   "source": [
    "score = round(len(intersection)/len(recommendations),4)*100\n",
    "print(\"Similarity between recommendations and popular movies:\"+str(score)+\"%\")"
   ]
  },
  {
   "cell_type": "markdown",
   "id": "e22fe0b2",
   "metadata": {},
   "source": [
    "### Popularity based only on gender"
   ]
  },
  {
   "cell_type": "markdown",
   "id": "092b9fef",
   "metadata": {},
   "source": [
    "Compare the recommendations with the best rated movies by those users who liked the reference movie. Consider only the movies that have at least one genre in common with the reference one."
   ]
  },
  {
   "cell_type": "code",
   "execution_count": 13,
   "id": "5df22b8c",
   "metadata": {},
   "outputs": [],
   "source": [
    "def filterMoviesByGenres(df, desired_genre_ids, genre_to_genreID, genres):\n",
    "\n",
    "    # Filter the dataframe to include only the movies that contain at least one of the desired genres\n",
    "    mask = [any(genres[int(movie_id)][gid] for gid in desired_genre_ids) for movie_id in df['movieId'].astype(int)]\n",
    "    filtered_df = df[mask]\n",
    "\n",
    "    return filtered_df"
   ]
  },
  {
   "cell_type": "code",
   "execution_count": 14,
   "id": "d1896b77",
   "metadata": {},
   "outputs": [],
   "source": [
    "desired_genre_ids = ml.movies_genres[movie_id]\n",
    "\n",
    "# Filter the dataset\n",
    "filtered_movies = filterMoviesByGenres(movies,desired_genre_ids,ml.genre_to_genreID,ml.movies_genres)\n",
    "filtered_movie_ids = filtered_movies['movieId'].unique()"
   ]
  },
  {
   "cell_type": "code",
   "execution_count": 15,
   "id": "5eac8163",
   "metadata": {
    "scrolled": false
   },
   "outputs": [
    {
     "data": {
      "text/plain": [
       "['Star Wars: Episode IV - A New Hope',\n",
       " 'Star Wars: Episode V - The Empire Strikes Back',\n",
       " 'Jurassic Park',\n",
       " 'Raiders of the Lost Ark (Indiana Jones and the Raiders of the Lost Ark)',\n",
       " 'Star Wars: Episode VI - Return of the Jedi',\n",
       " 'Lion King, The',\n",
       " 'Aladdin',\n",
       " 'Back to the Future',\n",
       " 'Shrek',\n",
       " 'Apollo 13',\n",
       " 'Lord of the Rings: The Return of the King, The',\n",
       " 'Lord of the Rings: The Fellowship of the Ring, The',\n",
       " 'Princess Bride, The',\n",
       " 'Monty Python and the Holy Grail',\n",
       " 'Finding Nemo']"
      ]
     },
     "execution_count": 15,
     "metadata": {},
     "output_type": "execute_result"
    }
   ],
   "source": [
    "movie_id = ml.name_to_movieID[movie_name]\n",
    "\n",
    "# Select only the rows corresponding to a rating equal or higher than 4 for the desired movie\n",
    "movie_ratings = ratings[(ratings['movieId'] == movie_id)& (ratings['rating'] >= 4.0)]\n",
    "len(movie_ratings)\n",
    "\n",
    "# Select the id of the users who have liked the reference movie and select the other movies they liked\n",
    "user_ids = movie_ratings['userId'].unique()\n",
    "filtered_df = ratings[ratings['userId'].isin(user_ids)]\n",
    "\n",
    "# Select only films other than the one chosen as the basis for recommendation and with a rating >=4\n",
    "# and that share at least one genre with the reference film\n",
    "filtered_df = filtered_df[(filtered_df['movieId'] != movie_id)& (filtered_df['rating'] >= 4.0) & (filtered_df['movieId'].isin(filtered_movie_ids))]\n",
    "# len(filtered_df)\n",
    "\n",
    "# Count the number of times each film appears and select the top N (15)\n",
    "n=15\n",
    "movie_counts = filtered_df.groupby('movieId').size().reset_index(name='count')\n",
    "movie_counts = movie_counts.sort_values('count', ascending=False)\n",
    "top_n = movie_counts.head(n)\n",
    "\n",
    "# Translate the movieId to title\n",
    "popular_movies = [ml.movieID_to_name[key] for key in top_n['movieId']]\n",
    "popular_movies"
   ]
  },
  {
   "cell_type": "code",
   "execution_count": 16,
   "id": "3011e706",
   "metadata": {
    "scrolled": true
   },
   "outputs": [
    {
     "data": {
      "text/plain": [
       "{'Shrek'}"
      ]
     },
     "execution_count": 16,
     "metadata": {},
     "output_type": "execute_result"
    }
   ],
   "source": [
    "# Check how many of these films appear in the recommendations\n",
    "intersection = set(recommendations).intersection(set(popular_movies))\n",
    "intersection"
   ]
  },
  {
   "cell_type": "code",
   "execution_count": 17,
   "id": "617c32bd",
   "metadata": {},
   "outputs": [
    {
     "name": "stdout",
     "output_type": "stream",
     "text": [
      "Similarity between recommendations and popular movies:6.67%\n"
     ]
    }
   ],
   "source": [
    "score = round(len(intersection)/len(recommendations),4)*100\n",
    "print(\"Similarity between recommendations and popular movies:\"+str(score)+\"%\")"
   ]
  },
  {
   "cell_type": "markdown",
   "id": "5955a849",
   "metadata": {},
   "source": [
    "By considering only the movies that shared at least one genre with the reference movie we improve the results"
   ]
  }
 ],
 "metadata": {
  "kernelspec": {
   "display_name": "Python 3 (ipykernel)",
   "language": "python",
   "name": "python3"
  },
  "language_info": {
   "codemirror_mode": {
    "name": "ipython",
    "version": 3
   },
   "file_extension": ".py",
   "mimetype": "text/x-python",
   "name": "python",
   "nbconvert_exporter": "python",
   "pygments_lexer": "ipython3",
   "version": "3.9.16"
  }
 },
 "nbformat": 4,
 "nbformat_minor": 5
}

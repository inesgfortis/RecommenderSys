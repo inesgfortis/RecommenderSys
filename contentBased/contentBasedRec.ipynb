{
 "cells": [
  {
   "cell_type": "code",
   "execution_count": 1,
   "id": "d80e401f",
   "metadata": {},
   "outputs": [],
   "source": [
    "import os\n",
    "os.chdir('../movies')\n",
    "from movieLens import MovieLens"
   ]
  },
  {
   "cell_type": "code",
   "execution_count": 2,
   "id": "a28c30e3",
   "metadata": {},
   "outputs": [],
   "source": [
    "ml = MovieLens()"
   ]
  },
  {
   "cell_type": "markdown",
   "id": "a18502ae",
   "metadata": {},
   "source": [
    "## Algorithm"
   ]
  },
  {
   "cell_type": "markdown",
   "id": "8668ad36",
   "metadata": {},
   "source": [
    "Recomendador basado en contenido consderando los diferentes géneros asocaidos a las películas y año de estreno "
   ]
  },
  {
   "cell_type": "code",
   "execution_count": 3,
   "id": "cd92e8c5",
   "metadata": {},
   "outputs": [],
   "source": [
    "import math\n",
    "import numpy as np\n",
    "import heapq\n",
    "\n",
    "# Cosine similarity metric (genres)\n",
    "def getGenreSimilarityScore(movieId_1, movieId_2, genres):\n",
    "    genres1 = genres[movieId_1]\n",
    "    genres2 = genres[movieId_2]\n",
    "\n",
    "    sumxx,sumxy,sumyy = 0,0,0\n",
    "\n",
    "    for i in range(len(genres1)):\n",
    "        x = genres1[i]\n",
    "        y = genres2[i]\n",
    "\n",
    "        sumxx += x*x\n",
    "        sumyy += y*y\n",
    "        sumxy += x*y\n",
    "\n",
    "    res =sumxy/math.sqrt(sumxx*sumyy)\n",
    "    return res\n",
    "\n",
    "\n",
    "# Exponential decay function\n",
    "def getYearSimilarityScore(year_movie1, year_movie2):\n",
    "    if year_movie1 == None or year_movie2 == None:\n",
    "        res = 0\n",
    "    else:\n",
    "        dif = abs(int(year_movie1)-int(year_movie2))\n",
    "        res = math.exp(-dif / 10.0)\n",
    "    return res"
   ]
  },
  {
   "cell_type": "code",
   "execution_count": 4,
   "id": "0ffff165",
   "metadata": {},
   "outputs": [],
   "source": [
    "# KNN\n",
    "def getNeighbors(movie_title,k,ml):\n",
    "\n",
    "    # Load up genre vectors for every movie\n",
    "    # ml = MovieLens()\n",
    "    #genres = ml.getGenres()\n",
    "    genres = ml.movies_genres\n",
    "\n",
    "    neighbors = []\n",
    "    #movie_title = \"Toy Story\"\n",
    "    movie_df = ml.movies[ml.movies['title'] == movie_title]\n",
    "    filtered_df = ml.movies[ml.movies['title'] != movie_title]\n",
    "\n",
    "    for index, row in filtered_df.iterrows():\n",
    "        genre_score = getGenreSimilarityScore(movie_df['movieId'].values[0],row['movieId'],genres)\n",
    "        #year_score = getYearSimilarityScore(movie_df['year'].values[0],row['year'])\n",
    "\n",
    "        #Compute the global score\n",
    "        score = genre_score #* year_score\n",
    "\n",
    "        # Add the result\n",
    "        neighbors.append((score,row['movieId']))\n",
    "\n",
    "    # Extract the top-K most-similar ratings based on the similarity score)\n",
    "    # Returns a list of tuples(score,movieId)\n",
    "    top = heapq.nlargest(k, neighbors, key=lambda t: t[0])\n",
    "    \n",
    "    top_movies = []\n",
    "    \n",
    "    for item in top:\n",
    "        title = ml.movieID_to_name.get(item[1])\n",
    "        top_movies.append(title)\n",
    "    \n",
    "    # Returns the list with the title of the top k recommendations\n",
    "    return top_movies\n",
    "\n",
    "\n",
    "#     # Compute average sim score of K neighbors weighted by user ratings\n",
    "#     simTotal = weightedSum = 0\n",
    "#     for (simScore, rating) in k_neighbors:\n",
    "#         if (simScore > 0):\n",
    "#             simTotal += simScore\n",
    "#             weightedSum += simScore * rating\n",
    "\n",
    "#     if (simTotal == 0):\n",
    "#         raise PredictionImpossible('No neighbors')\n",
    "\n",
    "#     predictedRating = weightedSum / simTotal\n",
    "\n",
    "#     return predictedRating"
   ]
  },
  {
   "cell_type": "markdown",
   "id": "068616b6",
   "metadata": {},
   "source": [
    "Tras analizar los resultados del modelo que considera ambas variables, se ha identificado que la inclusión del año de estreno de la película afecta negativamente a los resultados, ya que elimina recomendaciones intuitivas, como puede se la segunda parte. Como consecuencia, \"year_score\" no se incluye en los cálculos de las recomendaciones."
   ]
  },
  {
   "cell_type": "markdown",
   "id": "73ee5a47",
   "metadata": {},
   "source": [
    "## Evaluation"
   ]
  },
  {
   "cell_type": "code",
   "execution_count": 5,
   "id": "249ce56f",
   "metadata": {},
   "outputs": [
    {
     "data": {
      "text/plain": [
       "['Antz',\n",
       " 'Toy Story 2',\n",
       " 'Adventures of Rocky and Bullwinkle, The',\n",
       " \"Emperor's New Groove, The\",\n",
       " 'Monsters, Inc.',\n",
       " 'Wild, The',\n",
       " 'Shrek the Third',\n",
       " 'Tale of Despereaux, The',\n",
       " 'Asterix and the Vikings (Astérix et les Vikings)',\n",
       " 'Turbo',\n",
       " 'The Good Dinosaur',\n",
       " 'Moana',\n",
       " 'Space Jam',\n",
       " 'Shrek',\n",
       " \"Twelve Tasks of Asterix, The (Les douze travaux d'Astérix)\"]"
      ]
     },
     "execution_count": 5,
     "metadata": {},
     "output_type": "execute_result"
    }
   ],
   "source": [
    "movie_title = \"Toy Story\"\n",
    "\n",
    "recommendations = getNeighbors(movie_title,15,ml)\n",
    "recommendations"
   ]
  },
  {
   "cell_type": "markdown",
   "id": "434e8f21",
   "metadata": {},
   "source": [
    "### Another way to obtain recommendations"
   ]
  },
  {
   "cell_type": "markdown",
   "id": "7f9c3985",
   "metadata": {},
   "source": [
    "Método equivalente al anterior empleando las librerías de python. Recomendaciones de películas basadas en la similitud de géneros utilizando la técnica de similitud coseno."
   ]
  },
  {
   "cell_type": "code",
   "execution_count": 6,
   "id": "3e334152",
   "metadata": {
    "scrolled": true
   },
   "outputs": [],
   "source": [
    "import pandas as pd \n",
    "import numpy as np \n",
    "from sklearn.feature_extraction.text import TfidfVectorizer \n",
    "from sklearn.metrics.pairwise import cosine_similarity\n",
    "\n",
    "def getRecommendations(movie_title,k,ml): \n",
    "    \n",
    "    movies = ml.movies.copy()\n",
    "    movies['genres'] = movies['genres'].apply(lambda x: ' '.join(x))\n",
    "    \n",
    "    # TF-IDF vectorization of the movie genres\n",
    "    tfidf = TfidfVectorizer(stop_words='english') \n",
    "    tfidf_matrix = tfidf.fit_transform(movies['genres'])\n",
    "    \n",
    "    # Cosine similarity matrix between the genre vectors\n",
    "    cosine_sim = cosine_similarity(tfidf_matrix, tfidf_matrix)\n",
    "    \n",
    "    # Get the index of the movie that matches the movie_title \n",
    "    idx = movies[movies['title'] == movie_title].index[0]         \n",
    "    # Get the cosine similarity of the movie with all other movies \n",
    "    sim_scores = list(enumerate(cosine_sim[idx]))         \n",
    "    # Sort the movies by cosine similarity \n",
    "    sim_scores = sorted(sim_scores, key=lambda x: x[1], reverse=True)         \n",
    "    # Get the indices of the top k most similar movies \n",
    "    sim_scores = sim_scores[1:k+1]    \n",
    "    movie_indices = [i[0] for i in sim_scores]         \n",
    "    \n",
    "    return movies['title'].iloc[movie_indices]"
   ]
  },
  {
   "cell_type": "code",
   "execution_count": null,
   "id": "3cf6b7ef",
   "metadata": {},
   "outputs": [],
   "source": [
    "recommendations = getRecommendations(\"Toy Story\",15,ml)\n",
    "recommendations"
   ]
  },
  {
   "cell_type": "markdown",
   "id": "503d95e4",
   "metadata": {},
   "source": [
    "## Metrics"
   ]
  },
  {
   "cell_type": "code",
   "execution_count": 7,
   "id": "8feba208",
   "metadata": {},
   "outputs": [],
   "source": [
    "def computePopularity(movie_title,recommendations,ml,shared_genres = False):\n",
    "    \n",
    "    ratings = ml.ratings.copy()\n",
    "    movie_id = ml.name_to_movieID[movie_title]\n",
    "    \n",
    "    # Get users who liked the original movie\n",
    "    # Select only the rows corresponding to a rating equal or higher than 4 for the desired movie\n",
    "    movie_ratings = ratings[(ratings['movieId'] == movie_id)& (ratings['rating'] >= 4.0)]\n",
    "    len(movie_ratings)\n",
    "\n",
    "    # Select the id of the users who have liked the reference movie and select the other movies they liked\n",
    "    user_ids = movie_ratings['userId'].unique()\n",
    "    filtered_df = ratings[ratings['userId'].isin(user_ids)]\n",
    " \n",
    "    if shared_genres is False:\n",
    "        # Select only films other than the one chosen as the basis for recommendation and with a rating >=4\n",
    "        filtered_df = filtered_df[(filtered_df['movieId'] != movie_id)& (filtered_df['rating'] >= 4.0)]\n",
    "    else:\n",
    "        # Filter the dataset\n",
    "        filtered_movies = ml.filterMoviesByGenres(movie_title)\n",
    "        filtered_movie_ids = filtered_movies['movieId'].unique()\n",
    "\n",
    "        # Select only films other than the one chosen as the basis for recommendation and with a rating >=4\n",
    "        # and that share at least one genre with the reference film\n",
    "        filtered_df = filtered_df[(filtered_df['movieId'] != movie_id)& (filtered_df['rating'] >= 4.0) & (filtered_df['movieId'].isin(filtered_movie_ids))]\n",
    "\n",
    "    # Count the number of times each film appears and select the top N (15)\n",
    "    k = len(recommendations)\n",
    "    movie_counts = filtered_df.groupby('movieId').size().reset_index(name='count')\n",
    "    movie_counts = movie_counts.sort_values('count', ascending=False)\n",
    "    top_n = movie_counts.head(k)\n",
    "\n",
    "    # Translate the movieId to title\n",
    "    popular_movies = [ml.movieID_to_name[key] for key in top_n['movieId']]\n",
    "\n",
    "    # Check how many of these films appear in the recommendations\n",
    "    intersection = set(recommendations).intersection(set(popular_movies))\n",
    "    score = round(len(intersection)/len(recommendations),4)*100\n",
    "    \n",
    "    return popular_movies,score"
   ]
  },
  {
   "cell_type": "markdown",
   "id": "b557329e",
   "metadata": {},
   "source": [
    "### Popularity"
   ]
  },
  {
   "cell_type": "markdown",
   "id": "0629a55e",
   "metadata": {},
   "source": [
    "Comparación de las recomendaciones con las películas mejor valoradas por aquellos usuarios a los que les haya gustado la película de referencia para las recomendaciones."
   ]
  },
  {
   "cell_type": "code",
   "execution_count": 8,
   "id": "f0a1219d",
   "metadata": {},
   "outputs": [
    {
     "name": "stdout",
     "output_type": "stream",
     "text": [
      "Similarity between recommendations and popular movies:0.0%\n"
     ]
    }
   ],
   "source": [
    "popular_movies,score = computePopularity(\"Toy Story\",recommendations,ml)\n",
    "print(\"Similarity between recommendations and popular movies:\"+str(score)+\"%\")"
   ]
  },
  {
   "cell_type": "markdown",
   "id": "e22fe0b2",
   "metadata": {},
   "source": [
    "### Popularity based only on genres"
   ]
  },
  {
   "cell_type": "markdown",
   "id": "f1863323",
   "metadata": {},
   "source": [
    "Comparación de las recomendaciones con las películas mejor valoradas por aquellos usuarios a los que les haya gustado la película de referencia para las recomendaciones pero consierando únicamente aquellas películas que tengan al menos un género en común con la película de referencia."
   ]
  },
  {
   "cell_type": "code",
   "execution_count": 9,
   "id": "28e9efbc",
   "metadata": {
    "scrolled": true
   },
   "outputs": [
    {
     "name": "stdout",
     "output_type": "stream",
     "text": [
      "Similarity between recommendations and popular movies:6.67%\n"
     ]
    }
   ],
   "source": [
    "popular_movies2,score2 = computePopularity(\"Toy Story\",recommendations,ml,True)\n",
    "print(\"Similarity between recommendations and popular movies:\"+str(score2)+\"%\")"
   ]
  },
  {
   "cell_type": "markdown",
   "id": "9b6472ad",
   "metadata": {},
   "source": [
    "Vemos que el algoritmo obtiene mejores resultados cuando filtramos las películas populares por géneros en común con la película de referencia. En este caso, pasamos de tener cero a una coincidencia entre las recomendaciones y las películas populares"
   ]
  },
  {
   "cell_type": "markdown",
   "id": "2ef863f6",
   "metadata": {},
   "source": [
    "Por otro lado, podemos examinar las diferencias entre las películas populares según se filtre o no"
   ]
  },
  {
   "cell_type": "code",
   "execution_count": 14,
   "id": "9ff5f998",
   "metadata": {
    "scrolled": true
   },
   "outputs": [
    {
     "name": "stdout",
     "output_type": "stream",
     "text": [
      "False\n"
     ]
    },
    {
     "data": {
      "text/plain": [
       "[\"Schindler's List\",\n",
       " 'Sixth Sense, The',\n",
       " 'Matrix, The',\n",
       " 'Usual Suspects, The',\n",
       " 'Forrest Gump',\n",
       " 'Pulp Fiction',\n",
       " 'Shawshank Redemption, The',\n",
       " 'Silence of the Lambs, The',\n",
       " 'Saving Private Ryan']"
      ]
     },
     "execution_count": 14,
     "metadata": {},
     "output_type": "execute_result"
    }
   ],
   "source": [
    "print(popular_movies == popular_movies2)\n",
    "list(set(popular_movies) - set(popular_movies2))"
   ]
  },
  {
   "cell_type": "code",
   "execution_count": 15,
   "id": "a0acd782",
   "metadata": {
    "scrolled": true
   },
   "outputs": [
    {
     "data": {
      "text/plain": [
       "['Lord of the Rings: The Return of the King, The',\n",
       " 'Apollo 13',\n",
       " 'Shrek',\n",
       " 'Back to the Future',\n",
       " 'Princess Bride, The',\n",
       " 'Lord of the Rings: The Fellowship of the Ring, The',\n",
       " 'Finding Nemo',\n",
       " 'Aladdin',\n",
       " 'Monty Python and the Holy Grail']"
      ]
     },
     "execution_count": 15,
     "metadata": {},
     "output_type": "execute_result"
    }
   ],
   "source": [
    "list(set(popular_movies2) - set(popular_movies))"
   ]
  },
  {
   "cell_type": "code",
   "execution_count": null,
   "id": "14f652e1",
   "metadata": {},
   "outputs": [],
   "source": []
  },
  {
   "cell_type": "code",
   "execution_count": null,
   "id": "6a566257",
   "metadata": {},
   "outputs": [],
   "source": []
  },
  {
   "cell_type": "code",
   "execution_count": null,
   "id": "a075fd2d",
   "metadata": {},
   "outputs": [],
   "source": []
  },
  {
   "cell_type": "code",
   "execution_count": null,
   "id": "e9755c8b",
   "metadata": {},
   "outputs": [],
   "source": []
  },
  {
   "cell_type": "code",
   "execution_count": null,
   "id": "3cb4b06f",
   "metadata": {},
   "outputs": [],
   "source": []
  }
 ],
 "metadata": {
  "kernelspec": {
   "display_name": "Python 3 (ipykernel)",
   "language": "python",
   "name": "python3"
  },
  "language_info": {
   "codemirror_mode": {
    "name": "ipython",
    "version": 3
   },
   "file_extension": ".py",
   "mimetype": "text/x-python",
   "name": "python",
   "nbconvert_exporter": "python",
   "pygments_lexer": "ipython3",
   "version": "3.9.16"
  }
 },
 "nbformat": 4,
 "nbformat_minor": 5
}

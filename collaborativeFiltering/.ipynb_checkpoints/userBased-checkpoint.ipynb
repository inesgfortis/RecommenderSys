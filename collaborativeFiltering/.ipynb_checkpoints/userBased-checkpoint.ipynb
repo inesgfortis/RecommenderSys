{
 "cells": [
  {
   "cell_type": "code",
   "execution_count": 1,
   "id": "5ed4ce97",
   "metadata": {},
   "outputs": [],
   "source": [
    "import os\n",
    "os.chdir('../movies')\n",
    "from movieLens import MovieLens"
   ]
  },
  {
   "cell_type": "code",
   "execution_count": 2,
   "id": "59c56398",
   "metadata": {},
   "outputs": [],
   "source": [
    "ml = MovieLens()"
   ]
  },
  {
   "cell_type": "markdown",
   "id": "d95605bd",
   "metadata": {},
   "source": [
    "# Algorithm"
   ]
  },
  {
   "cell_type": "code",
   "execution_count": 3,
   "id": "eee9269b",
   "metadata": {},
   "outputs": [],
   "source": [
    "from surprise import Dataset\n",
    "from surprise import Reader\n",
    "from surprise import KNNWithMeans\n",
    "import heapq\n",
    "from collections import defaultdict\n",
    "from operator import itemgetter"
   ]
  },
  {
   "cell_type": "code",
   "execution_count": 4,
   "id": "463c55e7",
   "metadata": {
    "scrolled": false
   },
   "outputs": [
    {
     "data": {
      "text/html": [
       "<div>\n",
       "<style scoped>\n",
       "    .dataframe tbody tr th:only-of-type {\n",
       "        vertical-align: middle;\n",
       "    }\n",
       "\n",
       "    .dataframe tbody tr th {\n",
       "        vertical-align: top;\n",
       "    }\n",
       "\n",
       "    .dataframe thead th {\n",
       "        text-align: right;\n",
       "    }\n",
       "</style>\n",
       "<table border=\"1\" class=\"dataframe\">\n",
       "  <thead>\n",
       "    <tr style=\"text-align: right;\">\n",
       "      <th></th>\n",
       "      <th>userId</th>\n",
       "      <th>movieId</th>\n",
       "      <th>rating</th>\n",
       "      <th>timestamp</th>\n",
       "    </tr>\n",
       "  </thead>\n",
       "  <tbody>\n",
       "    <tr>\n",
       "      <th>0</th>\n",
       "      <td>1</td>\n",
       "      <td>1</td>\n",
       "      <td>4.0</td>\n",
       "      <td>964982703</td>\n",
       "    </tr>\n",
       "    <tr>\n",
       "      <th>1</th>\n",
       "      <td>1</td>\n",
       "      <td>3</td>\n",
       "      <td>4.0</td>\n",
       "      <td>964981247</td>\n",
       "    </tr>\n",
       "    <tr>\n",
       "      <th>2</th>\n",
       "      <td>1</td>\n",
       "      <td>6</td>\n",
       "      <td>4.0</td>\n",
       "      <td>964982224</td>\n",
       "    </tr>\n",
       "    <tr>\n",
       "      <th>3</th>\n",
       "      <td>1</td>\n",
       "      <td>47</td>\n",
       "      <td>5.0</td>\n",
       "      <td>964983815</td>\n",
       "    </tr>\n",
       "    <tr>\n",
       "      <th>4</th>\n",
       "      <td>1</td>\n",
       "      <td>50</td>\n",
       "      <td>5.0</td>\n",
       "      <td>964982931</td>\n",
       "    </tr>\n",
       "  </tbody>\n",
       "</table>\n",
       "</div>"
      ],
      "text/plain": [
       "   userId  movieId  rating  timestamp\n",
       "0       1        1     4.0  964982703\n",
       "1       1        3     4.0  964981247\n",
       "2       1        6     4.0  964982224\n",
       "3       1       47     5.0  964983815\n",
       "4       1       50     5.0  964982931"
      ]
     },
     "execution_count": 4,
     "metadata": {},
     "output_type": "execute_result"
    }
   ],
   "source": [
    "ratings = ml.ratings\n",
    "ratings.head()"
   ]
  },
  {
   "cell_type": "code",
   "execution_count": 5,
   "id": "d131b0b7",
   "metadata": {
    "scrolled": false
   },
   "outputs": [],
   "source": [
    "# Method from the Surprise library to load the DataFrame \n",
    "# Define the Reader object to parse the dataframe\n",
    "reader = Reader(rating_scale=(ratings['rating'].min(), ratings['rating'].max()))\n",
    "\n",
    "# Load the dataframe as a ratings dataset\n",
    "ratingsDataset = Dataset.load_from_df(ratings[['userId', 'movieId', 'rating']], reader)\n",
    "\n",
    "# Build the full trainset\n",
    "trainSet = ratingsDataset.build_full_trainset()"
   ]
  },
  {
   "cell_type": "markdown",
   "id": "15db58e6",
   "metadata": {},
   "source": [
    "## User item rating matrix"
   ]
  },
  {
   "cell_type": "markdown",
   "id": "a2c085ac",
   "metadata": {},
   "source": [
    "Matriz en la que encontramos los ratings por usuario para cada una de las películas existentes. Una columna para los usuarios y una fila en la que se encuentran todas las películas disponibles. El valor de la celda corresponde con el rating otorgado por el usuario a la película"
   ]
  },
  {
   "cell_type": "code",
   "execution_count": 6,
   "id": "121ea9d6",
   "metadata": {
    "scrolled": false
   },
   "outputs": [
    {
     "name": "stdout",
     "output_type": "stream",
     "text": [
      "Computing the pearson similarity matrix...\n",
      "Done computing similarity matrix.\n",
      "Computing the pearson similarity matrix...\n",
      "Done computing similarity matrix.\n"
     ]
    }
   ],
   "source": [
    "# Cosine similarity function\n",
    "sim_options = {'name': 'pearson',  # alternative: cosine\n",
    "               'user_based': True, # compute  similarities between users\n",
    "               'min_support':5     # minimum number of common items between users\n",
    "               }\n",
    "\n",
    "model = KNNWithMeans(sim_options=sim_options)\n",
    "model.fit(trainSet)\n",
    "simsMatrix = model.compute_similarities()"
   ]
  },
  {
   "cell_type": "markdown",
   "id": "4a27a353",
   "metadata": {},
   "source": [
    "La métrica establecida corresponde con el coeficiente de pearson, dado funciona mejor que la métrica \"cosine similarity\" en terminos de similitud entre usuarios porque tiene en cuenta como \"puntúan\" los usuarios las películas"
   ]
  },
  {
   "cell_type": "markdown",
   "id": "daca2d75",
   "metadata": {},
   "source": [
    "## User similarity matrix"
   ]
  },
  {
   "cell_type": "markdown",
   "id": "f592cac2",
   "metadata": {},
   "source": [
    "Comparamos usuarios para detectar aquellos con perfil similar al de referencia (al que queremos recomendar)"
   ]
  },
  {
   "cell_type": "code",
   "execution_count": 7,
   "id": "0da813eb",
   "metadata": {},
   "outputs": [
    {
     "data": {
      "text/plain": [
       "range(0, 610)"
      ]
     },
     "execution_count": 7,
     "metadata": {},
     "output_type": "execute_result"
    }
   ],
   "source": [
    "trainSet.all_users()"
   ]
  },
  {
   "cell_type": "code",
   "execution_count": 8,
   "id": "71720439",
   "metadata": {},
   "outputs": [
    {
     "data": {
      "text/plain": [
       "232"
      ]
     },
     "execution_count": 8,
     "metadata": {},
     "output_type": "execute_result"
    }
   ],
   "source": [
    "len(ratings[ratings['userId']==1])"
   ]
  },
  {
   "cell_type": "code",
   "execution_count": 9,
   "id": "7a819224",
   "metadata": {},
   "outputs": [],
   "source": [
    "# Reference user = user to recommend to\n",
    "referenceUser = 1 \n",
    "\n",
    "# Set the number of desired similar users\n",
    "k = 10\n",
    "\n",
    "# Get top N similar users to our reference user\n",
    "# referenceUserInnerID = trainSet.to_inner_uid(referenceUser)"
   ]
  },
  {
   "cell_type": "markdown",
   "id": "be9d10a3",
   "metadata": {},
   "source": [
    "## Look up similar users"
   ]
  },
  {
   "cell_type": "code",
   "execution_count": 10,
   "id": "a9f3390f",
   "metadata": {},
   "outputs": [],
   "source": [
    "def getNeighbors(referenceUser,k,trainSet,threshold=None):\n",
    "    \n",
    "    # Get top N similar users to our reference user\n",
    "    referenceUserInnerID = trainSet.to_inner_uid(referenceUser)\n",
    "    \n",
    "    if threshold is None:\n",
    "        similarityRow = simsMatrix[referenceUserInnerID]\n",
    "        similarUsers = []\n",
    "        for innerID, score in enumerate(similarityRow):\n",
    "            if (innerID != referenceUserInnerID):\n",
    "                similarUsers.append((innerID, score))\n",
    "                \n",
    "    # Alternative. Select users up to a similarity threshold\n",
    "    else:\n",
    "        similarUsers = [(innerID, score) for (innerID, score) in enumerate(simsMatrix[referenceUserInnerID])\n",
    "                if innerID != referenceUserInnerID and score > threshold]\n",
    "    \n",
    "    #print(len(similarUsers))\n",
    "   \n",
    "    # Get top N\n",
    "    # Sort the elements in decreasing order by score and select top N\n",
    "    kNeighbors = heapq.nlargest(k, similarUsers, key=lambda t: t[1])\n",
    "    return kNeighbors\n",
    "    "
   ]
  },
  {
   "cell_type": "code",
   "execution_count": 11,
   "id": "14ed14f2",
   "metadata": {
    "scrolled": true
   },
   "outputs": [
    {
     "data": {
      "text/plain": [
       "[(510, 0.9258200997725514),\n",
       " (8, 0.9185586535436918),\n",
       " (12, 0.8783100656536799),\n",
       " (365, 0.8728715609439696),\n",
       " (400, 0.8669214468630108),\n",
       " (534, 0.8664002254439634),\n",
       " (89, 0.8215838362577491),\n",
       " (156, 0.8017837257372732),\n",
       " (138, 0.7905694150420948),\n",
       " (475, 0.7869358789643607)]"
      ]
     },
     "execution_count": 11,
     "metadata": {},
     "output_type": "execute_result"
    }
   ],
   "source": [
    "# Option 1. No threshold\n",
    "kNeighbors = getNeighbors(referenceUser,10,trainSet)\n",
    "kNeighbors"
   ]
  },
  {
   "cell_type": "code",
   "execution_count": 12,
   "id": "21bf0b27",
   "metadata": {},
   "outputs": [
    {
     "data": {
      "text/plain": [
       "[(510, 0.9258200997725514),\n",
       " (8, 0.9185586535436918),\n",
       " (12, 0.8783100656536799),\n",
       " (365, 0.8728715609439696),\n",
       " (400, 0.8669214468630108),\n",
       " (534, 0.8664002254439634),\n",
       " (89, 0.8215838362577491),\n",
       " (156, 0.8017837257372732)]"
      ]
     },
     "execution_count": 12,
     "metadata": {},
     "output_type": "execute_result"
    }
   ],
   "source": [
    "# Option 2. Set a threshold value\n",
    "kNeighbors2 = getNeighbors(referenceUser,10,trainSet,0.8)\n",
    "kNeighbors2"
   ]
  },
  {
   "cell_type": "markdown",
   "id": "4cb3a16e",
   "metadata": {},
   "source": [
    "Vemos que el número de perfiles similares disminuye como consecuencia de estabecer un coeficiente de similitud mínimo (threshold = 0.8)"
   ]
  },
  {
   "cell_type": "markdown",
   "id": "cf34f074",
   "metadata": {},
   "source": [
    "## Candidate generation and scoring"
   ]
  },
  {
   "cell_type": "markdown",
   "id": "244bec4c",
   "metadata": {},
   "source": [
    "Selecionamos las películas que podríamos recomendar en primera instancia "
   ]
  },
  {
   "cell_type": "markdown",
   "id": "4a96f64e",
   "metadata": {},
   "source": [
    "### First approach"
   ]
  },
  {
   "cell_type": "markdown",
   "id": "36af0506",
   "metadata": {},
   "source": [
    "Normalizamos los ratings y multiplicamos por el coeficiente de semejanza entre el usuario elegido y el de referencia"
   ]
  },
  {
   "cell_type": "code",
   "execution_count": 13,
   "id": "e52037ee",
   "metadata": {},
   "outputs": [],
   "source": [
    "# Get the stuff they rated, and add up ratings for each item, weighted by user similarity\n",
    "candidates = defaultdict(float)\n",
    "for similarUser in kNeighbors:\n",
    "    innerID = similarUser[0]\n",
    "    userSimilarityScore = similarUser[1]\n",
    "    theirRatings = trainSet.ur[innerID]\n",
    "    for rating in theirRatings:\n",
    "        candidates[rating[0]] += (rating[1] / 5.0) * userSimilarityScore\n",
    "        \n",
    "# Sort the candidates by score\n",
    "candidates = sorted(candidates.items(), key=lambda t: t[1], reverse=True)\n",
    "#candidates"
   ]
  },
  {
   "cell_type": "markdown",
   "id": "885251b8",
   "metadata": {},
   "source": [
    "### Second approach"
   ]
  },
  {
   "cell_type": "code",
   "execution_count": 14,
   "id": "d03cd746",
   "metadata": {},
   "outputs": [],
   "source": [
    "# Get the stuff they rated, and add up ratings for each item, weighted by user similarity\n",
    "candidates2 = defaultdict(float)\n",
    "similaritySum = sum([similarity[1] for similarity in kNeighbors])\n",
    "for similarUser in kNeighbors:\n",
    "    innerID = similarUser[0]\n",
    "    userSimilarityScore = similarUser[1] / similaritySum\n",
    "    theirRatings = trainSet.ur[innerID]\n",
    "    for itemID, rating in theirRatings:\n",
    "        candidates2[itemID] += round(userSimilarityScore * rating,2)\n",
    "\n",
    "# Sort the candidates by score\n",
    "candidates2 = sorted(candidates2.items(), key=lambda t: t[1], reverse=True)\n",
    "#candidates2"
   ]
  },
  {
   "cell_type": "markdown",
   "id": "0c208c61",
   "metadata": {},
   "source": [
    "El primer enfoque es más sencillo pero puede estar sesgado hacia películas muy valorados, ya que sólo tiene en cuenta la suma de las valoraciones. El segundo enfoque tiene en cuenta tanto la valoración como la puntuación de similitud, lo que puede hacerlo más preciso y menos sesgado. Sin embargo, requiere más cálculos y su aplicación puede resultar más compleja."
   ]
  },
  {
   "cell_type": "markdown",
   "id": "84e97e79",
   "metadata": {},
   "source": [
    "## Candidate filtering and recommendations"
   ]
  },
  {
   "cell_type": "markdown",
   "id": "bf3332c6",
   "metadata": {},
   "source": [
    "Filtramos aquellas recomendaciones con un score pequeño y que ya haya visto el usuario. Para ello utilizamos un set porque únicamente nos interesa saber los items que el reference user ya ha visto, plus es un objeto eficiente para datasets largos"
   ]
  },
  {
   "cell_type": "code",
   "execution_count": 15,
   "id": "309421e3",
   "metadata": {},
   "outputs": [],
   "source": [
    "def filterRec(referenceUser,trainSet, candidates):\n",
    "    \n",
    "    # Get top N similar users to our reference user\n",
    "    referenceUserInnerID = trainSet.to_inner_uid(referenceUser)\n",
    "    \n",
    "    # Build a set of movies the user has already seen\n",
    "    watched = set(trainSet.ur[referenceUserInnerID])\n",
    "    \n",
    "    # Initialize a list to store the recommendations\n",
    "    recommendations = []\n",
    "\n",
    "    # Get top-rated items from similar users:\n",
    "    pos = 0\n",
    "    for itemID, ratingSum in candidates:\n",
    "        if not itemID in watched:\n",
    "            movieID = trainSet.to_raw_iid(itemID)\n",
    "            recommendation = ml.getMovieName(int(movieID)), ratingSum\n",
    "            recommendations.append(recommendation)\n",
    "            pos += 1\n",
    "            if (pos >= 10):\n",
    "                break\n",
    "\n",
    "    rec_movies = [rec[0] for rec in recommendations]\n",
    "    return rec_movies"
   ]
  },
  {
   "cell_type": "markdown",
   "id": "b059ff0c",
   "metadata": {},
   "source": [
    "ratingSum represents the total similarity of the reference user to all other users who rated that item"
   ]
  },
  {
   "cell_type": "code",
   "execution_count": 16,
   "id": "d6448b0b",
   "metadata": {},
   "outputs": [
    {
     "data": {
      "text/plain": [
       "['Lord of the Rings: The Fellowship of the Ring, The',\n",
       " 'Raiders of the Lost Ark (Indiana Jones and the Raiders of the Lost Ark)',\n",
       " 'Lord of the Rings: The Return of the King, The',\n",
       " 'Fight Club',\n",
       " 'Matrix, The',\n",
       " 'Dark Knight Rises, The',\n",
       " 'Forrest Gump',\n",
       " 'Lord of the Rings: The Two Towers, The',\n",
       " 'Gladiator',\n",
       " 'Incredibles, The']"
      ]
     },
     "execution_count": 16,
     "metadata": {},
     "output_type": "execute_result"
    }
   ],
   "source": [
    "# Results for the first approach\n",
    "rec_movies = filterRec(referenceUser,trainSet, candidates)\n",
    "rec_movies"
   ]
  },
  {
   "cell_type": "code",
   "execution_count": 17,
   "id": "07a2f0ca",
   "metadata": {},
   "outputs": [
    {
     "data": {
      "text/plain": [
       "['Lord of the Rings: The Fellowship of the Ring, The',\n",
       " 'Raiders of the Lost Ark (Indiana Jones and the Raiders of the Lost Ark)',\n",
       " 'Lord of the Rings: The Return of the King, The',\n",
       " 'Fight Club',\n",
       " 'Matrix, The',\n",
       " 'Dark Knight Rises, The',\n",
       " 'Forrest Gump',\n",
       " 'Lord of the Rings: The Two Towers, The',\n",
       " 'Gladiator',\n",
       " 'Inception']"
      ]
     },
     "execution_count": 17,
     "metadata": {},
     "output_type": "execute_result"
    }
   ],
   "source": [
    "# Results for the second approach\n",
    "rec_movies2 = filterRec(referenceUser,trainSet, candidates2)\n",
    "rec_movies2"
   ]
  },
  {
   "cell_type": "code",
   "execution_count": 18,
   "id": "3f722e3b",
   "metadata": {},
   "outputs": [
    {
     "name": "stdout",
     "output_type": "stream",
     "text": [
      "False\n"
     ]
    }
   ],
   "source": [
    "print(rec_movies == rec_movies2)"
   ]
  },
  {
   "cell_type": "markdown",
   "id": "7b6ceb33",
   "metadata": {},
   "source": [
    "Vemos que ambos métodos obtienen recomendaciones muy similares. No obstante, difieren en la última película sugerida"
   ]
  },
  {
   "cell_type": "markdown",
   "id": "83821aac",
   "metadata": {},
   "source": [
    "# Metrics"
   ]
  },
  {
   "cell_type": "code",
   "execution_count": null,
   "id": "a8a1a145",
   "metadata": {},
   "outputs": [],
   "source": []
  },
  {
   "cell_type": "code",
   "execution_count": null,
   "id": "a40a4e6c",
   "metadata": {},
   "outputs": [],
   "source": []
  },
  {
   "cell_type": "code",
   "execution_count": null,
   "id": "cb6b8e60",
   "metadata": {},
   "outputs": [],
   "source": []
  }
 ],
 "metadata": {
  "kernelspec": {
   "display_name": "Python 3 (ipykernel)",
   "language": "python",
   "name": "python3"
  },
  "language_info": {
   "codemirror_mode": {
    "name": "ipython",
    "version": 3
   },
   "file_extension": ".py",
   "mimetype": "text/x-python",
   "name": "python",
   "nbconvert_exporter": "python",
   "pygments_lexer": "ipython3",
   "version": "3.9.16"
  }
 },
 "nbformat": 4,
 "nbformat_minor": 5
}

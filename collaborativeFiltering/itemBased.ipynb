{
 "cells": [
  {
   "cell_type": "code",
   "execution_count": 1,
   "id": "5ed4ce97",
   "metadata": {},
   "outputs": [],
   "source": [
    "import os\n",
    "os.chdir('../movies')\n",
    "from movieLens import MovieLens"
   ]
  },
  {
   "cell_type": "code",
   "execution_count": 2,
   "id": "59c56398",
   "metadata": {},
   "outputs": [],
   "source": [
    "ml = MovieLens()"
   ]
  },
  {
   "cell_type": "markdown",
   "id": "d95605bd",
   "metadata": {},
   "source": [
    "# Algorithm"
   ]
  },
  {
   "cell_type": "code",
   "execution_count": 3,
   "id": "eee9269b",
   "metadata": {},
   "outputs": [],
   "source": [
    "from surprise import Dataset\n",
    "from surprise import Reader\n",
    "from surprise import KNNWithMeans\n",
    "import heapq\n",
    "from collections import defaultdict\n",
    "from operator import itemgetter"
   ]
  },
  {
   "cell_type": "code",
   "execution_count": 4,
   "id": "d131b0b7",
   "metadata": {
    "scrolled": false
   },
   "outputs": [],
   "source": [
    "# Load the rating dataset\n",
    "ratings = ml.ratings\n",
    "\n",
    "# Method from the Surprise library to load the DataFrame \n",
    "# Define the Reader object to parse the dataframe\n",
    "reader = Reader(rating_scale=(ratings['rating'].min(), ratings['rating'].max()))\n",
    "\n",
    "# Load the dataframe as a ratings dataset\n",
    "ratingsDataset = Dataset.load_from_df(ratings[['userId', 'movieId', 'rating']], reader)\n",
    "\n",
    "# Build the full trainset\n",
    "trainSet = ratingsDataset.build_full_trainset()"
   ]
  },
  {
   "cell_type": "markdown",
   "id": "15db58e6",
   "metadata": {},
   "source": [
    "## Item user rating matrix"
   ]
  },
  {
   "cell_type": "markdown",
   "id": "a2c085ac",
   "metadata": {},
   "source": [
    "Matriz en la que encontramos los ratings por película para cada uno de los usuarios existentes. Una columna para las películas y una fila en la que se encuentran todos los usuarios disponibles. El valor de la celda corresponde con el rating otorgado a cada una de las películas por el usuario correspondiente"
   ]
  },
  {
   "cell_type": "code",
   "execution_count": 5,
   "id": "121ea9d6",
   "metadata": {
    "scrolled": false
   },
   "outputs": [
    {
     "name": "stdout",
     "output_type": "stream",
     "text": [
      "Computing the cosine similarity matrix...\n",
      "Done computing similarity matrix.\n",
      "Computing the cosine similarity matrix...\n",
      "Done computing similarity matrix.\n"
     ]
    }
   ],
   "source": [
    "# Cosine similarity function\n",
    "sim_options = {'name': 'cosine',   # alternative: pearson\n",
    "               'user_based': False, # compute  similarities between films\n",
    "               'min_support':5      # minimum number of common items between users\n",
    "               }\n",
    "\n",
    "model = KNNWithMeans(sim_options=sim_options)\n",
    "model.fit(trainSet)\n",
    "simsMatrix = model.compute_similarities()"
   ]
  },
  {
   "cell_type": "markdown",
   "id": "be9d10a3",
   "metadata": {},
   "source": [
    "## Look up similar items"
   ]
  },
  {
   "cell_type": "markdown",
   "id": "34d691fd",
   "metadata": {},
   "source": [
    "Buscamos las k películas que el usuario de referencia haya valorado mejor"
   ]
  },
  {
   "cell_type": "code",
   "execution_count": 6,
   "id": "a9f3390f",
   "metadata": {},
   "outputs": [],
   "source": [
    "def getNeighbors(referenceUser,k,trainSet):\n",
    "     \n",
    "    referenceUserInnerID = trainSet.to_inner_uid(referenceUser) \n",
    "\n",
    "    # Get top N items rated\n",
    "    # Sort the elements in decreasing order by score and select top N\n",
    "    referenceUserRatings = trainSet.ur[referenceUserInnerID]\n",
    "    #print(referenceUserRatings)\n",
    "    kNeighbors = heapq.nlargest(k, referenceUserRatings, key=lambda t: t[1])\n",
    "    \n",
    "    return kNeighbors"
   ]
  },
  {
   "cell_type": "code",
   "execution_count": 7,
   "id": "7a819224",
   "metadata": {},
   "outputs": [],
   "source": [
    "# Reference user = user to recommend to\n",
    "referenceUser = 1 \n",
    "\n",
    "# Set the number of desired similar users\n",
    "k = 10"
   ]
  },
  {
   "cell_type": "code",
   "execution_count": 8,
   "id": "14ed14f2",
   "metadata": {
    "scrolled": true
   },
   "outputs": [
    {
     "data": {
      "text/plain": [
       "[(3, 5.0),\n",
       " (4, 5.0),\n",
       " (6, 5.0),\n",
       " (8, 5.0),\n",
       " (9, 5.0),\n",
       " (10, 5.0),\n",
       " (11, 5.0),\n",
       " (13, 5.0),\n",
       " (15, 5.0),\n",
       " (18, 5.0)]"
      ]
     },
     "execution_count": 8,
     "metadata": {},
     "output_type": "execute_result"
    }
   ],
   "source": [
    "# Get neighbours\n",
    "kNeighbors = getNeighbors(referenceUser,10,trainSet)\n",
    "kNeighbors"
   ]
  },
  {
   "cell_type": "markdown",
   "id": "37bb1f76",
   "metadata": {},
   "source": [
    "De esta forma se seleccionan las k primeras películas con mayor puntuación, en este caso se seleccionan las 10 primeras, pero, no deberíamos seleccionar un número variable de k de tal forma que se seleccionen todas aquellas que tengan un rating máximo (5)?"
   ]
  },
  {
   "cell_type": "markdown",
   "id": "cf34f074",
   "metadata": {},
   "source": [
    "## Candidate generation and scoring"
   ]
  },
  {
   "cell_type": "markdown",
   "id": "244bec4c",
   "metadata": {},
   "source": [
    "Selecionamos las películas que podríamos recomendar en primera instancia. Para ello normalizamos los ratings y multiplicamos por el coeficiente de semejanza entre las películas"
   ]
  },
  {
   "cell_type": "code",
   "execution_count": 9,
   "id": "e52037ee",
   "metadata": {
    "scrolled": false
   },
   "outputs": [],
   "source": [
    "# Get similar items to stuff we liked (weighted by rating)\n",
    "candidates = defaultdict(float)\n",
    "for itemID, rating in kNeighbors:\n",
    "    similarityRow = simsMatrix[itemID]\n",
    "    for innerID, score in enumerate(similarityRow):\n",
    "#         print(score)\n",
    "#         print(rating)\n",
    "        candidates[innerID] += score*(rating/5.0)\n",
    "\n",
    "# Sort the candidates by score\n",
    "candidates = sorted(candidates.items(), key=itemgetter(1), reverse=True)\n",
    "#candidates"
   ]
  },
  {
   "cell_type": "markdown",
   "id": "1e8ae3cd",
   "metadata": {},
   "source": [
    "El score corresponde con la medida cosine similarity entre las películas calculada en la matriz de similaridad, mientras que rating corresponde con la valoración del usuario"
   ]
  },
  {
   "cell_type": "markdown",
   "id": "84e97e79",
   "metadata": {},
   "source": [
    "## Candidate filtering and recommendations"
   ]
  },
  {
   "cell_type": "markdown",
   "id": "bf3332c6",
   "metadata": {},
   "source": [
    "Filtramos aquellas recomendaciones con un score pequeño y que ya haya visto el usuario. Para ello utilizamos un set porque únicamente nos interesa saber los items que el reference user ya ha visto, plus es un objeto eficiente para datasets largos"
   ]
  },
  {
   "cell_type": "code",
   "execution_count": 13,
   "id": "309421e3",
   "metadata": {},
   "outputs": [],
   "source": [
    "def filterRec(referenceUser,trainSet,k,candidates):\n",
    "    \n",
    "    # Get top N similar users to our reference user\n",
    "    referenceUserInnerID = trainSet.to_inner_uid(referenceUser)\n",
    "    \n",
    "    # Build a set of movies the user has already seen\n",
    "    watched = set(trainSet.ur[referenceUserInnerID])\n",
    "    \n",
    "    # Initialize a list to store the recommendations\n",
    "    recommendations = []\n",
    "\n",
    "    # Get top-rated items from similar users:\n",
    "    pos = 0\n",
    "    for itemID, ratingSum in candidates:\n",
    "        if not itemID in watched:\n",
    "            movieID = trainSet.to_raw_iid(itemID)\n",
    "            recommendation = ml.getMovieName(int(movieID)), ratingSum\n",
    "            recommendations.append(recommendation)\n",
    "            pos += 1\n",
    "            if (pos >= k):\n",
    "                break            \n",
    "\n",
    "    rec_movies = [rec[0] for rec in recommendations]\n",
    "    return rec_movies"
   ]
  },
  {
   "cell_type": "markdown",
   "id": "b059ff0c",
   "metadata": {},
   "source": [
    "ratingSum represents the total similarity of the reference user to all other users who rated that item"
   ]
  },
  {
   "cell_type": "code",
   "execution_count": 14,
   "id": "d6448b0b",
   "metadata": {},
   "outputs": [
    {
     "data": {
      "text/plain": [
       "['Basic Instinct',\n",
       " 'Dr. No',\n",
       " 'Good Morning, Vietnam',\n",
       " 'Femme Nikita, La (Nikita)',\n",
       " 'Green Mile, The',\n",
       " 'From Russia with Love',\n",
       " 'Seven Samurai (Shichinin no samurai)',\n",
       " 'Office Space',\n",
       " 'American History X',\n",
       " 'Goodfellas']"
      ]
     },
     "execution_count": 14,
     "metadata": {},
     "output_type": "execute_result"
    }
   ],
   "source": [
    "# Results for the first approach\n",
    "rec_movies = filterRec(referenceUser,trainSet,k,candidates)\n",
    "rec_movies"
   ]
  },
  {
   "cell_type": "markdown",
   "id": "83821aac",
   "metadata": {},
   "source": [
    "# Metrics"
   ]
  },
  {
   "cell_type": "code",
   "execution_count": null,
   "id": "a8a1a145",
   "metadata": {},
   "outputs": [],
   "source": []
  },
  {
   "cell_type": "code",
   "execution_count": null,
   "id": "a40a4e6c",
   "metadata": {},
   "outputs": [],
   "source": []
  },
  {
   "cell_type": "code",
   "execution_count": null,
   "id": "cb6b8e60",
   "metadata": {},
   "outputs": [],
   "source": []
  }
 ],
 "metadata": {
  "kernelspec": {
   "display_name": "Python 3 (ipykernel)",
   "language": "python",
   "name": "python3"
  },
  "language_info": {
   "codemirror_mode": {
    "name": "ipython",
    "version": 3
   },
   "file_extension": ".py",
   "mimetype": "text/x-python",
   "name": "python",
   "nbconvert_exporter": "python",
   "pygments_lexer": "ipython3",
   "version": "3.9.16"
  }
 },
 "nbformat": 4,
 "nbformat_minor": 5
}

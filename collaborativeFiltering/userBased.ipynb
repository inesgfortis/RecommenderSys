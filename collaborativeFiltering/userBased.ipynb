{
 "cells": [
  {
   "cell_type": "code",
   "execution_count": 1,
   "id": "5ed4ce97",
   "metadata": {},
   "outputs": [],
   "source": [
    "import os\n",
    "os.chdir('../movies')\n",
    "from movieLens import MovieLens"
   ]
  },
  {
   "cell_type": "code",
   "execution_count": 2,
   "id": "59c56398",
   "metadata": {},
   "outputs": [],
   "source": [
    "ml = MovieLens()"
   ]
  },
  {
   "cell_type": "markdown",
   "id": "d95605bd",
   "metadata": {},
   "source": [
    "# Algorithm"
   ]
  },
  {
   "cell_type": "code",
   "execution_count": 3,
   "id": "eee9269b",
   "metadata": {},
   "outputs": [],
   "source": [
    "from surprise import Dataset\n",
    "from surprise import Reader\n",
    "from surprise import KNNBasic\n",
    "import heapq\n",
    "from collections import defaultdict\n",
    "from operator import itemgetter"
   ]
  },
  {
   "cell_type": "code",
   "execution_count": 4,
   "id": "463c55e7",
   "metadata": {
    "scrolled": false
   },
   "outputs": [
    {
     "data": {
      "text/html": [
       "<div>\n",
       "<style scoped>\n",
       "    .dataframe tbody tr th:only-of-type {\n",
       "        vertical-align: middle;\n",
       "    }\n",
       "\n",
       "    .dataframe tbody tr th {\n",
       "        vertical-align: top;\n",
       "    }\n",
       "\n",
       "    .dataframe thead th {\n",
       "        text-align: right;\n",
       "    }\n",
       "</style>\n",
       "<table border=\"1\" class=\"dataframe\">\n",
       "  <thead>\n",
       "    <tr style=\"text-align: right;\">\n",
       "      <th></th>\n",
       "      <th>userId</th>\n",
       "      <th>movieId</th>\n",
       "      <th>rating</th>\n",
       "      <th>timestamp</th>\n",
       "    </tr>\n",
       "  </thead>\n",
       "  <tbody>\n",
       "    <tr>\n",
       "      <th>0</th>\n",
       "      <td>1</td>\n",
       "      <td>1</td>\n",
       "      <td>4.0</td>\n",
       "      <td>964982703</td>\n",
       "    </tr>\n",
       "    <tr>\n",
       "      <th>1</th>\n",
       "      <td>1</td>\n",
       "      <td>3</td>\n",
       "      <td>4.0</td>\n",
       "      <td>964981247</td>\n",
       "    </tr>\n",
       "    <tr>\n",
       "      <th>2</th>\n",
       "      <td>1</td>\n",
       "      <td>6</td>\n",
       "      <td>4.0</td>\n",
       "      <td>964982224</td>\n",
       "    </tr>\n",
       "    <tr>\n",
       "      <th>3</th>\n",
       "      <td>1</td>\n",
       "      <td>47</td>\n",
       "      <td>5.0</td>\n",
       "      <td>964983815</td>\n",
       "    </tr>\n",
       "    <tr>\n",
       "      <th>4</th>\n",
       "      <td>1</td>\n",
       "      <td>50</td>\n",
       "      <td>5.0</td>\n",
       "      <td>964982931</td>\n",
       "    </tr>\n",
       "  </tbody>\n",
       "</table>\n",
       "</div>"
      ],
      "text/plain": [
       "   userId  movieId  rating  timestamp\n",
       "0       1        1     4.0  964982703\n",
       "1       1        3     4.0  964981247\n",
       "2       1        6     4.0  964982224\n",
       "3       1       47     5.0  964983815\n",
       "4       1       50     5.0  964982931"
      ]
     },
     "execution_count": 4,
     "metadata": {},
     "output_type": "execute_result"
    }
   ],
   "source": [
    "ratings = ml.ratings\n",
    "ratings.head()"
   ]
  },
  {
   "cell_type": "code",
   "execution_count": 5,
   "id": "d131b0b7",
   "metadata": {
    "scrolled": false
   },
   "outputs": [],
   "source": [
    "# Method from the Surprise library to load the DataFrame \n",
    "# Define the Reader object to parse the dataframe\n",
    "reader = Reader(rating_scale=(ratings['rating'].min(), ratings['rating'].max()))\n",
    "\n",
    "# Load the dataframe as a ratings dataset\n",
    "ratingsDataset = Dataset.load_from_df(ratings[['userId', 'movieId', 'rating']], reader)\n",
    "\n",
    "# Build the full trainset\n",
    "trainSet = ratingsDataset.build_full_trainset()"
   ]
  },
  {
   "cell_type": "markdown",
   "id": "15db58e6",
   "metadata": {},
   "source": [
    "## User item rating matrix"
   ]
  },
  {
   "cell_type": "markdown",
   "id": "a2c085ac",
   "metadata": {},
   "source": [
    "Matriz en la que encontramos los ratings por usuario para cada una de las películas existentes. Una columna para los usuarios y una fila en la que se encuentran todas las películas disponibles. El valor de la celda corresponde con el rating otorgado por el usuario a la película"
   ]
  },
  {
   "cell_type": "code",
   "execution_count": 6,
   "id": "121ea9d6",
   "metadata": {
    "scrolled": true
   },
   "outputs": [
    {
     "name": "stdout",
     "output_type": "stream",
     "text": [
      "Computing the cosine similarity matrix...\n",
      "Done computing similarity matrix.\n",
      "Computing the cosine similarity matrix...\n",
      "Done computing similarity matrix.\n"
     ]
    }
   ],
   "source": [
    "# Cosine similarity function\n",
    "sim_options = {'name': 'cosine',  # alternative: pearson\n",
    "               'user_based': True # compute  similarities between users\n",
    "               }\n",
    "\n",
    "model = KNNBasic(sim_options=sim_options)\n",
    "model.fit(trainSet)\n",
    "simsMatrix = model.compute_similarities()"
   ]
  },
  {
   "cell_type": "markdown",
   "id": "daca2d75",
   "metadata": {},
   "source": [
    "## User similarity matrix"
   ]
  },
  {
   "cell_type": "markdown",
   "id": "f592cac2",
   "metadata": {},
   "source": [
    "Comparamos usuarios para detectar aquellos con perfil similar al de referencia (al que queremos recomendar)"
   ]
  },
  {
   "cell_type": "code",
   "execution_count": 7,
   "id": "0da813eb",
   "metadata": {},
   "outputs": [
    {
     "data": {
      "text/plain": [
       "range(0, 610)"
      ]
     },
     "execution_count": 7,
     "metadata": {},
     "output_type": "execute_result"
    }
   ],
   "source": [
    "trainSet.all_users()"
   ]
  },
  {
   "cell_type": "code",
   "execution_count": 8,
   "id": "71720439",
   "metadata": {},
   "outputs": [
    {
     "data": {
      "text/plain": [
       "232"
      ]
     },
     "execution_count": 8,
     "metadata": {},
     "output_type": "execute_result"
    }
   ],
   "source": [
    "len(ratings[ratings['userId']==1])"
   ]
  },
  {
   "cell_type": "code",
   "execution_count": 9,
   "id": "7a819224",
   "metadata": {},
   "outputs": [],
   "source": [
    "# Reference user = user to recommend to\n",
    "referenceUser = 1 \n",
    "\n",
    "# Set the number of desired similar users\n",
    "k = 10\n",
    "\n",
    "# Get top N similar users to our reference user\n",
    "referenceUserInnerID = trainSet.to_inner_uid(referenceUser)\n",
    "similarityRow = simsMatrix[referenceUserInnerID]"
   ]
  },
  {
   "cell_type": "markdown",
   "id": "be9d10a3",
   "metadata": {},
   "source": [
    "## Look up similar users"
   ]
  },
  {
   "cell_type": "code",
   "execution_count": 13,
   "id": "5ab0e4a2",
   "metadata": {},
   "outputs": [
    {
     "name": "stdout",
     "output_type": "stream",
     "text": [
      "609\n"
     ]
    },
    {
     "data": {
      "text/plain": [
       "[(1, 1.0),\n",
       " (11, 1.0),\n",
       " (76, 1.0),\n",
       " (84, 1.0),\n",
       " (183, 1.0),\n",
       " (244, 1.0),\n",
       " (252, 1.0),\n",
       " (290, 1.0),\n",
       " (314, 1.0),\n",
       " (357, 1.0)]"
      ]
     },
     "execution_count": 13,
     "metadata": {},
     "output_type": "execute_result"
    }
   ],
   "source": [
    "similarUsers = []\n",
    "for innerID, score in enumerate(similarityRow):\n",
    "    if (innerID != referenceUserInnerID):\n",
    "        similarUsers.append( (innerID, score) )\n",
    "\n",
    "print(len(similarUsers))\n",
    "\n",
    "# Get top N\n",
    "# Sort the elements in decreasing order by score and select top N\n",
    "kNeighbors = heapq.nlargest(k, similarUsers, key=lambda t: t[1])\n",
    "kNeighbors"
   ]
  },
  {
   "cell_type": "markdown",
   "id": "c845b3b0",
   "metadata": {},
   "source": [
    "### Alternative. Select users up to a similarity threshold of 0.9"
   ]
  },
  {
   "cell_type": "code",
   "execution_count": 15,
   "id": "43d0b781",
   "metadata": {},
   "outputs": [
    {
     "name": "stdout",
     "output_type": "stream",
     "text": [
      "Computing the cosine similarity matrix...\n",
      "Done computing similarity matrix.\n",
      "Computing the cosine similarity matrix...\n",
      "Done computing similarity matrix.\n"
     ]
    },
    {
     "data": {
      "text/plain": [
       "[(1, 1.0),\n",
       " (11, 1.0),\n",
       " (76, 1.0),\n",
       " (84, 1.0),\n",
       " (183, 1.0),\n",
       " (244, 1.0),\n",
       " (252, 1.0),\n",
       " (290, 1.0),\n",
       " (314, 1.0),\n",
       " (357, 1.0)]"
      ]
     },
     "execution_count": 15,
     "metadata": {},
     "output_type": "execute_result"
    }
   ],
   "source": [
    "from surprise import KNNWithMeans\n",
    "\n",
    "# Build the similarity matrix\n",
    "model2 = KNNWithMeans(sim_options=sim_options)\n",
    "model2.fit(trainSet)\n",
    "simsMatrix = model2.compute_similarities()\n",
    "\n",
    "# Get the inner ID of the reference user\n",
    "referenceUserInnerID = trainSet.to_inner_uid(referenceUser)\n",
    "\n",
    "# Select users up to a similarity threshold of 0.9\n",
    "similarityThreshold = 0.9\n",
    "similarUsers = [(innerID, score) for (innerID, score) in enumerate(simsMatrix[referenceUserInnerID])\n",
    "                if innerID != referenceUserInnerID and score > similarityThreshold]\n",
    "\n",
    "# Get top N\n",
    "# Sort the elements in decreasing order by score and select top N\n",
    "kNeighbors = heapq.nlargest(k, similarUsers, key=lambda t: t[1])\n",
    "kNeighbors"
   ]
  },
  {
   "cell_type": "markdown",
   "id": "4cb3a16e",
   "metadata": {},
   "source": [
    "Same results as the threshold is set to 0.9 and all users have a coincidence of 1.0"
   ]
  },
  {
   "cell_type": "markdown",
   "id": "cf34f074",
   "metadata": {},
   "source": [
    "## Candidate generation and scoring"
   ]
  },
  {
   "cell_type": "markdown",
   "id": "244bec4c",
   "metadata": {},
   "source": [
    "Selecionamos las películas que podríamos recomendar en primera instancia "
   ]
  },
  {
   "cell_type": "markdown",
   "id": "4a96f64e",
   "metadata": {},
   "source": [
    "### First approach"
   ]
  },
  {
   "cell_type": "markdown",
   "id": "36af0506",
   "metadata": {},
   "source": [
    "Normalizamos los ratings y multiplicamos por el coeficiente de semejanza entre el usuario elegido y el de referencia"
   ]
  },
  {
   "cell_type": "code",
   "execution_count": 22,
   "id": "e52037ee",
   "metadata": {},
   "outputs": [
    {
     "data": {
      "text/plain": [
       "[(238, 3.9),\n",
       " (763, 2.5),\n",
       " (253, 2.4),\n",
       " (244, 2.2),\n",
       " (252, 2.0),\n",
       " (993, 2.0),\n",
       " (987, 2.0),\n",
       " (1103, 2.0),\n",
       " (887, 1.9),\n",
       " (1066, 1.9),\n",
       " (219, 1.8),\n",
       " (254, 1.8),\n",
       " (1000, 1.8),\n",
       " (809, 1.8),\n",
       " (1055, 1.8),\n",
       " (362, 1.7000000000000002),\n",
       " (457, 1.7),\n",
       " (917, 1.7),\n",
       " (753, 1.6),\n",
       " (774, 1.6),\n",
       " (1054, 1.6),\n",
       " (1330, 1.6),\n",
       " (1345, 1.6),\n",
       " (398, 1.6),\n",
       " (331, 1.6),\n",
       " (233, 1.5),\n",
       " (249, 1.5),\n",
       " (444, 1.5),\n",
       " (1125, 1.5),\n",
       " (1365, 1.5),\n",
       " (1312, 1.4),\n",
       " (1324, 1.4),\n",
       " (926, 1.4),\n",
       " (1352, 1.3),\n",
       " (1129, 1.2000000000000002),\n",
       " (2677, 1.2000000000000002),\n",
       " (239, 1.0),\n",
       " (246, 1.0),\n",
       " (248, 1.0),\n",
       " (257, 1.0),\n",
       " (258, 1.0),\n",
       " (532, 1.0),\n",
       " (304, 1.0),\n",
       " (570, 1.0),\n",
       " (701, 1.0),\n",
       " (996, 1.0),\n",
       " (999, 1.0),\n",
       " (1001, 1.0),\n",
       " (734, 1.0),\n",
       " (1003, 1.0),\n",
       " (877, 1.0),\n",
       " (895, 1.0),\n",
       " (912, 1.0),\n",
       " (15, 1.0),\n",
       " (68, 1.0),\n",
       " (70, 1.0),\n",
       " (73, 1.0),\n",
       " (166, 1.0),\n",
       " (431, 1.0),\n",
       " (756, 1.0),\n",
       " (757, 1.0),\n",
       " (764, 1.0),\n",
       " (782, 1.0),\n",
       " (794, 1.0),\n",
       " (3711, 1.0),\n",
       " (595, 1.0),\n",
       " (28, 1.0),\n",
       " (3712, 1.0),\n",
       " (3545, 1.0),\n",
       " (2079, 1.0),\n",
       " (2457, 1.0),\n",
       " (365, 1.0),\n",
       " (2458, 1.0),\n",
       " (366, 1.0),\n",
       " (1051, 1.0),\n",
       " (5441, 1.0),\n",
       " (1980, 1.0),\n",
       " (966, 1.0),\n",
       " (2134, 1.0),\n",
       " (4722, 1.0),\n",
       " (1378, 1.0),\n",
       " (2746, 1.0),\n",
       " (1390, 1.0),\n",
       " (5460, 1.0),\n",
       " (2749, 1.0),\n",
       " (5464, 1.0),\n",
       " (5472, 1.0),\n",
       " (2437, 1.0),\n",
       " (36, 1.0),\n",
       " (353, 1.0),\n",
       " (2176, 1.0),\n",
       " (368, 1.0),\n",
       " (391, 1.0),\n",
       " (413, 1.0),\n",
       " (855, 1.0),\n",
       " (766, 1.0),\n",
       " (1128, 1.0),\n",
       " (6129, 1.0),\n",
       " (1132, 1.0),\n",
       " (779, 1.0),\n",
       " (1893, 1.0),\n",
       " (1052, 1.0),\n",
       " (2518, 1.0),\n",
       " (1933, 1.0),\n",
       " (1938, 1.0),\n",
       " (1081, 1.0),\n",
       " (2753, 1.0),\n",
       " (864, 1.0),\n",
       " (868, 1.0),\n",
       " (5933, 1.0),\n",
       " (3414, 1.0),\n",
       " (240, 0.9),\n",
       " (245, 0.9),\n",
       " (466, 0.9),\n",
       " (336, 0.9),\n",
       " (430, 0.9),\n",
       " (742, 0.9),\n",
       " (1205, 0.9),\n",
       " (2795, 0.9),\n",
       " (1152, 0.9),\n",
       " (934, 0.9),\n",
       " (1063, 0.9),\n",
       " (2829, 0.9),\n",
       " (1975, 0.9),\n",
       " (961, 0.9),\n",
       " (1074, 0.9),\n",
       " (2537, 0.9),\n",
       " (1077, 0.9),\n",
       " (3110, 0.9),\n",
       " (4714, 0.9),\n",
       " (2135, 0.9),\n",
       " (1367, 0.9),\n",
       " (1368, 0.9),\n",
       " (1082, 0.9),\n",
       " (5450, 0.9),\n",
       " (1375, 0.9),\n",
       " (2747, 0.9),\n",
       " (5457, 0.9),\n",
       " (5462, 0.9),\n",
       " (3121, 0.9),\n",
       " (3123, 0.9),\n",
       " (5465, 0.9),\n",
       " (2136, 0.9),\n",
       " (5470, 0.9),\n",
       " (5473, 0.9),\n",
       " (5474, 0.9),\n",
       " (5477, 0.9),\n",
       " (5481, 0.9),\n",
       " (2068, 0.9),\n",
       " (2171, 0.9),\n",
       " (3542, 0.9),\n",
       " (3009, 0.9),\n",
       " (1162, 0.9),\n",
       " (6128, 0.9),\n",
       " (5353, 0.9),\n",
       " (1146, 0.9),\n",
       " (2106, 0.9),\n",
       " (6130, 0.9),\n",
       " (1252, 0.9),\n",
       " (6131, 0.9),\n",
       " (3676, 0.9),\n",
       " (6132, 0.9),\n",
       " (2065, 0.9),\n",
       " (4324, 0.9),\n",
       " (2127, 0.9),\n",
       " (1059, 0.9),\n",
       " (4728, 0.9),\n",
       " (18, 0.8),\n",
       " (234, 0.8),\n",
       " (236, 0.8),\n",
       " (237, 0.8),\n",
       " (242, 0.8),\n",
       " (247, 0.8),\n",
       " (462, 0.8),\n",
       " (698, 0.8),\n",
       " (1002, 0.8),\n",
       " (870, 0.8),\n",
       " (770, 0.8),\n",
       " (475, 0.8),\n",
       " (320, 0.8),\n",
       " (348, 0.8),\n",
       " (2451, 0.8),\n",
       " (3714, 0.8),\n",
       " (3285, 0.8),\n",
       " (986, 0.8),\n",
       " (3717, 0.8),\n",
       " (3718, 0.8),\n",
       " (1514, 0.8),\n",
       " (2092, 0.8),\n",
       " (4117, 0.8),\n",
       " (4317, 0.8),\n",
       " (1946, 0.8),\n",
       " (1968, 0.8),\n",
       " (5446, 0.8),\n",
       " (1361, 0.8),\n",
       " (1366, 0.8),\n",
       " (5449, 0.8),\n",
       " (1369, 0.8),\n",
       " (4582, 0.8),\n",
       " (5451, 0.8),\n",
       " (5452, 0.8),\n",
       " (5455, 0.8),\n",
       " (5459, 0.8),\n",
       " (5461, 0.8),\n",
       " (5463, 0.8),\n",
       " (2878, 0.8),\n",
       " (5466, 0.8),\n",
       " (5480, 0.8),\n",
       " (5484, 0.8),\n",
       " (5485, 0.8),\n",
       " (5487, 0.8),\n",
       " (2424, 0.8),\n",
       " (3607, 0.8),\n",
       " (735, 0.8),\n",
       " (3608, 0.8),\n",
       " (2570, 0.8),\n",
       " (2093, 0.8),\n",
       " (841, 0.8),\n",
       " (2124, 0.8),\n",
       " (3193, 0.8),\n",
       " (4284, 0.8),\n",
       " (3589, 0.8),\n",
       " (0, 0.8),\n",
       " (755, 0.8),\n",
       " (915, 0.8),\n",
       " (1333, 0.8),\n",
       " (958, 0.8),\n",
       " (3113, 0.8),\n",
       " (3680, 0.8),\n",
       " (324, 0.8),\n",
       " (1774, 0.8),\n",
       " (343, 0.8),\n",
       " (2754, 0.8),\n",
       " (2144, 0.8),\n",
       " (1110, 0.8),\n",
       " (379, 0.8),\n",
       " (3023, 0.8),\n",
       " (1608, 0.8),\n",
       " (1182, 0.8),\n",
       " (450, 0.8),\n",
       " (5004, 0.8),\n",
       " (882, 0.8),\n",
       " (5008, 0.8),\n",
       " (3075, 0.8),\n",
       " (2330, 0.8),\n",
       " (5025, 0.8),\n",
       " (914, 0.8),\n",
       " (920, 0.8),\n",
       " (941, 0.8),\n",
       " (235, 0.7),\n",
       " (251, 0.7),\n",
       " (256, 0.7),\n",
       " (313, 0.7),\n",
       " (29, 0.7),\n",
       " (84, 0.7),\n",
       " (995, 0.7),\n",
       " (997, 0.7),\n",
       " (228, 0.7),\n",
       " (1844, 0.7),\n",
       " (5440, 0.7),\n",
       " (3099, 0.7),\n",
       " (4605, 0.7),\n",
       " (5453, 0.7),\n",
       " (5454, 0.7),\n",
       " (4430, 0.7),\n",
       " (5468, 0.7),\n",
       " (1394, 0.7),\n",
       " (5482, 0.7),\n",
       " (5486, 0.7),\n",
       " (5488, 0.7),\n",
       " (5489, 0.7),\n",
       " (5490, 0.7),\n",
       " (1444, 0.7),\n",
       " (837, 0.7),\n",
       " (2402, 0.7),\n",
       " (1733, 0.7),\n",
       " (3421, 0.7),\n",
       " (1046, 0.7),\n",
       " (5254, 0.7),\n",
       " (232, 0.6),\n",
       " (241, 0.6),\n",
       " (243, 0.6),\n",
       " (580, 0.6),\n",
       " (994, 0.6),\n",
       " (998, 0.6),\n",
       " (1796, 0.6),\n",
       " (902, 0.6),\n",
       " (2179, 0.6),\n",
       " (726, 0.6),\n",
       " (3716, 0.6),\n",
       " (2771, 0.6),\n",
       " (3350, 0.6),\n",
       " (3584, 0.6),\n",
       " (4188, 0.6),\n",
       " (5442, 0.6),\n",
       " (3100, 0.6),\n",
       " (3108, 0.6),\n",
       " (5456, 0.6),\n",
       " (5469, 0.6),\n",
       " (5475, 0.6),\n",
       " (5483, 0.6),\n",
       " (299, 0.6),\n",
       " (4039, 0.6),\n",
       " (1096, 0.6),\n",
       " (335, 0.6),\n",
       " (1099, 0.6),\n",
       " (2417, 0.6),\n",
       " (3026, 0.6),\n",
       " (3067, 0.6),\n",
       " (2686, 0.6),\n",
       " (2199, 0.6),\n",
       " (1183, 0.6),\n",
       " (6462, 0.6),\n",
       " (264, 0.6),\n",
       " (723, 0.6),\n",
       " (862, 0.6),\n",
       " (1102, 0.6),\n",
       " (2395, 0.6),\n",
       " (360, 0.6),\n",
       " (1460, 0.6),\n",
       " (4877, 0.6),\n",
       " (1546, 0.6),\n",
       " (1035, 0.6),\n",
       " (4671, 0.6),\n",
       " (3507, 0.6),\n",
       " (164, 0.6),\n",
       " (4843, 0.6),\n",
       " (1661, 0.6),\n",
       " (6718, 0.6),\n",
       " (2412, 0.6),\n",
       " (1571, 0.6),\n",
       " (866, 0.6),\n",
       " (250, 0.5),\n",
       " (1198, 0.5),\n",
       " (2126, 0.5),\n",
       " (1283, 0.5),\n",
       " (5445, 0.5),\n",
       " (1994, 0.5),\n",
       " (2016, 0.5),\n",
       " (3117, 0.5),\n",
       " (3129, 0.5),\n",
       " (2996, 0.5),\n",
       " (255, 0.4),\n",
       " (765, 0.4),\n",
       " (1047, 0.4),\n",
       " (3710, 0.4),\n",
       " (3056, 0.4),\n",
       " (2087, 0.4),\n",
       " (5439, 0.4),\n",
       " (4546, 0.4),\n",
       " (5443, 0.4),\n",
       " (5444, 0.4),\n",
       " (2842, 0.4),\n",
       " (2542, 0.4),\n",
       " (4635, 0.4),\n",
       " (5471, 0.4),\n",
       " (1027, 0.4),\n",
       " (2689, 0.4),\n",
       " (2758, 0.4),\n",
       " (2918, 0.4),\n",
       " (5065, 0.4),\n",
       " (1180, 0.4),\n",
       " (894, 0.4),\n",
       " (1932, 0.4),\n",
       " (7050, 0.4),\n",
       " (5447, 0.3),\n",
       " (2882, 0.3),\n",
       " (5476, 0.3),\n",
       " (5478, 0.3),\n",
       " (1124, 0.2),\n",
       " (976, 0.2),\n",
       " (361, 0.2),\n",
       " (3713, 0.2),\n",
       " (3715, 0.2),\n",
       " (5448, 0.2),\n",
       " (5458, 0.2),\n",
       " (64, 0.2),\n",
       " (1685, 0.2),\n",
       " (6018, 0.2),\n",
       " (1085, 0.2),\n",
       " (7045, 0.2),\n",
       " (148, 0.2),\n",
       " (1910, 0.2),\n",
       " (7048, 0.2),\n",
       " (5467, 0.1),\n",
       " (5479, 0.1),\n",
       " (7046, 0.1),\n",
       " (7047, 0.1),\n",
       " (7049, 0.1),\n",
       " (7051, 0.1)]"
      ]
     },
     "execution_count": 22,
     "metadata": {},
     "output_type": "execute_result"
    }
   ],
   "source": [
    "# Get the stuff they rated, and add up ratings for each item, weighted by user similarity\n",
    "candidates = defaultdict(float)\n",
    "for similarUser in kNeighbors:\n",
    "    innerID = similarUser[0]\n",
    "    userSimilarityScore = similarUser[1]\n",
    "    theirRatings = trainSet.ur[innerID]\n",
    "    for rating in theirRatings:\n",
    "        candidates[rating[0]] += (rating[1] / 5.0) * userSimilarityScore\n",
    "        \n",
    "# Sort the candidates by score\n",
    "candidates = sorted(candidates.items(), key=lambda t: t[1], reverse=True)\n",
    "candidates"
   ]
  },
  {
   "cell_type": "markdown",
   "id": "885251b8",
   "metadata": {},
   "source": [
    "### Second approach"
   ]
  },
  {
   "cell_type": "code",
   "execution_count": 23,
   "id": "d03cd746",
   "metadata": {},
   "outputs": [],
   "source": [
    "# Get the stuff they rated, and add up ratings for each item, weighted by user similarity\n",
    "candidates2 = defaultdict(float)\n",
    "similaritySum = sum([similarity[1] for similarity in kNeighbors])\n",
    "for similarUser in kNeighbors:\n",
    "    innerID = similarUser[0]\n",
    "    userSimilarityScore = similarUser[1] / similaritySum\n",
    "    theirRatings = trainSet.ur[innerID]\n",
    "    for itemID, rating in theirRatings:\n",
    "        candidates2[itemID] += round(userSimilarityScore * rating,2)\n",
    "\n",
    "# Sort the candidates by score\n",
    "candidates2 = sorted(candidates2.items(), key=lambda t: t[1], reverse=True)\n",
    "#candidates2"
   ]
  },
  {
   "cell_type": "markdown",
   "id": "0c208c61",
   "metadata": {},
   "source": [
    "El primer enfoque es más sencillo pero puede estar sesgado hacia películas muy valorados, ya que sólo tiene en cuenta la suma de las valoraciones. El segundo enfoque tiene en cuenta tanto la valoración como la puntuación de similitud, lo que puede hacerlo más preciso y menos sesgado. Sin embargo, requiere más cálculos y su aplicación puede resultar más compleja."
   ]
  },
  {
   "cell_type": "markdown",
   "id": "84e97e79",
   "metadata": {},
   "source": [
    "## Candidate filtering and recommendations"
   ]
  },
  {
   "cell_type": "markdown",
   "id": "bf3332c6",
   "metadata": {},
   "source": [
    "Filtramos aquellas recomendaciones con un score pequeño y que ya haya visto el usuario"
   ]
  },
  {
   "cell_type": "code",
   "execution_count": 24,
   "id": "a28b83e7",
   "metadata": {},
   "outputs": [],
   "source": [
    " # Build a set of movies the user has already seen\n",
    "watched = set(trainSet.ur[referenceUserInnerID])"
   ]
  },
  {
   "cell_type": "markdown",
   "id": "c80c98ab",
   "metadata": {},
   "source": [
    "Utilizamos un set porque únicamente nos interesa saber los items que el reference user ya ha visto, plus es un objeto eficiente para datasets largos"
   ]
  },
  {
   "cell_type": "code",
   "execution_count": 30,
   "id": "493b99c9",
   "metadata": {
    "scrolled": true
   },
   "outputs": [
    {
     "data": {
      "text/plain": [
       "['Dark Knight, The',\n",
       " 'Harry Potter and the Chamber of Secrets',\n",
       " 'Interstellar',\n",
       " 'Inception',\n",
       " 'Wolf of Wall Street, The',\n",
       " 'Shine',\n",
       " 'Titanic',\n",
       " 'To Kill a Mockingbird',\n",
       " 'Notebook, The',\n",
       " 'Avengers, The',\n",
       " 'Gladiator']"
      ]
     },
     "execution_count": 30,
     "metadata": {},
     "output_type": "execute_result"
    }
   ],
   "source": [
    "# Initialize a list to store the recommendations\n",
    "recommendations = []\n",
    "\n",
    "# Get top-rated items from similar users:\n",
    "pos = 0\n",
    "for itemID, ratingSum in candidates:\n",
    "    if not itemID in watched:\n",
    "        movieID = trainSet.to_raw_iid(itemID)\n",
    "        recommendation = ml.getMovieName(int(movieID)), ratingSum\n",
    "        recommendations.append(recommendation)\n",
    "        pos += 1\n",
    "        if (pos > 10):\n",
    "            break\n",
    "\n",
    "rec_movies = [rec[0] for rec in recommendations]\n",
    "rec_movies"
   ]
  },
  {
   "cell_type": "markdown",
   "id": "b059ff0c",
   "metadata": {},
   "source": [
    "ratingSum represents the total similarity of the reference user to all other users who rated that item"
   ]
  },
  {
   "cell_type": "markdown",
   "id": "c1c79d8f",
   "metadata": {},
   "source": [
    "### Results for second approach"
   ]
  },
  {
   "cell_type": "code",
   "execution_count": 29,
   "id": "d5e36b2a",
   "metadata": {
    "scrolled": false
   },
   "outputs": [
    {
     "data": {
      "text/plain": [
       "['Dark Knight, The',\n",
       " 'Harry Potter and the Chamber of Secrets',\n",
       " 'Interstellar',\n",
       " 'Inception',\n",
       " 'Wolf of Wall Street, The',\n",
       " 'Shine',\n",
       " 'Titanic',\n",
       " 'To Kill a Mockingbird',\n",
       " 'Notebook, The',\n",
       " 'Avengers, The',\n",
       " 'Gladiator']"
      ]
     },
     "execution_count": 29,
     "metadata": {},
     "output_type": "execute_result"
    }
   ],
   "source": [
    "# Initialize a list to store the recommendations\n",
    "recommendations = []\n",
    "\n",
    "# Get top-rated items from similar users:\n",
    "pos = 0\n",
    "for itemID, ratingSum in candidates2:\n",
    "    if not itemID in watched:\n",
    "        movieID = trainSet.to_raw_iid(itemID)\n",
    "        recommendation = ml.getMovieName(int(movieID)), ratingSum\n",
    "        recommendations.append(recommendation)\n",
    "        pos += 1\n",
    "        if (pos > 10):\n",
    "            break\n",
    "\n",
    "rec_movies2 = [rec[0] for rec in recommendations]\n",
    "rec_movies2"
   ]
  },
  {
   "cell_type": "code",
   "execution_count": 31,
   "id": "3f722e3b",
   "metadata": {},
   "outputs": [
    {
     "name": "stdout",
     "output_type": "stream",
     "text": [
      "True\n"
     ]
    }
   ],
   "source": [
    "print(rec_movies == rec_movies2)"
   ]
  },
  {
   "cell_type": "markdown",
   "id": "7b6ceb33",
   "metadata": {},
   "source": [
    "Mismas recomendaciones para ambos métodos"
   ]
  }
 ],
 "metadata": {
  "kernelspec": {
   "display_name": "Python 3 (ipykernel)",
   "language": "python",
   "name": "python3"
  },
  "language_info": {
   "codemirror_mode": {
    "name": "ipython",
    "version": 3
   },
   "file_extension": ".py",
   "mimetype": "text/x-python",
   "name": "python",
   "nbconvert_exporter": "python",
   "pygments_lexer": "ipython3",
   "version": "3.9.16"
  }
 },
 "nbformat": 4,
 "nbformat_minor": 5
}

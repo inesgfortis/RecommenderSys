{
 "cells": [
  {
   "cell_type": "code",
   "execution_count": 1,
   "metadata": {},
   "outputs": [],
   "source": [
    "movies = [\n",
    "    {\n",
    "        \"title\": \"The Shawshank Redemption\",\n",
    "        \"year\": 1994,\n",
    "        \"genre\": \"Drama\"\n",
    "    },\n",
    "    {\n",
    "        \"title\": \"The Godfather\",\n",
    "        \"year\": 1972,\n",
    "        \"genre\": \"Crime\"\n",
    "    },\n",
    "    {\n",
    "        \"title\": \"Pulp Fiction\",\n",
    "        \"year\": 1994,\n",
    "        \"genre\": \"Crime\"\n",
    "    },\n",
    "    {\n",
    "        \"title\": \"Fight Club\",\n",
    "        \"year\": 1999,\n",
    "        \"genre\": \"Drama\"\n",
    "    },\n",
    "    {\n",
    "        \"title\": \"Forrest Gump\",\n",
    "        \"year\": 1994,\n",
    "        \"genre\": \"Drama\"\n",
    "    }\n",
    "]"
   ]
  },
  {
   "cell_type": "code",
   "execution_count": 2,
   "metadata": {},
   "outputs": [
    {
     "data": {
      "text/plain": [
       "list"
      ]
     },
     "execution_count": 2,
     "metadata": {},
     "output_type": "execute_result"
    }
   ],
   "source": [
    "type(movies)"
   ]
  },
  {
   "cell_type": "code",
   "execution_count": 5,
   "metadata": {},
   "outputs": [
    {
     "name": "stdout",
     "output_type": "stream",
     "text": [
      "The Shawshank Redemption\n",
      "The Godfather\n",
      "Pulp Fiction\n",
      "Fight Club\n",
      "Forrest Gump\n"
     ]
    }
   ],
   "source": [
    "for movie in movies:\n",
    "    print(movie['title'])"
   ]
  },
  {
   "cell_type": "code",
   "execution_count": 1,
   "metadata": {},
   "outputs": [],
   "source": [
    "import pickle\n",
    "\n",
    "# Load recommendations\n",
    "with open('recommendations.pkl', 'rb') as file:\n",
    "    recommendations = pickle.load(file)"
   ]
  },
  {
   "cell_type": "code",
   "execution_count": 10,
   "metadata": {},
   "outputs": [],
   "source": [
    "a = recommendations.keys()"
   ]
  },
  {
   "cell_type": "code",
   "execution_count": 14,
   "metadata": {},
   "outputs": [
    {
     "data": {
      "text/plain": [
       "False"
      ]
     },
     "execution_count": 14,
     "metadata": {},
     "output_type": "execute_result"
    }
   ],
   "source": [
    "def checkUser(number, num_list):\n",
    "    if number in num_list:\n",
    "        return True\n",
    "    else:\n",
    "        return False\n",
    "checkUser(611,a)"
   ]
  }
 ],
 "metadata": {
  "kernelspec": {
   "display_name": "base",
   "language": "python",
   "name": "python3"
  },
  "language_info": {
   "codemirror_mode": {
    "name": "ipython",
    "version": 3
   },
   "file_extension": ".py",
   "mimetype": "text/x-python",
   "name": "python",
   "nbconvert_exporter": "python",
   "pygments_lexer": "ipython3",
   "version": "3.9.16"
  },
  "orig_nbformat": 4
 },
 "nbformat": 4,
 "nbformat_minor": 2
}

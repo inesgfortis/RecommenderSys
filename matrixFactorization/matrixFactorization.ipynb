{
 "cells": [
  {
   "cell_type": "code",
   "execution_count": 1,
   "id": "0b4c2432",
   "metadata": {},
   "outputs": [],
   "source": [
    "import os\n",
    "os.chdir('../movies')\n",
    "from movieLens import MovieLens\n",
    "\n",
    "# Load the movie Lens class\n",
    "ml = MovieLens()"
   ]
  },
  {
   "cell_type": "markdown",
   "id": "bbeaa164",
   "metadata": {},
   "source": [
    "# Algorithm"
   ]
  },
  {
   "cell_type": "code",
   "execution_count": 2,
   "id": "79bafcb1",
   "metadata": {},
   "outputs": [],
   "source": [
    "from surprise import Dataset, Reader, SVD, SVDpp\n",
    "from surprise.model_selection import train_test_split, GridSearchCV\n",
    "from surprise import accuracy\n",
    "import pandas as pd\n",
    "import numpy as np\n",
    "import pickle"
   ]
  },
  {
   "cell_type": "code",
   "execution_count": 3,
   "id": "ca4ae9dd",
   "metadata": {},
   "outputs": [],
   "source": [
    "# Load the ratings dataset\n",
    "ratings = ml.ratings.copy()\n",
    "\n",
    "# Method from the Surprise library to load the DataFrame \n",
    "# Define the Reader object to parse the dataframe\n",
    "reader = Reader(rating_scale=(ratings['rating'].min(), ratings['rating'].max()))\n",
    "\n",
    "# Load the dataframe as a ratings dataset\n",
    "ratingsDataset = Dataset.load_from_df(ratings[['userId', 'movieId', 'rating']], reader)\n",
    "\n",
    "# Build the full trainset\n",
    "trainSet, testSet = train_test_split(ratingsDataset, test_size=0.2, random_state=42)\n",
    "antitest = trainSet.build_anti_testset()"
   ]
  },
  {
   "cell_type": "markdown",
   "id": "cae9505b",
   "metadata": {},
   "source": [
    "## 1. SVD (Singular Value Decomposition)"
   ]
  },
  {
   "cell_type": "code",
   "execution_count": 4,
   "id": "bf5c4ab5",
   "metadata": {},
   "outputs": [],
   "source": [
    "SVD = SVD()\n",
    "SVD.fit(trainSet)\n",
    "\n",
    "# Get test and antitest predictions\n",
    "predtest = SVD.test(testSet)\n",
    "predantitest = SVD.test(antitest)"
   ]
  },
  {
   "cell_type": "code",
   "execution_count": 5,
   "id": "96dfb54a",
   "metadata": {
    "scrolled": false
   },
   "outputs": [],
   "source": [
    "# # Perform Hyperparameter tuning\n",
    "# print(\"Searching for best parameters...\")\n",
    "# param_grid = {'n_epochs': [20, 30], 'lr_all': [0.005, 0.010], 'n_factors': [50, 100]}\n",
    "# gs = GridSearchCV(SVD, param_grid, measures=['rmse', 'mae'], cv=3)\n",
    "\n",
    "# gs.fit(trainSet)\n",
    "\n",
    "# params = gs.best_params['rmse']\n",
    "# SVDtuned = SVD(n_epochs=params['n_epochs'], lr_all=params['lr_all'], n_factors=params['n_factors'])\n",
    "\n",
    "# # Get test predictions\n",
    "# predtestTuned = SVDtuned.test(testSet)"
   ]
  },
  {
   "cell_type": "markdown",
   "id": "44a70b48",
   "metadata": {},
   "source": [
    "https://scikit-learn.org/stable/modules/generated/sklearn.model_selection.GridSearchCV.html"
   ]
  },
  {
   "cell_type": "markdown",
   "id": "2f1c501a",
   "metadata": {},
   "source": [
    "## 2. SVDPlusPlus"
   ]
  },
  {
   "cell_type": "code",
   "execution_count": 6,
   "id": "1595199b",
   "metadata": {},
   "outputs": [],
   "source": [
    "SVDPlusPlus = SVDpp()\n",
    "SVDPlusPlus.fit(trainSet)\n",
    "\n",
    "# Get test and antitest predictions\n",
    "predtestPlusPlus = SVDPlusPlus.test(testSet)\n",
    "predantitestPlusPlus = SVDPlusPlus.test(antitest)"
   ]
  },
  {
   "cell_type": "markdown",
   "id": "0dfac998",
   "metadata": {},
   "source": [
    "# Metrics"
   ]
  },
  {
   "cell_type": "code",
   "execution_count": 7,
   "id": "f70b27e8",
   "metadata": {},
   "outputs": [],
   "source": [
    "import os\n",
    "os.chdir('../metrics')\n",
    "from metrics import evaluationMetrics\n",
    "em = evaluationMetrics()"
   ]
  },
  {
   "cell_type": "code",
   "execution_count": 8,
   "id": "7ceddce9",
   "metadata": {},
   "outputs": [],
   "source": [
    "# Get top N recommended movies for each user based on estimated ratings\n",
    "top_10_SVD = em.getTopN(predantitest,minimumRating = 3.5)\n",
    "top_10_SVD_PlusPlus = em.getTopN(predantitestPlusPlus,minimumRating = 3.5)"
   ]
  },
  {
   "cell_type": "code",
   "execution_count": 9,
   "id": "c00461df",
   "metadata": {},
   "outputs": [],
   "source": [
    "# Save the recommended movies for each user made by the algorithm SVD++\n",
    "with open('../dashboard/recommendations.pkl', 'wb') as file:\n",
    "    pickle.dump(top_10_SVD_PlusPlus, file)"
   ]
  },
  {
   "cell_type": "markdown",
   "id": "fcb98c3d",
   "metadata": {},
   "source": [
    "## Métricas de precisión: RMSE y MAE"
   ]
  },
  {
   "cell_type": "code",
   "execution_count": 10,
   "id": "d2ee0c86",
   "metadata": {
    "scrolled": false
   },
   "outputs": [
    {
     "name": "stdout",
     "output_type": "stream",
     "text": [
      "RMSE: 0.8806\n",
      "RMSE: 0.8679\n",
      "MAE:  0.6763\n",
      "MAE:  0.6656\n"
     ]
    }
   ],
   "source": [
    "# RMSE\n",
    "rmse = accuracy.rmse(predtest)\n",
    "rmsePlusPlus = accuracy.rmse(predtestPlusPlus)\n",
    "\n",
    "# MAE\n",
    "mae = accuracy.mae(predtest)\n",
    "maePlusPlus = accuracy.mae(predtestPlusPlus)"
   ]
  },
  {
   "cell_type": "markdown",
   "id": "961f7efb",
   "metadata": {},
   "source": [
    "## Métricas de relevancia: Precision, Recall y NDCG"
   ]
  },
  {
   "cell_type": "code",
   "execution_count": 11,
   "id": "aae5ca6f",
   "metadata": {},
   "outputs": [],
   "source": [
    "# Precision\n",
    "precisions = em.getPrecision(predtest, k=10, threshold=3.5)\n",
    "precisionsPlusPlus = em.getPrecision(predtestPlusPlus, k=10, threshold=3.5)\n",
    "\n",
    "# Mean Average Precision\n",
    "mapSVD = np.mean(list(precisions.values()))\n",
    "mapSVDPlusPlus = np.mean(list(precisionsPlusPlus.values()))\n",
    "\n",
    "# Recall\n",
    "recalls = em.getRecall(predtest, k=10, threshold=3.5)\n",
    "recallsPlusPlus = em.getRecall(predtestPlusPlus, k=10, threshold=3.5)\n",
    "\n",
    "# Mean Average Recall\n",
    "marSVD = np.mean(list(recalls.values()))\n",
    "marSVDPlusPlus = np.mean(list(recallsPlusPlus.values()))\n",
    "\n",
    "# Normalized discounted cummulative gain (NDCG)\n",
    "ndcgs, mean_ndcg = em.getNDCG(predtest,10)\n",
    "ndcgsPlusPlus, mean_ndcgPlusPlus = em.getNDCG(predtestPlusPlus,10)"
   ]
  },
  {
   "cell_type": "markdown",
   "id": "c64cc8d0",
   "metadata": {},
   "source": [
    "Guardamos la variable precisions del modelo SVD++ para poder analizarla posteriormente en profundidad"
   ]
  },
  {
   "cell_type": "code",
   "execution_count": 12,
   "id": "fceb83f5",
   "metadata": {},
   "outputs": [],
   "source": [
    "# Save the variable precisions into a file\n",
    "with open('precisions_svd.pkl', 'wb') as file:\n",
    "    pickle.dump(precisionsPlusPlus, file)"
   ]
  },
  {
   "cell_type": "markdown",
   "id": "0c5761e1",
   "metadata": {},
   "source": [
    "## Otras métricas de interés: Coverage, User Coverage y Novelty"
   ]
  },
  {
   "cell_type": "code",
   "execution_count": 13,
   "id": "e4b48b45",
   "metadata": {},
   "outputs": [],
   "source": [
    "# Coverage\n",
    "coverage = em.getCoverage(top_10_SVD,trainSet.n_items,trainSet.all_users())\n",
    "coveragePlusPlus = em.getCoverage(top_10_SVD_PlusPlus,trainSet.n_items,trainSet.all_users())\n",
    "\n",
    "# User coverage\n",
    "user_coverage = em.getUserCoverage(top_10_SVD, trainSet.n_users,4)\n",
    "user_coveragePlusPlus = em.getUserCoverage(top_10_SVD_PlusPlus, trainSet.n_users,4)\n",
    "\n",
    "# Novelty\n",
    "novelty = em.getNovelty(top_10_SVD,trainSet)\n",
    "noveltyPlusPlus = em.getNovelty(top_10_SVD_PlusPlus,trainSet)"
   ]
  },
  {
   "cell_type": "markdown",
   "id": "35f2cb8c",
   "metadata": {},
   "source": [
    "Por último creamos un dataframe con todas las métricas de evaluación asociadas a cada uno de los modelos"
   ]
  },
  {
   "cell_type": "code",
   "execution_count": 14,
   "id": "b62c07b0",
   "metadata": {
    "scrolled": true
   },
   "outputs": [
    {
     "data": {
      "text/html": [
       "<div>\n",
       "<style scoped>\n",
       "    .dataframe tbody tr th:only-of-type {\n",
       "        vertical-align: middle;\n",
       "    }\n",
       "\n",
       "    .dataframe tbody tr th {\n",
       "        vertical-align: top;\n",
       "    }\n",
       "\n",
       "    .dataframe thead th {\n",
       "        text-align: right;\n",
       "    }\n",
       "</style>\n",
       "<table border=\"1\" class=\"dataframe\">\n",
       "  <thead>\n",
       "    <tr style=\"text-align: right;\">\n",
       "      <th></th>\n",
       "      <th>Model</th>\n",
       "      <th>RMSE</th>\n",
       "      <th>MAE</th>\n",
       "      <th>MAP</th>\n",
       "      <th>MAR</th>\n",
       "      <th>Mean_NDCG</th>\n",
       "      <th>Coverage</th>\n",
       "      <th>User_Coverage</th>\n",
       "      <th>Novelty</th>\n",
       "    </tr>\n",
       "  </thead>\n",
       "  <tbody>\n",
       "    <tr>\n",
       "      <th>0</th>\n",
       "      <td>SVD</td>\n",
       "      <td>0.880645</td>\n",
       "      <td>0.676287</td>\n",
       "      <td>0.746591</td>\n",
       "      <td>0.453451</td>\n",
       "      <td>0.953476</td>\n",
       "      <td>0.035618</td>\n",
       "      <td>0.922951</td>\n",
       "      <td>403.905821</td>\n",
       "    </tr>\n",
       "    <tr>\n",
       "      <th>1</th>\n",
       "      <td>SVDPlusPlus</td>\n",
       "      <td>0.867920</td>\n",
       "      <td>0.665559</td>\n",
       "      <td>1.000000</td>\n",
       "      <td>0.450450</td>\n",
       "      <td>0.954960</td>\n",
       "      <td>0.035506</td>\n",
       "      <td>0.900000</td>\n",
       "      <td>752.859108</td>\n",
       "    </tr>\n",
       "  </tbody>\n",
       "</table>\n",
       "</div>"
      ],
      "text/plain": [
       "         Model      RMSE       MAE       MAP       MAR  Mean_NDCG  Coverage  \\\n",
       "0          SVD  0.880645  0.676287  0.746591  0.453451   0.953476  0.035618   \n",
       "1  SVDPlusPlus  0.867920  0.665559  1.000000  0.450450   0.954960  0.035506   \n",
       "\n",
       "   User_Coverage     Novelty  \n",
       "0       0.922951  403.905821  \n",
       "1       0.900000  752.859108  "
      ]
     },
     "execution_count": 14,
     "metadata": {},
     "output_type": "execute_result"
    }
   ],
   "source": [
    "cols = [\"Model\",\"RMSE\",\"MAE\",\"MAP\",\"MAR\",\"Mean_NDCG\",\"Coverage\",\"User_Coverage\",\"Novelty\"]\n",
    "metrics_data = []\n",
    "\n",
    "# Append the results to the list of dictionaries\n",
    "metrics_data.append({\"Model\": \"SVD\", \"RMSE\": rmse, \"MAE\": mae, \"MAP\": mapSVD, \"MAR\": marSVD,\n",
    "                     \"Mean_NDCG\": mean_ndcg, \"Coverage\": coverage, \"User_Coverage\": user_coverage,\n",
    "                     \"Novelty\": novelty})\n",
    "\n",
    "metrics_data.append({\"Model\": \"SVDPlusPlus\", \"RMSE\": rmsePlusPlus, \"MAE\": maePlusPlus,\n",
    "                     \"MAP\": mapSVDPlusPlus, \"MAR\": marSVDPlusPlus, \"Mean_NDCG\": mean_ndcgPlusPlus,\n",
    "                     \"Coverage\": coveragePlusPlus, \"User_Coverage\": user_coveragePlusPlus,\n",
    "                     \"Novelty\": noveltyPlusPlus})\n",
    "\n",
    "# Convert the list of dictionaries into a DataFrame\n",
    "metrics_df = pd.DataFrame(metrics_data, columns=cols)\n",
    "metrics_df"
   ]
  },
  {
   "cell_type": "markdown",
   "id": "1535eafd",
   "metadata": {},
   "source": [
    "Finalmente añadimos los resultados al dataframe con la métricas de todos los modelos"
   ]
  },
  {
   "cell_type": "code",
   "execution_count": 15,
   "id": "4750ac28",
   "metadata": {},
   "outputs": [],
   "source": [
    "# Add the results to the dataframe with the metrics of all models.\n",
    "em.addToMetricsDataframe(metrics_df)"
   ]
  },
  {
   "cell_type": "markdown",
   "id": "c66c7dfd",
   "metadata": {},
   "source": [
    "Y guardamos las recomendaciones resultantes del modelo para los dos usuarios de referencias (userId = 1 y userId = 4)"
   ]
  },
  {
   "cell_type": "code",
   "execution_count": 16,
   "id": "192b2251",
   "metadata": {},
   "outputs": [],
   "source": [
    "# Obtain the desired recomendations for user 1\n",
    "recs_user1_SVD = [ml.movieID_to_name[movie_id] for movie_id, _ in top_10_SVD[1]]\n",
    "recs_user1_SVD_PlusPlus = [ml.movieID_to_name[movie_id] for movie_id, _ in top_10_SVD_PlusPlus[1]]\n",
    "\n",
    "em.addUserRecommendations(\"rec_user1.xlsx\", \"SVD\", recs_user1_SVD)\n",
    "em.addUserRecommendations(\"rec_user1.xlsx\", \"SVDPlusPlus\", recs_user1_SVD_PlusPlus)\n",
    "\n",
    "\n",
    "# Obtain the desired recomendations for user 4\n",
    "recs_user4_SVD = [ml.movieID_to_name[movie_id] for movie_id, _ in top_10_SVD[4]]\n",
    "recs_user4_SVD_PlusPlus = [ml.movieID_to_name[movie_id] for movie_id, _ in top_10_SVD_PlusPlus[4]]\n",
    "\n",
    "em.addUserRecommendations(\"rec_user4.xlsx\", \"SVD\", recs_user4_SVD)\n",
    "em.addUserRecommendations(\"rec_user4.xlsx\", \"SVDPlusPlus\", recs_user4_SVD_PlusPlus)"
   ]
  }
 ],
 "metadata": {
  "kernelspec": {
   "display_name": "Python 3 (ipykernel)",
   "language": "python",
   "name": "python3"
  },
  "language_info": {
   "codemirror_mode": {
    "name": "ipython",
    "version": 3
   },
   "file_extension": ".py",
   "mimetype": "text/x-python",
   "name": "python",
   "nbconvert_exporter": "python",
   "pygments_lexer": "ipython3",
   "version": "3.9.16"
  }
 },
 "nbformat": 4,
 "nbformat_minor": 5
}
